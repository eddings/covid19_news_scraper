{
 "cells": [
  {
   "cell_type": "markdown",
   "metadata": {},
   "source": [
    "## Gensim Modeling\n",
    "---"
   ]
  },
  {
   "cell_type": "raw",
   "metadata": {},
   "source": [
    "Based on documentation here: \n",
    "1. https://www.machinelearningplus.com/nlp/topic-modeling-gensim-python/\n",
    "2. https://www.machinelearningplus.com/nlp/topic-modeling-visualization-how-to-present-results-lda-models/"
   ]
  },
  {
   "cell_type": "code",
   "execution_count": 1,
   "metadata": {},
   "outputs": [
    {
     "name": "stderr",
     "output_type": "stream",
     "text": [
      "unable to import 'smart_open.gcs', disabling that module\n"
     ]
    }
   ],
   "source": [
    "# Basic Imports\n",
    "import nltk\n",
    "import re\n",
    "import numpy as np\n",
    "import pandas as pd\n",
    "\n",
    "# Import spaCy for Lemmatization\n",
    "import spacy\n",
    "\n",
    "# Gensim for Topic Modeling\n",
    "import gensim\n",
    "import gensim.corpora as corpora\n",
    "from gensim.utils import simple_preprocess\n",
    "from gensim.models import CoherenceModel\n",
    "\n",
    "# Plotting Tools\n",
    "import pyLDAvis\n",
    "import pyLDAvis.gensim\n",
    "import matplotlib.pyplot as plt\n",
    "\n",
    "# Warnings\n",
    "import warnings\n",
    "warnings.filterwarnings(\"ignore\", category=DeprecationWarning)\n",
    "\n",
    "from pprint import pprint\n",
    "\n",
    "%matplotlib inline"
   ]
  },
  {
   "cell_type": "markdown",
   "metadata": {},
   "source": [
    "### Import Client News Data\n",
    "---"
   ]
  },
  {
   "cell_type": "code",
   "execution_count": 49,
   "metadata": {},
   "outputs": [
    {
     "name": "stdout",
     "output_type": "stream",
     "text": [
      "['CBA' 'NAB' 'Westpac' 'ANZ']\n"
     ]
    },
    {
     "data": {
      "text/html": [
       "<div>\n",
       "<style scoped>\n",
       "    .dataframe tbody tr th:only-of-type {\n",
       "        vertical-align: middle;\n",
       "    }\n",
       "\n",
       "    .dataframe tbody tr th {\n",
       "        vertical-align: top;\n",
       "    }\n",
       "\n",
       "    .dataframe thead th {\n",
       "        text-align: right;\n",
       "    }\n",
       "</style>\n",
       "<table border=\"1\" class=\"dataframe\">\n",
       "  <thead>\n",
       "    <tr style=\"text-align: right;\">\n",
       "      <th></th>\n",
       "      <th>Client</th>\n",
       "      <th>Date</th>\n",
       "      <th>Headline</th>\n",
       "      <th>Source</th>\n",
       "      <th>VADER Score</th>\n",
       "      <th>neg</th>\n",
       "      <th>neu</th>\n",
       "      <th>pos</th>\n",
       "    </tr>\n",
       "  </thead>\n",
       "  <tbody>\n",
       "    <tr>\n",
       "      <th>0</th>\n",
       "      <td>CBA</td>\n",
       "      <td>2020-03-24</td>\n",
       "      <td>Business orders crash on coronavirus: CBA index</td>\n",
       "      <td>The Australian Financial Review</td>\n",
       "      <td>-0.4019</td>\n",
       "      <td>0.31</td>\n",
       "      <td>0.690</td>\n",
       "      <td>0.000</td>\n",
       "    </tr>\n",
       "    <tr>\n",
       "      <th>1</th>\n",
       "      <td>CBA</td>\n",
       "      <td>2020-04-16</td>\n",
       "      <td>Sydney, Melbourne house prices facing 10 per c...</td>\n",
       "      <td>Brisbane Times</td>\n",
       "      <td>0.0000</td>\n",
       "      <td>0.00</td>\n",
       "      <td>1.000</td>\n",
       "      <td>0.000</td>\n",
       "    </tr>\n",
       "    <tr>\n",
       "      <th>2</th>\n",
       "      <td>CBA</td>\n",
       "      <td>2020-04-14</td>\n",
       "      <td>Hoarding boom is over: CBA says shoppers have ...</td>\n",
       "      <td>The Age</td>\n",
       "      <td>0.0000</td>\n",
       "      <td>0.00</td>\n",
       "      <td>1.000</td>\n",
       "      <td>0.000</td>\n",
       "    </tr>\n",
       "    <tr>\n",
       "      <th>3</th>\n",
       "      <td>CBA</td>\n",
       "      <td>2020-03-31</td>\n",
       "      <td>Coronavirus: CBA report reveals what we’re buy...</td>\n",
       "      <td>NEWS.com.au</td>\n",
       "      <td>0.0000</td>\n",
       "      <td>0.00</td>\n",
       "      <td>1.000</td>\n",
       "      <td>0.000</td>\n",
       "    </tr>\n",
       "    <tr>\n",
       "      <th>4</th>\n",
       "      <td>CBA</td>\n",
       "      <td>2020-04-01</td>\n",
       "      <td>CBA increases coronavirus loan support</td>\n",
       "      <td>7NEWS.com.au</td>\n",
       "      <td>0.4019</td>\n",
       "      <td>0.00</td>\n",
       "      <td>0.597</td>\n",
       "      <td>0.403</td>\n",
       "    </tr>\n",
       "  </tbody>\n",
       "</table>\n",
       "</div>"
      ],
      "text/plain": [
       "  Client        Date                                           Headline  \\\n",
       "0    CBA  2020-03-24   Business orders crash on coronavirus: CBA index    \n",
       "1    CBA  2020-04-16  Sydney, Melbourne house prices facing 10 per c...   \n",
       "2    CBA  2020-04-14  Hoarding boom is over: CBA says shoppers have ...   \n",
       "3    CBA  2020-03-31  Coronavirus: CBA report reveals what we’re buy...   \n",
       "4    CBA  2020-04-01            CBA increases coronavirus loan support    \n",
       "\n",
       "                             Source  VADER Score   neg    neu    pos  \n",
       "0   The Australian Financial Review      -0.4019  0.31  0.690  0.000  \n",
       "1                    Brisbane Times       0.0000  0.00  1.000  0.000  \n",
       "2                           The Age       0.0000  0.00  1.000  0.000  \n",
       "3                       NEWS.com.au       0.0000  0.00  1.000  0.000  \n",
       "4                      7NEWS.com.au       0.4019  0.00  0.597  0.403  "
      ]
     },
     "execution_count": 49,
     "metadata": {},
     "output_type": "execute_result"
    }
   ],
   "source": [
    "df = pd.read_csv('client_sentiment_3.csv')\n",
    "df = df.drop('Unnamed: 0', axis=1)\n",
    "print(df.Client.unique())\n",
    "cba_df = df[df.Client=='CBA']\n",
    "cba_df.head()"
   ]
  },
  {
   "cell_type": "markdown",
   "metadata": {},
   "source": [
    "### Prepare Stopwords\n",
    "---"
   ]
  },
  {
   "cell_type": "code",
   "execution_count": 50,
   "metadata": {},
   "outputs": [],
   "source": [
    "from nltk.corpus import stopwords\n",
    "stop_words = stopwords.words('english')\n",
    "# stop_words.extend(['from','subject','re','edu','use'])"
   ]
  },
  {
   "cell_type": "code",
   "execution_count": 72,
   "metadata": {},
   "outputs": [
    {
     "name": "stdout",
     "output_type": "stream",
     "text": [
      "['Business orders crash on coronavirus: CBA index ']\n"
     ]
    }
   ],
   "source": [
    "# Convert to list\n",
    "# data = cba_df['Headline'].values.tolist()\n",
    "data = df['Headline'].values.tolist()\n",
    "# Remove new line characters\n",
    "data = [re.sub('\\s+',' ',sent) for sent in data]\n",
    "# Remove distracting single quotes\n",
    "data = [re.sub(\"\\''\",\"\",sent) for sent in data]\n",
    "pprint(data[:1])"
   ]
  },
  {
   "cell_type": "markdown",
   "metadata": {},
   "source": [
    "### Tokenization\n",
    "----\n",
    "1. Break down each sentence into a list of words\n",
    "2. Bag of Words model"
   ]
  },
  {
   "cell_type": "code",
   "execution_count": 73,
   "metadata": {},
   "outputs": [
    {
     "name": "stdout",
     "output_type": "stream",
     "text": [
      "[['business', 'orders', 'crash', 'on', 'coronavirus', 'cba', 'index']]\n"
     ]
    }
   ],
   "source": [
    "def sent_to_words(sentences):\n",
    "    for sentence in sentences:\n",
    "        # deacc=True remove punctuation\n",
    "        yield(gensim.utils.simple_preprocess(str(sentence), deacc=True))\n",
    "\n",
    "data_words = list(sent_to_words(data))\n",
    "print(data_words[:1])"
   ]
  },
  {
   "cell_type": "markdown",
   "metadata": {},
   "source": [
    "### Bi-gram and Tri-grams\n",
    "---\n",
    "Two-words or three-words frequently occurring together"
   ]
  },
  {
   "cell_type": "code",
   "execution_count": 74,
   "metadata": {},
   "outputs": [],
   "source": [
    "# Build bigram and trigram models\n",
    "bigram = gensim.models.Phrases(data_words, min_count=5, threshold=100)\n",
    "trigram = gensim.models.Phrases(bigram[data_words], threshold=100)"
   ]
  },
  {
   "cell_type": "code",
   "execution_count": 75,
   "metadata": {},
   "outputs": [],
   "source": [
    "# Get a sentence clubbed as a bigram/trigram\n",
    "bigram_mod = gensim.models.phrases.Phraser(bigram)\n",
    "trigram_mod = gensim.models.phrases.Phraser(trigram)"
   ]
  },
  {
   "cell_type": "code",
   "execution_count": 76,
   "metadata": {},
   "outputs": [
    {
     "name": "stdout",
     "output_type": "stream",
     "text": [
      "['sydney', 'melbourne', 'house', 'prices', 'facing', 'per', 'cent', 'fall', 'cba']\n"
     ]
    }
   ],
   "source": [
    "# Trigram example\n",
    "print(trigram_mod[bigram_mod[data_words[1]]])"
   ]
  },
  {
   "cell_type": "markdown",
   "metadata": {},
   "source": [
    "### Define functions for stopwords, bigrams, trigrams and lemmatization\n",
    "---"
   ]
  },
  {
   "cell_type": "code",
   "execution_count": 77,
   "metadata": {},
   "outputs": [],
   "source": [
    "def remove_stopwords(texts):\n",
    "    return [[word for word in simple_preprocess(str(doc)) if word not in stop_words] for doc in texts]"
   ]
  },
  {
   "cell_type": "code",
   "execution_count": 78,
   "metadata": {},
   "outputs": [],
   "source": [
    "def make_bigrams(texts):\n",
    "    return [bigram_mod[doc] for doc in texts]"
   ]
  },
  {
   "cell_type": "code",
   "execution_count": 79,
   "metadata": {},
   "outputs": [],
   "source": [
    "def make_trigrams(texts):\n",
    "    return [trigram_mod[bigram_mod[doc]] for doc in texts]"
   ]
  },
  {
   "cell_type": "code",
   "execution_count": 80,
   "metadata": {},
   "outputs": [],
   "source": [
    "def lemmatization(texts, allow_postags=['NOUN','ADJ','VERB','ADV']):\n",
    "    texts_out = []\n",
    "    for sent in texts:\n",
    "        doc = nlp(\" \".join(sent))\n",
    "        texts_out.append([token.lemma_ for token in doc if token.pos_ in allow_postags])\n",
    "    return texts_out"
   ]
  },
  {
   "cell_type": "code",
   "execution_count": 81,
   "metadata": {},
   "outputs": [
    {
     "name": "stdout",
     "output_type": "stream",
     "text": [
      "[['business', 'orders', 'crash', 'coronavirus', 'cba', 'index'], ['sydney', 'melbourne', 'house', 'prices', 'facing', 'per', 'cent', 'fall', 'cba'], ['hoarding', 'boom', 'cba', 'says', 'shoppers', 'closed', 'wallets'], ['coronavirus', 'cba', 'report', 'reveals', 'buying', 'pandemic'], ['cba', 'increases', 'coronavirus', 'loan', 'support']]\n"
     ]
    }
   ],
   "source": [
    "# Remove Stop Words\n",
    "data_words_nostops = remove_stopwords(data_words)\n",
    "print(data_words_nostops[:5])"
   ]
  },
  {
   "cell_type": "code",
   "execution_count": 82,
   "metadata": {},
   "outputs": [
    {
     "name": "stdout",
     "output_type": "stream",
     "text": [
      "[['business', 'orders', 'crash', 'coronavirus', 'cba', 'index'], ['sydney', 'melbourne', 'house', 'prices', 'facing', 'per', 'cent', 'fall', 'cba'], ['hoarding', 'boom', 'cba', 'says', 'shoppers', 'closed', 'wallets'], ['coronavirus', 'cba', 'report', 'reveals', 'buying', 'pandemic'], ['cba', 'increases', 'coronavirus', 'loan', 'support']]\n"
     ]
    }
   ],
   "source": [
    "# Form Bigrams\n",
    "data_words_bigrams = make_bigrams(data_words_nostops)\n",
    "print(data_words_bigrams[:5])"
   ]
  },
  {
   "cell_type": "code",
   "execution_count": 83,
   "metadata": {},
   "outputs": [
    {
     "name": "stdout",
     "output_type": "stream",
     "text": [
      "[['business', 'order', 'crash', 'coronavirus', 'cba', 'index'], ['sydney', 'melbourne', 'house', 'price', 'face', 'cent', 'fall', 'cba'], ['hoard', 'boom', 'cba', 'say', 'shopper', 'close', 'wallet'], ['coronavirus', 'cba', 'report', 'reveal', 'buy', 'pandemic'], ['cba', 'increase', 'coronavirus', 'loan', 'support']]\n"
     ]
    }
   ],
   "source": [
    "# Do lemmatization keeping only nouns, adj, vb adv\n",
    "nlp = spacy.load('en', disable=['parser', 'ner'])\n",
    "data_lemmatized = lemmatization(data_words_bigrams, allow_postags=['NOUN','ADJ','VERB','ADV'])\n",
    "print(data_lemmatized[:5])"
   ]
  },
  {
   "cell_type": "markdown",
   "metadata": {},
   "source": [
    "### Create a Dictionary and Corpus for Topic Modeling\n",
    "---"
   ]
  },
  {
   "cell_type": "code",
   "execution_count": 84,
   "metadata": {},
   "outputs": [
    {
     "name": "stdout",
     "output_type": "stream",
     "text": [
      "[[(0, 1), (1, 1), (2, 1), (3, 1), (4, 1), (5, 1)]]\n"
     ]
    }
   ],
   "source": [
    "# Create Dictionary\n",
    "id2word = corpora.Dictionary(data_lemmatized)\n",
    "\n",
    "# Create Corpus\n",
    "texts = data_lemmatized\n",
    "\n",
    "# Term Document Frequency\n",
    "corpus = [id2word.doc2bow(text) for text in texts]\n",
    "\n",
    "# View\n",
    "print(corpus[:1])\n",
    "\n",
    "# Word id 0 occurs once in the first doc\n",
    "# Word id 1 occurs once in the first doc\n",
    "# Word id 2 occurs once in the first doc"
   ]
  },
  {
   "cell_type": "code",
   "execution_count": 85,
   "metadata": {},
   "outputs": [
    {
     "data": {
      "text/plain": [
       "'business'"
      ]
     },
     "execution_count": 85,
     "metadata": {},
     "output_type": "execute_result"
    }
   ],
   "source": [
    "id2word[0]"
   ]
  },
  {
   "cell_type": "code",
   "execution_count": 86,
   "metadata": {},
   "outputs": [
    {
     "data": {
      "text/plain": [
       "[[('business', 1),\n",
       "  ('cba', 1),\n",
       "  ('coronavirus', 1),\n",
       "  ('crash', 1),\n",
       "  ('index', 1),\n",
       "  ('order', 1)],\n",
       " [('cba', 1),\n",
       "  ('cent', 1),\n",
       "  ('face', 1),\n",
       "  ('fall', 1),\n",
       "  ('house', 1),\n",
       "  ('melbourne', 1),\n",
       "  ('price', 1),\n",
       "  ('sydney', 1)],\n",
       " [('cba', 1),\n",
       "  ('boom', 1),\n",
       "  ('close', 1),\n",
       "  ('hoard', 1),\n",
       "  ('say', 1),\n",
       "  ('shopper', 1),\n",
       "  ('wallet', 1)],\n",
       " [('cba', 1),\n",
       "  ('coronavirus', 1),\n",
       "  ('buy', 1),\n",
       "  ('pandemic', 1),\n",
       "  ('report', 1),\n",
       "  ('reveal', 1)],\n",
       " [('cba', 1),\n",
       "  ('coronavirus', 1),\n",
       "  ('increase', 1),\n",
       "  ('loan', 1),\n",
       "  ('support', 1)]]"
      ]
     },
     "execution_count": 86,
     "metadata": {},
     "output_type": "execute_result"
    }
   ],
   "source": [
    "# Human readable format of corpus (term-freq)\n",
    "[[(id2word[id], freq) for id, freq in cp] for cp in corpus[:5]]"
   ]
  },
  {
   "cell_type": "code",
   "execution_count": 87,
   "metadata": {},
   "outputs": [],
   "source": [
    "# Build LDA model\n",
    "lda_model = gensim.models.ldamodel.LdaModel(corpus=corpus,\n",
    "                                           id2word=id2word,\n",
    "                                           num_topics=10,\n",
    "                                           random_state=123,\n",
    "                                           update_every=1,\n",
    "                                           chunksize=40,\n",
    "                                           passes=10,\n",
    "                                           alpha='auto',\n",
    "                                           per_word_topics=True)"
   ]
  },
  {
   "cell_type": "markdown",
   "metadata": {},
   "source": [
    "### View the topics in LDA model\n",
    "---"
   ]
  },
  {
   "cell_type": "code",
   "execution_count": 88,
   "metadata": {},
   "outputs": [
    {
     "name": "stdout",
     "output_type": "stream",
     "text": [
      "[(0,\n",
      "  '0.036*\"price\" + 0.033*\"analyst\" + 0.031*\"property\" + 0.029*\"increase\" + '\n",
      "  '0.024*\"fall\" + 0.023*\"jone\" + 0.018*\"jump\" + 0.017*\"give\" + 0.017*\"drop\" + '\n",
      "  '0.017*\"profit\"'),\n",
      " (1,\n",
      "  '0.091*\"coronavirus\" + 0.075*\"westpac\" + 0.057*\"nab\" + 0.038*\"job\" + '\n",
      "  '0.028*\"new\" + 0.025*\"cba\" + 0.022*\"unemployment\" + 0.019*\"consumer\" + '\n",
      "  '0.018*\"face\" + 0.017*\"fall\"'),\n",
      " (2,\n",
      "  '0.096*\"anz\" + 0.047*\"say\" + 0.022*\"help\" + 0.022*\"sale\" + 0.016*\"financial\" '\n",
      "  '+ 0.015*\"tumble\" + 0.015*\"still\" + 0.012*\"place\" + 0.012*\"retail\" + '\n",
      "  '0.012*\"league\"'),\n",
      " (3,\n",
      "  '0.142*\"covid\" + 0.088*\"australia\" + 0.031*\"rent\" + 0.023*\"know\" + '\n",
      "  '0.019*\"announce\" + 0.018*\"death\" + 0.017*\"netball\" + 0.017*\"expert\" + '\n",
      "  '0.015*\"everything\" + 0.015*\"live\"'),\n",
      " (4,\n",
      "  '0.051*\"customer\" + 0.036*\"month\" + 0.028*\"impact\" + 0.027*\"rise\" + '\n",
      "  '0.025*\"take\" + 0.024*\"economy\" + 0.022*\"urge\" + 0.017*\"call\" + 0.017*\"pay\" '\n",
      "  '+ 0.016*\"victoria\"'),\n",
      " (5,\n",
      "  '0.093*\"coronavirus\" + 0.055*\"mortgage\" + 0.051*\"bank\" + 0.044*\"market\" + '\n",
      "  '0.035*\"australian\" + 0.034*\"relief\" + 0.025*\"virus\" + 0.024*\"payment\" + '\n",
      "  '0.023*\"due\" + 0.020*\"warn\"'),\n",
      " (6,\n",
      "  '0.085*\"share\" + 0.032*\"update\" + 0.028*\"high\" + 0.027*\"global\" + '\n",
      "  '0.026*\"outlook\" + 0.023*\"plan\" + 0.022*\"right\" + 0.020*\"rescue\" + '\n",
      "  '0.019*\"slump\" + 0.017*\"lunch\"'),\n",
      " (7,\n",
      "  '0.061*\"loan\" + 0.038*\"rate\" + 0.038*\"home\" + 0.037*\"cut\" + 0.036*\"credit\" + '\n",
      "  '0.025*\"time\" + 0.023*\"chief\" + 0.021*\"government\" + 0.021*\"card\" + '\n",
      "  '0.020*\"cent\"'),\n",
      " (8,\n",
      "  '0.138*\"coronavirus\" + 0.091*\"bank\" + 0.044*\"australian\" + 0.044*\"dividend\" '\n",
      "  '+ 0.037*\"business\" + 0.035*\"pandemic\" + 0.032*\"big\" + 0.031*\"crisis\" + '\n",
      "  '0.024*\"support\" + 0.017*\"buy\"'),\n",
      " (9,\n",
      "  '0.085*\"hit\" + 0.033*\"shutdown\" + 0.024*\"get\" + 0.023*\"business\" + '\n",
      "  '0.022*\"coronavirus\" + 0.022*\"elliott\" + 0.021*\"back\" + 0.019*\"data\" + '\n",
      "  '0.017*\"jobkeeper\" + 0.016*\"shayne\"')]\n"
     ]
    }
   ],
   "source": [
    "pprint(lda_model.print_topics())\n",
    "doc_lda = lda_model[corpus]"
   ]
  },
  {
   "cell_type": "markdown",
   "metadata": {},
   "source": [
    "### Calculate Perplexity and Coherence Score\n",
    "---"
   ]
  },
  {
   "cell_type": "code",
   "execution_count": 89,
   "metadata": {},
   "outputs": [
    {
     "name": "stdout",
     "output_type": "stream",
     "text": [
      "\n",
      "Perplexity:  -6.8284092155708045\n"
     ]
    }
   ],
   "source": [
    "# How good is the model? The lower the better\n",
    "print('\\nPerplexity: ', lda_model.log_perplexity(corpus))"
   ]
  },
  {
   "cell_type": "code",
   "execution_count": 90,
   "metadata": {},
   "outputs": [
    {
     "name": "stdout",
     "output_type": "stream",
     "text": [
      "\n",
      "Coherence Score: 0.5364452246828313\n"
     ]
    }
   ],
   "source": [
    "# Compute Topic Coherence Score\n",
    "coherence_model_lda = CoherenceModel(model=lda_model, texts=data_lemmatized, dictionary=id2word, coherence='c_v')\n",
    "coherence_lda = coherence_model_lda.get_coherence()\n",
    "print('\\nCoherence Score:', coherence_lda)"
   ]
  },
  {
   "cell_type": "markdown",
   "metadata": {},
   "source": [
    "### Visualise the topics-keywords\n",
    "---"
   ]
  },
  {
   "cell_type": "code",
   "execution_count": 91,
   "metadata": {},
   "outputs": [
    {
     "name": "stderr",
     "output_type": "stream",
     "text": [
      "/usr/local/lib/python3.7/site-packages/pyLDAvis/_prepare.py:257: FutureWarning: Sorting because non-concatenation axis is not aligned. A future version\n",
      "of pandas will change to not sort by default.\n",
      "\n",
      "To accept the future behavior, pass 'sort=False'.\n",
      "\n",
      "To retain the current behavior and silence the warning, pass 'sort=True'.\n",
      "\n",
      "  return pd.concat([default_term_info] + list(topic_dfs))\n"
     ]
    },
    {
     "data": {
      "text/html": [
       "\n",
       "<link rel=\"stylesheet\" type=\"text/css\" href=\"https://cdn.rawgit.com/bmabey/pyLDAvis/files/ldavis.v1.0.0.css\">\n",
       "\n",
       "\n",
       "<div id=\"ldavis_el917048126257445989278386\"></div>\n",
       "<script type=\"text/javascript\">\n",
       "\n",
       "var ldavis_el917048126257445989278386_data = {\"mdsDat\": {\"x\": [-0.2772236452154375, -0.07488061746923717, -0.2307511606318986, 0.11640320823748235, 0.1033961705470854, 0.0650462484419163, 0.09623040371561861, 0.01365173100539804, 0.10194671758842722, 0.08618094378064554], \"y\": [-0.06557106081504648, 0.19260251956479996, -0.04368911354819225, -0.23341629406500009, 0.03236761594355136, -0.021682682985145512, 0.05052743182258034, 0.02184313145375778, 0.029236963099513565, 0.0377814895291809], \"topics\": [1, 2, 3, 4, 5, 6, 7, 8, 9, 10], \"cluster\": [1, 1, 1, 1, 1, 1, 1, 1, 1, 1], \"Freq\": [21.57798957824707, 16.752788543701172, 16.322174072265625, 7.75519323348999, 7.123950958251953, 7.021571159362793, 6.056201457977295, 5.869350433349609, 5.836936950683594, 5.683837413787842]}, \"tinfo\": {\"Category\": [\"Default\", \"Default\", \"Default\", \"Default\", \"Default\", \"Default\", \"Default\", \"Default\", \"Default\", \"Default\", \"Default\", \"Default\", \"Default\", \"Default\", \"Default\", \"Default\", \"Default\", \"Default\", \"Default\", \"Default\", \"Default\", \"Default\", \"Default\", \"Default\", \"Default\", \"Default\", \"Default\", \"Default\", \"Default\", \"Default\", \"Topic1\", \"Topic1\", \"Topic1\", \"Topic1\", \"Topic1\", \"Topic1\", \"Topic1\", \"Topic1\", \"Topic1\", \"Topic1\", \"Topic1\", \"Topic1\", \"Topic1\", \"Topic1\", \"Topic1\", \"Topic1\", \"Topic1\", \"Topic1\", \"Topic1\", \"Topic1\", \"Topic1\", \"Topic1\", \"Topic1\", \"Topic1\", \"Topic1\", \"Topic1\", \"Topic1\", \"Topic1\", \"Topic1\", \"Topic1\", \"Topic1\", \"Topic1\", \"Topic1\", \"Topic1\", \"Topic1\", \"Topic2\", \"Topic2\", \"Topic2\", \"Topic2\", \"Topic2\", \"Topic2\", \"Topic2\", \"Topic2\", \"Topic2\", \"Topic2\", \"Topic2\", \"Topic2\", \"Topic2\", \"Topic2\", \"Topic2\", \"Topic2\", \"Topic2\", \"Topic2\", \"Topic2\", \"Topic2\", \"Topic2\", \"Topic2\", \"Topic2\", \"Topic2\", \"Topic2\", \"Topic2\", \"Topic2\", \"Topic2\", \"Topic2\", \"Topic2\", \"Topic2\", \"Topic2\", \"Topic3\", \"Topic3\", \"Topic3\", \"Topic3\", \"Topic3\", \"Topic3\", \"Topic3\", \"Topic3\", \"Topic3\", \"Topic3\", \"Topic3\", \"Topic3\", \"Topic3\", \"Topic3\", \"Topic3\", \"Topic3\", \"Topic3\", \"Topic3\", \"Topic3\", \"Topic3\", \"Topic3\", \"Topic3\", \"Topic3\", \"Topic3\", \"Topic3\", \"Topic3\", \"Topic3\", \"Topic3\", \"Topic3\", \"Topic3\", \"Topic3\", \"Topic3\", \"Topic3\", \"Topic3\", \"Topic4\", \"Topic4\", \"Topic4\", \"Topic4\", \"Topic4\", \"Topic4\", \"Topic4\", \"Topic4\", \"Topic4\", \"Topic4\", \"Topic4\", \"Topic4\", \"Topic4\", \"Topic4\", \"Topic4\", \"Topic4\", \"Topic4\", \"Topic4\", \"Topic4\", \"Topic4\", \"Topic4\", \"Topic4\", \"Topic4\", \"Topic4\", \"Topic4\", \"Topic4\", \"Topic4\", \"Topic4\", \"Topic4\", \"Topic4\", \"Topic4\", \"Topic4\", \"Topic5\", \"Topic5\", \"Topic5\", \"Topic5\", \"Topic5\", \"Topic5\", \"Topic5\", \"Topic5\", \"Topic5\", \"Topic5\", \"Topic5\", \"Topic5\", \"Topic5\", \"Topic5\", \"Topic5\", \"Topic5\", \"Topic5\", \"Topic5\", \"Topic5\", \"Topic5\", \"Topic5\", \"Topic5\", \"Topic5\", \"Topic5\", \"Topic5\", \"Topic5\", \"Topic5\", \"Topic5\", \"Topic5\", \"Topic5\", \"Topic6\", \"Topic6\", \"Topic6\", \"Topic6\", \"Topic6\", \"Topic6\", \"Topic6\", \"Topic6\", \"Topic6\", \"Topic6\", \"Topic6\", \"Topic6\", \"Topic6\", \"Topic6\", \"Topic6\", \"Topic6\", \"Topic6\", \"Topic6\", \"Topic6\", \"Topic6\", \"Topic6\", \"Topic6\", \"Topic6\", \"Topic6\", \"Topic6\", \"Topic6\", \"Topic6\", \"Topic6\", \"Topic6\", \"Topic6\", \"Topic6\", \"Topic6\", \"Topic6\", \"Topic6\", \"Topic6\", \"Topic6\", \"Topic7\", \"Topic7\", \"Topic7\", \"Topic7\", \"Topic7\", \"Topic7\", \"Topic7\", \"Topic7\", \"Topic7\", \"Topic7\", \"Topic7\", \"Topic7\", \"Topic7\", \"Topic7\", \"Topic7\", \"Topic7\", \"Topic7\", \"Topic7\", \"Topic7\", \"Topic7\", \"Topic7\", \"Topic7\", \"Topic7\", \"Topic7\", \"Topic7\", \"Topic7\", \"Topic7\", \"Topic7\", \"Topic7\", \"Topic7\", \"Topic7\", \"Topic8\", \"Topic8\", \"Topic8\", \"Topic8\", \"Topic8\", \"Topic8\", \"Topic8\", \"Topic8\", \"Topic8\", \"Topic8\", \"Topic8\", \"Topic8\", \"Topic8\", \"Topic8\", \"Topic8\", \"Topic8\", \"Topic8\", \"Topic8\", \"Topic8\", \"Topic8\", \"Topic8\", \"Topic8\", \"Topic8\", \"Topic8\", \"Topic8\", \"Topic8\", \"Topic8\", \"Topic8\", \"Topic8\", \"Topic8\", \"Topic8\", \"Topic8\", \"Topic9\", \"Topic9\", \"Topic9\", \"Topic9\", \"Topic9\", \"Topic9\", \"Topic9\", \"Topic9\", \"Topic9\", \"Topic9\", \"Topic9\", \"Topic9\", \"Topic9\", \"Topic9\", \"Topic9\", \"Topic9\", \"Topic9\", \"Topic9\", \"Topic9\", \"Topic9\", \"Topic9\", \"Topic9\", \"Topic9\", \"Topic9\", \"Topic9\", \"Topic9\", \"Topic9\", \"Topic9\", \"Topic9\", \"Topic9\", \"Topic10\", \"Topic10\", \"Topic10\", \"Topic10\", \"Topic10\", \"Topic10\", \"Topic10\", \"Topic10\", \"Topic10\", \"Topic10\", \"Topic10\", \"Topic10\", \"Topic10\", \"Topic10\", \"Topic10\", \"Topic10\", \"Topic10\", \"Topic10\", \"Topic10\", \"Topic10\", \"Topic10\", \"Topic10\", \"Topic10\", \"Topic10\", \"Topic10\", \"Topic10\", \"Topic10\", \"Topic10\", \"Topic10\", \"Topic10\", \"Topic10\", \"Topic10\"], \"Freq\": [179.0, 82.0, 24.0, 37.0, 22.0, 18.0, 28.0, 26.0, 15.0, 15.0, 21.0, 45.0, 28.0, 28.0, 21.0, 18.0, 22.0, 11.0, 20.0, 16.0, 14.0, 9.0, 19.0, 14.0, 12.0, 8.0, 8.0, 8.0, 14.0, 12.0, 27.854745864868164, 21.787023544311523, 20.15149688720703, 19.264856338500977, 14.869397163391113, 10.528182983398438, 10.39840316772461, 9.56259822845459, 9.319966316223145, 8.300861358642578, 6.397887229919434, 6.143972873687744, 5.616122722625732, 5.383646011352539, 5.383646011352539, 5.284792900085449, 5.216578483581543, 5.135537624359131, 4.776588439941406, 4.570770263671875, 4.493057727813721, 4.077918529510498, 3.997108221054077, 3.9077346324920654, 3.8498752117156982, 3.7458860874176025, 3.52671480178833, 3.4574406147003174, 3.3877499103546143, 23.592397689819336, 57.49116516113281, 27.860889434814453, 86.70643615722656, 8.09561538696289, 6.240157604217529, 36.68986129760742, 27.89264488220215, 18.343891143798828, 13.623011589050293, 10.665769577026367, 9.230560302734375, 8.621464729309082, 8.011078834533691, 7.964685440063477, 7.450094699859619, 6.118624687194824, 5.236433506011963, 5.133565902709961, 4.920780658721924, 4.66753625869751, 4.586245059967041, 4.420207500457764, 4.36146354675293, 4.165137767791748, 3.938274383544922, 3.9005720615386963, 3.413299798965454, 3.2145638465881348, 3.1127383708953857, 3.0847394466400146, 3.0561110973358154, 2.9404351711273193, 2.6698532104492188, 11.975626945495605, 2.6200785636901855, 8.348905563354492, 44.43362808227539, 26.005109786987305, 20.766380310058594, 16.130834579467773, 11.861390113830566, 11.20787239074707, 10.71487808227539, 9.659396171569824, 9.636385917663574, 8.424468040466309, 7.4400458335876465, 6.2525715827941895, 6.197546482086182, 6.07153844833374, 6.038639545440674, 5.532222270965576, 5.4214959144592285, 5.031281471252441, 4.983907222747803, 4.82549524307251, 4.487181663513184, 4.286370754241943, 4.052496433258057, 3.9902186393737793, 3.7620925903320312, 3.481039047241211, 3.3648574352264404, 3.3432154655456543, 3.239652633666992, 3.222609043121338, 3.196357011795044, 6.153680324554443, 44.22780990600586, 16.862102508544922, 24.305797576904297, 21.66858673095703, 10.567007064819336, 5.056607723236084, 4.871554851531982, 3.6368327140808105, 3.430342197418213, 3.3671367168426514, 2.7283935546875, 2.7268502712249756, 2.7262933254241943, 2.7017860412597656, 2.5014493465423584, 2.446777105331421, 2.4448132514953613, 2.4295685291290283, 2.4290595054626465, 2.379037380218506, 2.197070598602295, 2.132148265838623, 2.0167510509490967, 2.0167510509490967, 2.0167510509490967, 2.0167510509490967, 2.0167510509490967, 2.0167510509490967, 2.0167510509490967, 2.016676902770996, 2.016676902770996, 2.016676902770996, 2.016676902770996, 2.016676902770996, 2.290128707885742, 17.704504013061523, 6.589798927307129, 5.867412567138672, 5.627716064453125, 5.410542964935303, 4.72907018661499, 4.531237602233887, 4.189751148223877, 3.9533958435058594, 3.5059170722961426, 3.4621238708496094, 3.376620292663574, 3.1718618869781494, 3.08872127532959, 2.980478048324585, 2.9803686141967773, 2.815627336502075, 2.320591449737549, 2.3022243976593018, 2.1596548557281494, 2.110954761505127, 1.9834197759628296, 1.923478126525879, 1.8017449378967285, 1.7063676118850708, 1.7063676118850708, 1.70375657081604, 1.6982451677322388, 1.604647159576416, 1.5933120250701904, 7.7138872146606445, 7.578325271606445, 7.398180961608887, 5.1812968254089355, 4.779569625854492, 4.307093143463135, 4.273714542388916, 4.156529903411865, 3.353429079055786, 3.253382682800293, 2.895358085632324, 2.6904311180114746, 2.411400556564331, 2.3543150424957275, 2.1636602878570557, 2.1307764053344727, 2.085137128829956, 2.0085747241973877, 1.8104745149612427, 1.725838303565979, 1.725838303565979, 1.725838303565979, 1.7255018949508667, 1.7255018949508667, 1.5925589799880981, 1.5737663507461548, 1.3745543956756592, 1.354649543762207, 1.354649543762207, 1.354649543762207, 1.354672908782959, 1.354672908782959, 1.354672908782959, 12.488299369812012, 7.699032306671143, 1.7270249128341675, 8.923534393310547, 6.344607830047607, 4.954793930053711, 4.695851802825928, 4.431671142578125, 4.163825511932373, 3.909558057785034, 3.0670247077941895, 2.9164059162139893, 2.8704888820648193, 2.845064878463745, 2.652803421020508, 2.555767297744751, 2.478510618209839, 2.346137046813965, 2.2942564487457275, 1.9367918968200684, 1.7683446407318115, 1.7239750623703003, 1.7239750623703003, 1.7231605052947998, 1.5687353610992432, 1.5687353610992432, 1.5687353610992432, 1.5669233798980713, 1.5665067434310913, 1.561442494392395, 1.4981634616851807, 1.4876291751861572, 1.3842629194259644, 2.207562208175659, 14.576003074645996, 5.705944538116455, 4.042261600494385, 3.7110841274261475, 3.6587350368499756, 3.2622663974761963, 2.9162464141845703, 2.798963785171509, 2.5043184757232666, 2.3497860431671143, 2.2432806491851807, 2.206728219985962, 2.1504199504852295, 2.033541679382324, 2.033541679382324, 2.003291368484497, 1.9866901636123657, 1.9457931518554688, 1.8866636753082275, 1.8189820051193237, 1.8188836574554443, 1.6642606258392334, 1.6638116836547852, 1.5757955312728882, 1.5757955312728882, 1.5757955312728882, 1.5745501518249512, 1.5745501518249512, 1.4009299278259277, 1.4008980989456177, 3.8523898124694824, 3.7269833087921143, 24.11539077758789, 15.048060417175293, 5.285494804382324, 3.9134461879730225, 3.2758703231811523, 3.1162455081939697, 2.8143374919891357, 2.813232660293579, 2.5265398025512695, 2.4681363105773926, 2.3451626300811768, 1.7352336645126343, 1.671739935874939, 1.5763410329818726, 1.4348766803741455, 1.4348766803741455, 1.4343425035476685, 1.4343425035476685, 1.4343425035476685, 1.4343405961990356, 1.4343405961990356, 1.4340022802352905, 1.4340022802352905, 1.4333001375198364, 1.4329687356948853, 1.4329687356948853, 1.3603194952011108, 1.3448675870895386, 1.322413444519043, 1.2749062776565552, 5.952887058258057, 5.533001899719238, 5.098238945007324, 4.815047264099121, 3.838674783706665, 2.98683762550354, 2.824692487716675, 2.7901108264923096, 2.7461977005004883, 2.527151584625244, 2.487968921661377, 2.3030216693878174, 2.2431528568267822, 2.243140935897827, 2.243140935897827, 2.096224546432495, 1.8928842544555664, 1.8928842544555664, 1.6613188982009888, 1.6613188982009888, 1.6613188982009888, 1.6612592935562134, 1.4735612869262695, 1.3970752954483032, 1.3822543621063232, 1.310246467590332, 1.310246467590332, 1.310246467590332, 1.310246467590332, 1.310246467590332, 4.0540313720703125, 1.310246467590332], \"Term\": [\"coronavirus\", \"bank\", \"covid\", \"westpac\", \"anz\", \"share\", \"nab\", \"mortgage\", \"australia\", \"hit\", \"loan\", \"australian\", \"dividend\", \"business\", \"market\", \"job\", \"pandemic\", \"say\", \"big\", \"relief\", \"home\", \"customer\", \"crisis\", \"new\", \"fall\", \"rate\", \"cut\", \"credit\", \"cba\", \"virus\", \"dividend\", \"pandemic\", \"big\", \"crisis\", \"support\", \"buy\", \"offer\", \"surge\", \"economic\", \"low\", \"confidence\", \"small\", \"reveal\", \"wage\", \"subsidy\", \"may\", \"year\", \"point\", \"debt\", \"demand\", \"drive\", \"collapse\", \"slash\", \"scrap\", \"response\", \"see\", \"suspend\", \"forecast\", \"owner\", \"business\", \"bank\", \"australian\", \"coronavirus\", \"loan\", \"home\", \"westpac\", \"nab\", \"job\", \"new\", \"unemployment\", \"consumer\", \"face\", \"ceo\", \"aussie\", \"worker\", \"loss\", \"economist\", \"climb\", \"order\", \"grocery\", \"lose\", \"balance\", \"march\", \"stand\", \"police\", \"option\", \"act\", \"contract\", \"closure\", \"concern\", \"april\", \"cancel\", \"man\", \"cba\", \"shopper\", \"fall\", \"coronavirus\", \"mortgage\", \"market\", \"relief\", \"virus\", \"payment\", \"due\", \"warn\", \"need\", \"package\", \"show\", \"close\", \"set\", \"slip\", \"drag\", \"fallout\", \"put\", \"branch\", \"force\", \"freeze\", \"stock\", \"return\", \"lower\", \"measure\", \"datum\", \"toll\", \"commonwealth\", \"spread\", \"rally\", \"people\", \"decline\", \"repayment\", \"coronavirus\", \"australian\", \"bank\", \"anz\", \"say\", \"help\", \"sale\", \"financial\", \"tumble\", \"still\", \"place\", \"retail\", \"league\", \"keep\", \"insurance\", \"afl\", \"level\", \"nrl\", \"industry\", \"restriction\", \"pressure\", \"boss\", \"class\", \"junk\", \"cite\", \"judge\", \"action\", \"limited\", \"discovery\", \"believe\", \"leave\", \"buffer\", \"shock\", \"withstand\", \"hire\", \"share\", \"update\", \"high\", \"global\", \"outlook\", \"plan\", \"right\", \"rescue\", \"slump\", \"lunch\", \"yield\", \"downgrade\", \"risk\", \"ahead\", \"halt\", \"step\", \"fight\", \"fitch\", \"remain\", \"open\", \"banking\", \"pledge\", \"wake\", \"cochlear\", \"different\", \"world\", \"trail\", \"dip\", \"post\", \"record\", \"rate\", \"cut\", \"credit\", \"time\", \"chief\", \"government\", \"card\", \"cent\", \"holiday\", \"guarantee\", \"look\", \"make\", \"player\", \"robertson\", \"way\", \"defend\", \"stimulus\", \"personal\", \"change\", \"nzd\", \"aud\", \"soft\", \"overdraft\", \"nz\", \"fear\", \"reopen\", \"money\", \"door\", \"idr\", \"indonesia\", \"paper\", \"office\", \"loo\", \"loan\", \"home\", \"push\", \"customer\", \"month\", \"impact\", \"rise\", \"take\", \"economy\", \"urge\", \"call\", \"pay\", \"victoria\", \"holder\", \"case\", \"stop\", \"temporarily\", \"interest\", \"centre\", \"press\", \"consider\", \"water\", \"tread\", \"hardship\", \"redundancy\", \"harper\", \"elle\", \"stage\", \"important\", \"isolation\", \"commbank\", \"stretch\", \"qanta\", \"cba\", \"hit\", \"shutdown\", \"get\", \"elliott\", \"back\", \"data\", \"jobkeeper\", \"shayne\", \"spending\", \"decrease\", \"expand\", \"flag\", \"massive\", \"panic\", \"buying\", \"almost\", \"aba\", \"spend\", \"gonski\", \"key\", \"life\", \"begin\", \"wait\", \"construction\", \"bounce\", \"lead\", \"grim\", \"supermarket\", \"chairman\", \"abs\", \"business\", \"coronavirus\", \"covid\", \"australia\", \"rent\", \"know\", \"announce\", \"death\", \"netball\", \"expert\", \"everything\", \"live\", \"affect\", \"plenty\", \"morning\", \"community\", \"superannuation\", \"withdraw\", \"insurer\", \"cover\", \"default\", \"pacific\", \"comprehensive\", \"partner\", \"vulnerable\", \"premiership\", \"country\", \"exceed\", \"cope\", \"caution\", \"dollar\", \"score\", \"price\", \"analyst\", \"property\", \"increase\", \"jone\", \"jump\", \"give\", \"drop\", \"profit\", \"continue\", \"star\", \"major\", \"wealth\", \"dow\", \"fade\", \"defer\", \"software\", \"charge\", \"gfc\", \"stress\", \"raise\", \"shrug\", \"next\", \"tasmania\", \"request\", \"situation\", \"quite\", \"plummet\", \"dire\", \"crude\", \"fall\", \"stateside\"], \"Total\": [179.0, 82.0, 24.0, 37.0, 22.0, 18.0, 28.0, 26.0, 15.0, 15.0, 21.0, 45.0, 28.0, 28.0, 21.0, 18.0, 22.0, 11.0, 20.0, 16.0, 14.0, 9.0, 19.0, 14.0, 12.0, 8.0, 8.0, 8.0, 14.0, 12.0, 28.479415893554688, 22.411766052246094, 20.776105880737305, 19.889545440673828, 15.494073867797852, 11.15284538269043, 11.023067474365234, 10.187370300292969, 9.944719314575195, 8.925516128540039, 7.022545337677002, 6.768572807312012, 6.240750312805176, 6.008328437805176, 6.008328437805176, 5.909387111663818, 5.841418743133545, 5.760300636291504, 5.401273250579834, 5.195503234863281, 5.117992877960205, 4.702722549438477, 4.621702671051025, 4.5326385498046875, 4.474509239196777, 4.370776653289795, 4.151542663574219, 4.082364082336426, 4.012346267700195, 28.007139205932617, 82.33453369140625, 45.260623931884766, 179.47024536132812, 21.140363693237305, 14.495627403259277, 37.30303955078125, 28.50575065612793, 18.957002639770508, 14.236174583435059, 11.278960227966309, 9.84372329711914, 9.23482894897461, 8.624236106872559, 8.577888488769531, 8.063193321228027, 6.73175573348999, 5.8495097160339355, 5.746730804443359, 5.533918380737305, 5.2807936668396, 5.199382305145264, 5.0332536697387695, 4.974554061889648, 4.778304576873779, 4.5514349937438965, 4.51378059387207, 4.02664041519165, 3.828129291534424, 3.725815534591675, 3.698096990585327, 3.6712470054626465, 3.554393768310547, 3.28337025642395, 14.734288215637207, 3.2332379817962646, 12.950148582458496, 179.47024536132812, 26.631126403808594, 21.39238929748535, 16.75687599182129, 12.487401962280273, 11.833826065063477, 11.340852737426758, 10.285367012023926, 10.26241683959961, 9.050466537475586, 8.066095352172852, 6.878525733947754, 6.823634147644043, 6.697531700134277, 6.664565563201904, 6.158190727233887, 6.047447681427002, 5.657210350036621, 5.609865665435791, 5.451433181762695, 5.113442897796631, 4.912471294403076, 4.678455352783203, 4.6161417961120605, 4.388061046600342, 4.107326507568359, 3.990790367126465, 3.969139575958252, 3.865856409072876, 3.8487727642059326, 3.8222742080688477, 7.406783580780029, 179.47024536132812, 45.260623931884766, 82.33453369140625, 22.32684326171875, 11.225241661071777, 5.714737415313721, 5.529729843139648, 4.294917106628418, 4.088461399078369, 4.025228977203369, 3.3866806030273438, 3.385868549346924, 3.3854868412017822, 3.360163688659668, 3.1595215797424316, 3.104935884475708, 3.102909803390503, 3.087664842605591, 3.0873570442199707, 3.037313938140869, 2.855170726776123, 2.7902395725250244, 2.674833297729492, 2.674833297729492, 2.674833297729492, 2.674833297729492, 2.674833297729492, 2.674833297729492, 2.674833297729492, 2.6747825145721436, 2.6747825145721436, 2.6747825145721436, 2.6747825145721436, 2.6747825145721436, 5.32327938079834, 18.35015296936035, 7.235494613647461, 6.513158321380615, 6.273360729217529, 6.056162357330322, 5.374848365783691, 5.177085876464844, 4.835490703582764, 4.599000453948975, 4.151516437530518, 4.107770919799805, 4.0222344398498535, 3.8174831867218018, 3.7343225479125977, 3.626281976699829, 3.6261966228485107, 3.4612321853637695, 2.966191053390503, 2.9480018615722656, 2.805302858352661, 2.756615161895752, 2.629784107208252, 2.569070816040039, 2.4473495483398438, 2.351980686187744, 2.351980686187744, 2.350198268890381, 2.343881607055664, 2.250297784805298, 2.2389819622039795, 8.358746528625488, 8.22321891784668, 8.043066024780273, 5.826204299926758, 5.424570560455322, 4.952042102813721, 4.918540954589844, 4.80190896987915, 3.9984281063079834, 3.8982632160186768, 3.5404205322265625, 3.3355798721313477, 3.056572437286377, 2.9993202686309814, 2.808525323867798, 2.7756712436676025, 2.7299911975860596, 2.6534414291381836, 2.455350160598755, 2.3707966804504395, 2.3707966804504395, 2.3707966804504395, 2.370739459991455, 2.370739459991455, 2.237401008605957, 2.218592882156372, 2.019395112991333, 1.9995253086090088, 1.9995253086090088, 1.9995253086090088, 1.9995603561401367, 1.9995603561401367, 1.9995603561401367, 21.140363693237305, 14.495627403259277, 5.0597028732299805, 9.574590682983398, 6.995868682861328, 5.6059041023254395, 5.347143173217773, 5.0827436447143555, 4.814958095550537, 4.560600280761719, 3.7181639671325684, 3.567530870437622, 3.5215401649475098, 3.4961254596710205, 3.303893566131592, 3.2070462703704834, 3.129563331604004, 2.9973714351654053, 2.945296287536621, 2.5878772735595703, 2.419435977935791, 2.3750243186950684, 2.3750243186950684, 2.3745410442352295, 2.219971179962158, 2.219971179962158, 2.219971179962158, 2.2188174724578857, 2.2184901237487793, 2.2124948501586914, 2.1492300033569336, 2.1386876106262207, 2.036015748977661, 14.734288215637207, 15.226815223693848, 6.35687255859375, 4.693187713623047, 4.362155914306641, 4.309728145599365, 3.913038492202759, 3.567152261734009, 3.4498794078826904, 3.155075788497925, 3.000556468963623, 2.8940322399139404, 2.8575291633605957, 2.8012592792510986, 2.6843221187591553, 2.6843221187591553, 2.6544289588928223, 2.637432098388672, 2.596682071685791, 2.5374743938446045, 2.469719171524048, 2.469658374786377, 2.315054178237915, 2.314816951751709, 2.2269041538238525, 2.2269041538238525, 2.2269041538238525, 2.2260892391204834, 2.2260892391204834, 2.0516622066497803, 2.0516433715820312, 28.007139205932617, 179.47024536132812, 24.771820068359375, 15.704475402832031, 5.941858768463135, 4.5697808265686035, 3.932241201400757, 3.7727138996124268, 3.4710047245025635, 3.4703335762023926, 3.182874917984009, 3.1245782375335693, 3.0015621185302734, 2.392251968383789, 2.32820987701416, 2.2327539920806885, 2.0912234783172607, 2.0912234783172607, 2.0909461975097656, 2.0909461975097656, 2.0909461975097656, 2.090953826904297, 2.090953826904297, 2.090710163116455, 2.090710163116455, 2.090338706970215, 2.090230703353882, 2.090230703353882, 2.016709804534912, 2.001300811767578, 1.9787511825561523, 1.9312660694122314, 6.600033760070801, 6.18018913269043, 5.745390892028809, 5.462586402893066, 4.485754013061523, 3.6341304779052734, 3.4718148708343506, 3.4371893405914307, 3.3933212757110596, 3.1742196083068848, 3.135174036026001, 2.9502439498901367, 2.8902182579040527, 2.8902101516723633, 2.8902101516723633, 2.743346929550171, 2.53995943069458, 2.53995943069458, 2.308419942855835, 2.308419942855835, 2.308419942855835, 2.308375358581543, 2.1209969520568848, 2.0442066192626953, 2.0293421745300293, 1.95735764503479, 1.95735764503479, 1.95735764503479, 1.95735764503479, 1.95735764503479, 12.950148582458496, 1.95735764503479], \"loglift\": [30.0, 29.0, 28.0, 27.0, 26.0, 25.0, 24.0, 23.0, 22.0, 21.0, 20.0, 19.0, 18.0, 17.0, 16.0, 15.0, 14.0, 13.0, 12.0, 11.0, 10.0, 9.0, 8.0, 7.0, 6.0, 5.0, 4.0, 3.0, 2.0, 1.0, 1.511299967765808, 1.5052000284194946, 1.503000020980835, 1.5016000270843506, 1.492300033569336, 1.4759000539779663, 1.4752000570297241, 1.4701999425888062, 1.4686000347137451, 1.4608999490737915, 1.4402999877929688, 1.4366999864578247, 1.4279999732971191, 1.423699975013733, 1.423699975013733, 1.4218000173568726, 1.4204000234603882, 1.4186999797821045, 1.410599946975708, 1.405400037765503, 1.4033000469207764, 1.3909000158309937, 1.3882999420166016, 1.385200023651123, 1.3831000328063965, 1.3791999816894531, 1.3703999519348145, 1.367300033569336, 1.364300012588501, 1.3619999885559082, 1.174299955368042, 1.04830002784729, 0.8059999942779541, 0.5735999941825867, 0.6906999945640564, 1.7699999809265137, 1.7648999691009521, 1.7537000179290771, 1.7425999641418457, 1.7307000160217285, 1.7223000526428223, 1.717900037765503, 1.7129000425338745, 1.712399959564209, 1.7074999809265137, 1.691100001335144, 1.6758999824523926, 1.673799991607666, 1.6691999435424805, 1.6632000207901, 1.6611000299453735, 1.6567000150680542, 1.6550999879837036, 1.6492999792099, 1.6418999433517456, 1.6405999660491943, 1.621399998664856, 1.611899971961975, 1.6067999601364136, 1.605299949645996, 1.6031999588012695, 1.597000002861023, 1.579800009727478, 1.579300045967102, 1.576300024986267, 1.347599983215332, 0.3905999958515167, 1.7889000177383423, 1.7828999757766724, 1.7746000289916992, 1.761199951171875, 1.7582999467849731, 1.7559000253677368, 1.749899983406067, 1.7496999502182007, 1.7410000562667847, 1.7318999767303467, 1.7172000408172607, 1.7164000272750854, 1.7144999504089355, 1.7139999866485596, 1.7055000066757202, 1.7034000158309937, 1.6953999996185303, 1.6943000555038452, 1.6907000541687012, 1.6820000410079956, 1.676300048828125, 1.6690000295639038, 1.6669000387191772, 1.6586999893188477, 1.6471999883651733, 1.6419999599456787, 1.6410000324249268, 1.6359000205993652, 1.63510000705719, 1.6338000297546387, 1.6273000240325928, 0.41200000047683716, 0.8252999782562256, 0.5925999879837036, 2.526900053024292, 2.4964001178741455, 2.434499979019165, 2.4300999641418457, 2.390500068664551, 2.3812999725341797, 2.3782999515533447, 2.3406999111175537, 2.3403000831604004, 2.3403000831604004, 2.33870005607605, 2.3232998847961426, 2.3185999393463135, 2.3183999061584473, 2.3171000480651855, 2.316999912261963, 2.3125, 2.294800043106079, 2.2878000736236572, 2.274399995803833, 2.274399995803833, 2.274399995803833, 2.274399995803833, 2.274399995803833, 2.274399995803833, 2.274399995803833, 2.274399995803833, 2.274399995803833, 2.274399995803833, 2.274399995803833, 2.274399995803833, 1.7132999897003174, 2.6059000492095947, 2.5481998920440674, 2.5373001098632812, 2.533099889755249, 2.5290000438690186, 2.513700008392334, 2.508500099182129, 2.4983999729156494, 2.4904000759124756, 2.4727001190185547, 2.4707000255584717, 2.4667000770568848, 2.456399917602539, 2.451900005340576, 2.4456000328063965, 2.4456000328063965, 2.43530011177063, 2.3963000774383545, 2.3945000171661377, 2.3801000118255615, 2.374799966812134, 2.359600067138672, 2.352299928665161, 2.3355000019073486, 2.3208000659942627, 2.3208000659942627, 2.319999933242798, 2.319499969482422, 2.303499937057495, 2.301500082015991, 2.575900077819824, 2.57450008392334, 2.5725998878479004, 2.5388998985290527, 2.529599905014038, 2.5165998935699463, 2.515700101852417, 2.511899948120117, 2.480299949645996, 2.4753000736236572, 2.4549999237060547, 2.441200017929077, 2.419100046157837, 2.4140000343322754, 2.3952999114990234, 2.3917999267578125, 2.386699914932251, 2.3777999877929688, 2.3515000343322754, 2.33870005607605, 2.33870005607605, 2.33870005607605, 2.3385000228881836, 2.3385000228881836, 2.316200017929077, 2.3127999305725098, 2.2715001106262207, 2.2667999267578125, 2.2667999267578125, 2.2667999267578125, 2.2667999267578125, 2.2667999267578125, 2.2667999267578125, 2.1298000812530518, 2.023400068283081, 1.5813000202178955, 2.7337000370025635, 2.706399917602539, 2.6805999279022217, 2.6742000579833984, 2.6670000553131104, 2.658799886703491, 2.650099992752075, 2.611599922180176, 2.60260009765625, 2.5996999740600586, 2.5980000495910645, 2.5845999717712402, 2.5771000385284424, 2.5708999633789062, 2.5590999126434326, 2.55430006980896, 2.5143001079559326, 2.490600109100342, 2.4837000370025635, 2.4837000370025635, 2.4834001064300537, 2.456899881362915, 2.456899881362915, 2.456899881362915, 2.456199884414673, 2.4560999870300293, 2.4556000232696533, 2.44320011138916, 2.4410998821258545, 2.418299913406372, 0.9057999849319458, 2.7916998863220215, 2.727400064468384, 2.6861000061035156, 2.673799991607666, 2.6717000007629395, 2.6535000801086426, 2.634000062942505, 2.626300096511841, 2.6043999195098877, 2.5910000801086426, 2.580699920654297, 2.5769999027252197, 2.571000099182129, 2.557800054550171, 2.557800054550171, 2.553999900817871, 2.5520999431610107, 2.5469000339508057, 2.539099931716919, 2.529599905014038, 2.529599905014038, 2.5053999423980713, 2.505199909210205, 2.4895999431610107, 2.4895999431610107, 2.4895999431610107, 2.4890999794006348, 2.4890999794006348, 2.453900098800659, 2.453900098800659, 0.8517000079154968, -1.0390000343322754, 2.8141000270843506, 2.79830002784729, 2.723900079727173, 2.6858999729156494, 2.6582999229431152, 2.6498000621795654, 2.631200075149536, 2.63100004196167, 2.609999895095825, 2.60509991645813, 2.5941998958587646, 2.51990008354187, 2.509700059890747, 2.492799997329712, 2.4642999172210693, 2.4642999172210693, 2.464099884033203, 2.464099884033203, 2.464099884033203, 2.4639999866485596, 2.4639999866485596, 2.463900089263916, 2.463900089263916, 2.463599920272827, 2.463399887084961, 2.463399887084961, 2.447200059890747, 2.44350004196167, 2.437999963760376, 2.4256999492645264, 2.7643001079559326, 2.7569000720977783, 2.747999906539917, 2.7414000034332275, 2.7118000984191895, 2.6714000701904297, 2.66129994392395, 2.6589999198913574, 2.6559998989105225, 2.6396000385284424, 2.6363000869750977, 2.6198999881744385, 2.6140999794006348, 2.6140999794006348, 2.6140999794006348, 2.5985000133514404, 2.573499917984009, 2.573499917984009, 2.538599967956543, 2.538599967956543, 2.538599967956543, 2.538599967956543, 2.5032999515533447, 2.4869000911712646, 2.4835000038146973, 2.466200113296509, 2.466200113296509, 2.466200113296509, 2.466200113296509, 2.466200113296509, 1.7060999870300293, 2.466200113296509], \"logprob\": [30.0, 29.0, 28.0, 27.0, 26.0, 25.0, 24.0, 23.0, 22.0, 21.0, 20.0, 19.0, 18.0, 17.0, 16.0, 15.0, 14.0, 13.0, 12.0, 11.0, 10.0, 9.0, 8.0, 7.0, 6.0, 5.0, 4.0, 3.0, 2.0, 1.0, -3.117500066757202, -3.3631999492645264, -3.441200017929077, -3.4862000942230225, -3.7451999187469482, -4.090400218963623, -4.102799892425537, -4.186600208282471, -4.212299823760986, -4.328100204467773, -4.588500022888184, -4.629000186920166, -4.718800067901611, -4.761099815368652, -4.761099815368652, -4.779600143432617, -4.792600154876709, -4.808300018310547, -4.88070011138916, -4.924799919128418, -4.94189977645874, -5.038899898529053, -5.058899879455566, -5.081500053405762, -5.096399784088135, -5.123799800872803, -5.184100151062012, -5.20389986038208, -5.224299907684326, -3.2834999561309814, -2.3928000926971436, -3.1171998977661133, -1.9818999767303467, -4.353099822998047, -4.613500118255615, -2.588900089263916, -2.86299991607666, -3.282099962234497, -3.5796000957489014, -3.8243000507354736, -3.9688000679016113, -4.037099838256836, -4.110499858856201, -4.116300106048584, -4.18310022354126, -4.380000114440918, -4.535699844360352, -4.555600166320801, -4.597899913787842, -4.650700092315674, -4.668300151824951, -4.7052001953125, -4.718599796295166, -4.764599800109863, -4.8206000328063965, -4.8302001953125, -4.963699817657471, -5.02370023727417, -5.0559000968933105, -5.064899921417236, -5.07420015335083, -5.112800121307373, -5.2093000411987305, -3.7084999084472656, -5.2281999588012695, -4.069200038909912, -2.39739990234375, -2.9070000648498535, -3.131999969482422, -3.3845999240875244, -3.691999912261963, -3.748699903488159, -3.7936999797821045, -3.89739990234375, -3.8998000621795654, -4.034200191497803, -4.158400058746338, -4.332300186157227, -4.34119987487793, -4.361700057983398, -4.367099761962891, -4.454699993133545, -4.474999904632568, -4.549600124359131, -4.559100151062012, -4.591400146484375, -4.664100170135498, -4.70989990234375, -4.765999794006348, -4.781499862670898, -4.8403000831604, -4.918000221252441, -4.951900005340576, -4.958399772644043, -4.9899001121521, -4.995100021362305, -5.003300189971924, -4.348299980163574, -2.375999927520752, -3.3403000831604004, -2.974600076675415, -2.3452999591827393, -3.0634000301361084, -3.80049991607666, -3.8376998901367188, -4.130000114440918, -4.188499927520752, -4.207099914550781, -4.417399883270264, -4.418000221252441, -4.4182000160217285, -4.427199840545654, -4.504300117492676, -4.526400089263916, -4.527200222015381, -4.533400058746338, -4.533699989318848, -4.554500102996826, -4.633999824523926, -4.664000034332275, -4.719699859619141, -4.719699859619141, -4.719699859619141, -4.719699859619141, -4.719699859619141, -4.719699859619141, -4.719699859619141, -4.719699859619141, -4.719699859619141, -4.719699859619141, -4.719699859619141, -4.719699859619141, -4.592599868774414, -2.462399959564209, -3.450700044631958, -3.566800117492676, -3.608599901199341, -3.647900104522705, -3.7825000286102295, -3.8252999782562256, -3.903599977493286, -3.961699962615967, -4.0817999839782715, -4.094399929046631, -4.1194000244140625, -4.1819000244140625, -4.208499908447266, -4.244200229644775, -4.244200229644775, -4.30109977722168, -4.4944000244140625, -4.502399921417236, -4.566299915313721, -4.589099884033203, -4.651400089263916, -4.68209981918335, -4.747499942779541, -4.8018999099731445, -4.8018999099731445, -4.803400039672852, -4.806700229644775, -4.863399982452393, -4.8703999519348145, -3.2788000106811523, -3.2964999675750732, -3.3206000328063965, -3.6767001152038574, -3.7574000358581543, -3.8615000247955322, -3.86929988861084, -3.8970999717712402, -4.111800193786621, -4.142099857330322, -4.258699893951416, -4.332099914550781, -4.4415998458862305, -4.4654998779296875, -4.550000190734863, -4.565299987792969, -4.586999893188477, -4.6244001388549805, -4.7281999588012695, -4.776100158691406, -4.776100158691406, -4.776100158691406, -4.776299953460693, -4.776299953460693, -4.856400012969971, -4.868299961090088, -5.003699779510498, -5.018199920654297, -5.018199920654297, -5.018199920654297, -5.018199920654297, -5.018199920654297, -5.018199920654297, -2.796999931335449, -3.2806999683380127, -4.775400161743164, -2.9851999282836914, -3.3262999057769775, -3.573499917984009, -3.62719988822937, -3.6851000785827637, -3.7474000453948975, -3.810499906539917, -4.053199768066406, -4.103499889373779, -4.1194000244140625, -4.128300189971924, -4.198299884796143, -4.235499858856201, -4.266200065612793, -4.321100234985352, -4.343500137329102, -4.512800216674805, -4.603799819946289, -4.629199981689453, -4.629199981689453, -4.629700183868408, -4.723599910736084, -4.723599910736084, -4.723599910736084, -4.724800109863281, -4.724999904632568, -4.728300094604492, -4.769599914550781, -4.776700019836426, -4.848700046539307, -4.381999969482422, -2.463200092315674, -3.4010000228881836, -3.745699882507324, -3.831199884414673, -3.845400094985962, -3.960099935531616, -4.072199821472168, -4.11329984664917, -4.2245001792907715, -4.2881999015808105, -4.33459997177124, -4.35099983215332, -4.3769001960754395, -4.432799816131592, -4.432799816131592, -4.447800159454346, -4.456099987030029, -4.476900100708008, -4.507699966430664, -4.544300079345703, -4.544300079345703, -4.633200168609619, -4.633399963378906, -4.68779993057251, -4.68779993057251, -4.68779993057251, -4.688600063323975, -4.688600063323975, -4.8053998947143555, -4.8053998947143555, -3.793800115585327, -3.826900005340576, -1.954200029373169, -2.425800085067749, -3.4719998836517334, -3.772599935531616, -3.9504001140594482, -4.000400066375732, -4.10230016708374, -4.102700233459473, -4.21019983291626, -4.233500003814697, -4.284599781036377, -4.585899829864502, -4.6230998039245605, -4.6819000244140625, -4.775899887084961, -4.775899887084961, -4.776299953460693, -4.776299953460693, -4.776299953460693, -4.776299953460693, -4.776299953460693, -4.776500225067139, -4.776500225067139, -4.7769999504089355, -4.777299880981445, -4.777299880981445, -4.8292999267578125, -4.840700149536133, -4.857500076293945, -4.894100189208984, -3.3264999389648438, -3.3996999263763428, -3.4814999103546143, -3.5387001037597656, -3.7653000354766846, -4.016200065612793, -4.072000026702881, -4.0843000411987305, -4.100200176239014, -4.183300018310547, -4.198999881744385, -4.276199817657471, -4.302499771118164, -4.302499771118164, -4.302499771118164, -4.370299816131592, -4.472300052642822, -4.472300052642822, -4.602799892425537, -4.602799892425537, -4.602799892425537, -4.602799892425537, -4.722700119018555, -4.776000022888184, -4.7866997718811035, -4.840199947357178, -4.840199947357178, -4.840199947357178, -4.840199947357178, -4.840199947357178, -3.710700035095215, -4.840199947357178]}, \"token.table\": {\"Topic\": [8, 8, 2, 4, 9, 4, 5, 8, 10, 9, 4, 2, 6, 2, 9, 1, 3, 8, 2, 1, 3, 5, 8, 4, 1, 4, 8, 3, 4, 1, 8, 1, 8, 7, 2, 6, 7, 9, 2, 7, 6, 7, 2, 8, 6, 10, 6, 4, 4, 2, 3, 2, 5, 1, 7, 3, 9, 9, 2, 1, 7, 8, 2, 10, 2, 9, 1, 2, 3, 8, 9, 9, 9, 6, 1, 10, 7, 6, 8, 3, 9, 1, 3, 8, 9, 6, 10, 1, 5, 5, 10, 4, 1, 9, 6, 10, 5, 3, 1, 10, 3, 1, 2, 7, 7, 8, 9, 9, 8, 9, 2, 10, 2, 10, 3, 6, 5, 4, 5, 8, 3, 1, 3, 8, 10, 10, 5, 8, 6, 8, 2, 6, 5, 7, 7, 4, 5, 1, 4, 8, 7, 6, 1, 6, 6, 7, 7, 10, 6, 4, 4, 9, 7, 7, 2, 8, 10, 4, 10, 4, 4, 8, 9, 8, 4, 4, 4, 8, 4, 9, 1, 6, 6, 6, 2, 2, 1, 3, 5, 10, 6, 2, 2, 3, 8, 1, 3, 6, 7, 9, 3, 2, 3, 9, 2, 10, 4, 6, 6, 1, 6, 5, 2, 2, 5, 6, 1, 9, 3, 1, 8, 6, 9, 7, 3, 3, 6, 4, 5, 6, 5, 9, 10, 1, 2, 5, 9, 7, 4, 10, 10, 10, 3, 6, 3, 7, 10, 10, 3, 6, 5, 7, 3, 5, 9, 6, 3, 10, 10, 5, 1, 4, 4, 3, 1, 5, 7, 5, 6, 4, 4, 9, 1, 1, 3, 5, 8, 4, 2, 3, 10, 8, 10, 1, 3, 5, 1, 6, 10, 8, 8, 3, 7, 2, 10, 10, 5, 4, 6, 3, 7, 10, 7, 1, 9, 8, 1, 1, 1, 7, 10, 7, 6, 3, 5, 7, 4, 2, 5, 7, 7, 3, 9, 1, 8, 5, 3, 7, 6, 10, 2, 9, 4, 2, 5, 1, 5], \"Freq\": [0.7583133578300476, 0.48741415143013, 0.7450379729270935, 0.7477101683616638, 0.666319727897644, 0.6441357135772705, 0.8033585548400879, 0.7534577250480652, 0.9708440899848938, 0.7629237174987793, 0.9853609800338745, 0.8171610236167908, 0.8435983061790466, 0.9326304793357849, 0.9551417231559753, 0.6186392903327942, 0.3756024241447449, 0.9281327724456787, 0.7947145700454712, 0.6922975778579712, 0.2914937138557434, 0.7255274653434753, 0.8639106750488281, 0.7477243542671204, 0.9626442790031433, 0.7167843580245972, 0.8981078267097473, 0.8838278651237488, 0.7477243542671204, 0.8569243550300598, 0.14282073080539703, 0.9862954020500183, 0.7450670599937439, 0.8068498373031616, 0.8440257906913757, 0.8132492899894714, 0.9080195426940918, 0.4996750056743622, 0.814426839351654, 0.135737806558609, 0.8330020308494568, 0.6790488362312317, 0.9276183843612671, 0.48740968108177185, 0.8145477771759033, 0.7874141335487366, 0.9217319488525391, 0.7477101683616638, 0.7477101683616638, 0.8700599074363708, 0.872279942035675, 0.8051928281784058, 0.8172106146812439, 0.8505710959434509, 0.4652829170227051, 0.7517307996749878, 0.8957547545433044, 0.4782506227493286, 0.8112280368804932, 0.8543910384178162, 0.82663893699646, 0.8981078267097473, 0.9142882227897644, 0.9451141953468323, 0.783672571182251, 0.4958571493625641, 0.48476001620292664, 0.24516598880290985, 0.24516598880290985, 0.022287817671895027, 0.4784160852432251, 0.4782523810863495, 0.9688428044319153, 0.87031489610672, 0.9552757143974304, 0.5108928084373474, 0.9399879574775696, 0.9728550314903259, 0.7666676640510559, 0.9115643501281738, 0.795183539390564, 0.9257076382637024, 0.7848730683326721, 0.6665430068969727, 0.4782523810863495, 0.7205464243888855, 0.7290365099906921, 0.9623706936836243, 0.850347101688385, 0.8532854318618774, 0.5108928084373474, 0.7477101683616638, 0.9831662178039551, 0.505369246006012, 0.5001186728477478, 0.6919912099838257, 0.7458540797233582, 0.9002837538719177, 0.7815563678741455, 0.8728061318397522, 0.9699447154998779, 0.9050028920173645, 0.8547725081443787, 0.8307445049285889, 0.9009125828742981, 0.9169777631759644, 0.9425441026687622, 0.4784160852432251, 0.6910772919654846, 0.8644701838493347, 0.9745714068412781, 0.6919912099838257, 0.6177535057067871, 0.30887675285339355, 0.9743121266365051, 0.8938943147659302, 0.8667433261871338, 0.9313334822654724, 0.6742653846740723, 0.6999053955078125, 0.8912869691848755, 0.7348682880401611, 0.9171900153160095, 0.852299153804779, 0.866393506526947, 0.8641013503074646, 0.956425130367279, 0.7881852984428406, 0.8077476024627686, 0.8984366059303284, 0.9468273520469666, 0.7695735096931458, 0.8272936344146729, 0.8422680497169495, 0.9009125828742981, 0.8749308586120605, 0.9212120771408081, 0.3757082521915436, 0.3757082521915436, 0.9851042032241821, 0.8580927848815918, 0.7502948641777039, 0.4139179289340973, 0.5518905520439148, 0.5001186728477478, 0.891916811466217, 0.9015140533447266, 0.9153173565864563, 0.5001186728477478, 0.6478032469749451, 0.9495108723640442, 0.4782523810863495, 0.6672512888908386, 0.9039568901062012, 0.9495171904563904, 0.8410069942474365, 0.8917118310928345, 0.7477101683616638, 0.8255069851875305, 0.7477101683616638, 0.8928136229515076, 0.8098086714744568, 0.8753154873847961, 0.8981078267097473, 0.886135458946228, 0.7477243542671204, 0.6445562839508057, 0.8098285794258118, 0.7477101683616638, 0.6400864124298096, 0.3784230053424835, 0.5676345229148865, 0.5001099109649658, 0.8473569750785828, 0.9616526961326599, 0.8912979364395142, 0.8963066935539246, 0.8549830317497253, 0.963503360748291, 0.6779100298881531, 0.8993938565254211, 0.9136953353881836, 0.8040921688079834, 0.9816575050354004, 0.7139646410942078, 0.8461114168167114, 0.8665245175361633, 0.4951978027820587, 0.857649028301239, 0.8590291142463684, 0.9763011932373047, 0.9822579622268677, 0.9744293093681335, 0.8643030524253845, 0.9834102392196655, 0.47147640585899353, 0.6477386951446533, 0.843618631362915, 0.8435983061790466, 0.9071884751319885, 0.5001099109649658, 0.7129355072975159, 0.8861750960350037, 0.9035189151763916, 0.8256053328514099, 0.843618631362915, 0.7476922273635864, 0.4782506227493286, 0.88393235206604, 0.9816272258758545, 0.7450670599937439, 0.5001099109649658, 0.478306382894516, 0.8409177660942078, 0.9295387864112854, 0.7794692516326904, 0.7537381649017334, 0.885823130607605, 0.9302588105201721, 0.6543276906013489, 0.7605187296867371, 0.8360323309898376, 0.5108928084373474, 0.8680102229118347, 0.8788437247276306, 0.8887712359428406, 0.4783913791179657, 0.7728341817855835, 0.700483500957489, 0.909086287021637, 0.8840895891189575, 0.8702628016471863, 0.592920184135437, 0.395280122756958, 0.8267951011657715, 0.49115532636642456, 0.5108928084373474, 0.866393506526947, 0.7760246992111206, 0.9570813179016113, 0.8932631015777588, 0.9009125828742981, 0.9548318982124329, 0.6784256100654602, 0.8414875268936157, 0.901472270488739, 0.8100682497024536, 0.13501137495040894, 0.4927705228328705, 0.8272169828414917, 0.8939527869224548, 0.6584765315055847, 0.8860355615615845, 0.814254105091095, 0.961422860622406, 0.9657942652702332, 0.9350787401199341, 0.7858580946922302, 0.6668177247047424, 0.9042032957077026, 0.9799343347549438, 0.5177950263023376, 0.8824881911277771, 0.9151691794395447, 0.8792968392372131, 0.9809182286262512, 0.8695955872535706, 0.7477243542671204, 0.9278624057769775, 0.8678300380706787, 0.8664101958274841, 0.9438603520393372, 0.5108928084373474, 0.8654819130897522, 0.8958524465560913, 0.8697541952133179, 0.8864498138427734, 0.8435983061790466, 0.7874141335487366, 0.7702136635780334, 0.9508488178253174, 0.7558313012123108, 0.9013810157775879, 0.8371170163154602, 0.6379231214523315, 0.5108928084373474, 0.8273131251335144, 0.745299220085144, 0.7326030731201172, 0.7822518348693848, 0.935440182685852, 0.866393506526947, 0.4675764739513397, 0.8321782350540161, 0.47818896174430847, 0.8984366059303284, 0.968112051486969, 0.9816076159477234, 0.9634972810745239, 0.7869765162467957, 0.4891873300075531, 0.6390668153762817, 0.8581916689872742, 0.7304021120071411, 0.8509920239448547, 0.8420966267585754, 0.7337723970413208, 0.975267231464386, 0.967452883720398, 0.8770775198936462, 0.8518999814987183, 0.9609684944152832, 0.478306382894516, 0.8321782350540161, 0.8639991879463196, 0.7784915566444397, 0.9722550511360168, 0.8420966267585754, 0.7121174931526184, 0.6919892430305481, 0.9918763041496277, 0.47818896174430847, 0.7477243542671204, 0.8681424260139465, 0.850347101688385, 0.8559564352035522, 0.730323076248169], \"Term\": [\"aba\", \"abs\", \"act\", \"action\", \"affect\", \"afl\", \"ahead\", \"almost\", \"analyst\", \"announce\", \"anz\", \"april\", \"aud\", \"aussie\", \"australia\", \"australian\", \"australian\", \"back\", \"balance\", \"bank\", \"bank\", \"banking\", \"begin\", \"believe\", \"big\", \"boss\", \"bounce\", \"branch\", \"buffer\", \"business\", \"business\", \"buy\", \"buying\", \"call\", \"cancel\", \"card\", \"case\", \"caution\", \"cba\", \"cba\", \"cent\", \"centre\", \"ceo\", \"chairman\", \"change\", \"charge\", \"chief\", \"cite\", \"class\", \"climb\", \"close\", \"closure\", \"cochlear\", \"collapse\", \"commbank\", \"commonwealth\", \"community\", \"comprehensive\", \"concern\", \"confidence\", \"consider\", \"construction\", \"consumer\", \"continue\", \"contract\", \"cope\", \"coronavirus\", \"coronavirus\", \"coronavirus\", \"coronavirus\", \"country\", \"cover\", \"covid\", \"credit\", \"crisis\", \"crude\", \"customer\", \"cut\", \"data\", \"datum\", \"death\", \"debt\", \"decline\", \"decrease\", \"default\", \"defend\", \"defer\", \"demand\", \"different\", \"dip\", \"dire\", \"discovery\", \"dividend\", \"dollar\", \"door\", \"dow\", \"downgrade\", \"drag\", \"drive\", \"drop\", \"due\", \"economic\", \"economist\", \"economy\", \"elle\", \"elliott\", \"everything\", \"exceed\", \"expand\", \"expert\", \"face\", \"fade\", \"fall\", \"fall\", \"fallout\", \"fear\", \"fight\", \"financial\", \"fitch\", \"flag\", \"force\", \"forecast\", \"freeze\", \"get\", \"gfc\", \"give\", \"global\", \"gonski\", \"government\", \"grim\", \"grocery\", \"guarantee\", \"halt\", \"hardship\", \"harper\", \"help\", \"high\", \"hire\", \"hire\", \"hit\", \"holder\", \"holiday\", \"home\", \"home\", \"idr\", \"impact\", \"important\", \"increase\", \"indonesia\", \"industry\", \"insurance\", \"insurer\", \"interest\", \"isolation\", \"job\", \"jobkeeper\", \"jone\", \"judge\", \"jump\", \"junk\", \"keep\", \"key\", \"know\", \"lead\", \"league\", \"leave\", \"level\", \"life\", \"limited\", \"live\", \"loan\", \"loan\", \"loo\", \"look\", \"lose\", \"loss\", \"low\", \"lower\", \"lunch\", \"major\", \"make\", \"man\", \"march\", \"market\", \"massive\", \"may\", \"measure\", \"money\", \"month\", \"morning\", \"mortgage\", \"nab\", \"need\", \"netball\", \"new\", \"next\", \"nrl\", \"nz\", \"nzd\", \"offer\", \"office\", \"open\", \"option\", \"order\", \"outlook\", \"overdraft\", \"owner\", \"pacific\", \"package\", \"pandemic\", \"panic\", \"paper\", \"partner\", \"pay\", \"payment\", \"people\", \"personal\", \"place\", \"plan\", \"player\", \"pledge\", \"plenty\", \"plummet\", \"point\", \"police\", \"post\", \"premiership\", \"press\", \"pressure\", \"price\", \"profit\", \"property\", \"push\", \"push\", \"put\", \"qanta\", \"quite\", \"raise\", \"rally\", \"rate\", \"record\", \"redundancy\", \"relief\", \"remain\", \"rent\", \"reopen\", \"repayment\", \"repayment\", \"request\", \"rescue\", \"response\", \"restriction\", \"retail\", \"return\", \"reveal\", \"right\", \"rise\", \"risk\", \"robertson\", \"sale\", \"say\", \"score\", \"scrap\", \"see\", \"set\", \"share\", \"shayne\", \"shock\", \"shopper\", \"show\", \"shrug\", \"shutdown\", \"situation\", \"slash\", \"slip\", \"slump\", \"small\", \"soft\", \"software\", \"spend\", \"spending\", \"spread\", \"stage\", \"stand\", \"star\", \"stateside\", \"step\", \"still\", \"stimulus\", \"stock\", \"stop\", \"stress\", \"stretch\", \"subsidy\", \"superannuation\", \"supermarket\", \"support\", \"surge\", \"suspend\", \"take\", \"tasmania\", \"temporarily\", \"time\", \"toll\", \"trail\", \"tread\", \"tumble\", \"unemployment\", \"update\", \"urge\", \"victoria\", \"virus\", \"vulnerable\", \"wage\", \"wait\", \"wake\", \"warn\", \"water\", \"way\", \"wealth\", \"westpac\", \"withdraw\", \"withstand\", \"worker\", \"world\", \"year\", \"yield\"]}, \"R\": 30, \"lambda.step\": 0.01, \"plot.opts\": {\"xlab\": \"PC1\", \"ylab\": \"PC2\"}, \"topic.order\": [9, 2, 6, 3, 7, 8, 5, 10, 4, 1]};\n",
       "\n",
       "function LDAvis_load_lib(url, callback){\n",
       "  var s = document.createElement('script');\n",
       "  s.src = url;\n",
       "  s.async = true;\n",
       "  s.onreadystatechange = s.onload = callback;\n",
       "  s.onerror = function(){console.warn(\"failed to load library \" + url);};\n",
       "  document.getElementsByTagName(\"head\")[0].appendChild(s);\n",
       "}\n",
       "\n",
       "if(typeof(LDAvis) !== \"undefined\"){\n",
       "   // already loaded: just create the visualization\n",
       "   !function(LDAvis){\n",
       "       new LDAvis(\"#\" + \"ldavis_el917048126257445989278386\", ldavis_el917048126257445989278386_data);\n",
       "   }(LDAvis);\n",
       "}else if(typeof define === \"function\" && define.amd){\n",
       "   // require.js is available: use it to load d3/LDAvis\n",
       "   require.config({paths: {d3: \"https://cdnjs.cloudflare.com/ajax/libs/d3/3.5.5/d3.min\"}});\n",
       "   require([\"d3\"], function(d3){\n",
       "      window.d3 = d3;\n",
       "      LDAvis_load_lib(\"https://cdn.rawgit.com/bmabey/pyLDAvis/files/ldavis.v1.0.0.js\", function(){\n",
       "        new LDAvis(\"#\" + \"ldavis_el917048126257445989278386\", ldavis_el917048126257445989278386_data);\n",
       "      });\n",
       "    });\n",
       "}else{\n",
       "    // require.js not available: dynamically load d3 & LDAvis\n",
       "    LDAvis_load_lib(\"https://cdnjs.cloudflare.com/ajax/libs/d3/3.5.5/d3.min.js\", function(){\n",
       "         LDAvis_load_lib(\"https://cdn.rawgit.com/bmabey/pyLDAvis/files/ldavis.v1.0.0.js\", function(){\n",
       "                 new LDAvis(\"#\" + \"ldavis_el917048126257445989278386\", ldavis_el917048126257445989278386_data);\n",
       "            })\n",
       "         });\n",
       "}\n",
       "</script>"
      ],
      "text/plain": [
       "PreparedData(topic_coordinates=              x         y  topics  cluster       Freq\n",
       "topic                                                \n",
       "8     -0.277224 -0.065571       1        1  21.577990\n",
       "1     -0.074881  0.192603       2        1  16.752789\n",
       "5     -0.230751 -0.043689       3        1  16.322174\n",
       "2      0.116403 -0.233416       4        1   7.755193\n",
       "6      0.103396  0.032368       5        1   7.123951\n",
       "7      0.065046 -0.021683       6        1   7.021571\n",
       "4      0.096230  0.050527       7        1   6.056201\n",
       "9      0.013652  0.021843       8        1   5.869350\n",
       "3      0.101947  0.029237       9        1   5.836937\n",
       "0      0.086181  0.037781      10        1   5.683837, topic_info=    Category        Freq         Term       Total  loglift  logprob\n",
       "2    Default  179.000000  coronavirus  179.000000  30.0000  30.0000\n",
       "50   Default   82.000000         bank   82.000000  29.0000  29.0000\n",
       "206  Default   24.000000        covid   24.000000  28.0000  28.0000\n",
       "30   Default   37.000000      westpac   37.000000  27.0000  27.0000\n",
       "733  Default   22.000000          anz   22.000000  26.0000  26.0000\n",
       "225  Default   18.000000        share   18.000000  25.0000  25.0000\n",
       "29   Default   28.000000          nab   28.000000  24.0000  24.0000\n",
       "89   Default   26.000000     mortgage   26.000000  23.0000  23.0000\n",
       "157  Default   15.000000    australia   15.000000  22.0000  22.0000\n",
       "136  Default   15.000000          hit   15.000000  21.0000  21.0000\n",
       "24   Default   21.000000         loan   21.000000  20.0000  20.0000\n",
       "98   Default   45.000000   australian   45.000000  19.0000  19.0000\n",
       "224  Default   28.000000     dividend   28.000000  18.0000  18.0000\n",
       "0    Default   28.000000     business   28.000000  17.0000  17.0000\n",
       "152  Default   21.000000       market   21.000000  16.0000  16.0000\n",
       "92   Default   18.000000          job   18.000000  15.0000  15.0000\n",
       "20   Default   22.000000     pandemic   22.000000  14.0000  14.0000\n",
       "16   Default   11.000000          say   11.000000  13.0000  13.0000\n",
       "140  Default   20.000000          big   20.000000  12.0000  12.0000\n",
       "122  Default   16.000000       relief   16.000000  11.0000  11.0000\n",
       "99   Default   14.000000         home   14.000000  10.0000  10.0000\n",
       "130  Default    9.000000     customer    9.000000   9.0000   9.0000\n",
       "42   Default   19.000000       crisis   19.000000   8.0000   8.0000\n",
       "340  Default   14.000000          new   14.000000   7.0000   7.0000\n",
       "8    Default   12.000000         fall   12.000000   6.0000   6.0000\n",
       "73   Default    8.000000         rate    8.000000   5.0000   5.0000\n",
       "71   Default    8.000000          cut    8.000000   4.0000   4.0000\n",
       "70   Default    8.000000       credit    8.000000   3.0000   3.0000\n",
       "1    Default   14.000000          cba   14.000000   2.0000   2.0000\n",
       "68   Default   12.000000        virus   12.000000   1.0000   1.0000\n",
       "..       ...         ...          ...         ...      ...      ...\n",
       "115  Topic10    5.098239     property    5.745391   2.7480  -3.4815\n",
       "23   Topic10    4.815047     increase    5.462586   2.7414  -3.5387\n",
       "448  Topic10    3.838675         jone    4.485754   2.7118  -3.7653\n",
       "507  Topic10    2.986838         jump    3.634130   2.6714  -4.0162\n",
       "447  Topic10    2.824692         give    3.471815   2.6613  -4.0720\n",
       "172  Topic10    2.790111         drop    3.437189   2.6590  -4.0843\n",
       "318  Topic10    2.746198       profit    3.393321   2.6560  -4.1002\n",
       "113  Topic10    2.527152     continue    3.174220   2.6396  -4.1833\n",
       "283  Topic10    2.487969         star    3.135174   2.6363  -4.1990\n",
       "232  Topic10    2.303022        major    2.950244   2.6199  -4.2762\n",
       "437  Topic10    2.243153       wealth    2.890218   2.6141  -4.3025\n",
       "445  Topic10    2.243141          dow    2.890210   2.6141  -4.3025\n",
       "446  Topic10    2.243141         fade    2.890210   2.6141  -4.3025\n",
       "231  Topic10    2.096225        defer    2.743347   2.5985  -4.3703\n",
       "681  Topic10    1.892884     software    2.539959   2.5735  -4.4723\n",
       "680  Topic10    1.892884       charge    2.539959   2.5735  -4.4723\n",
       "424  Topic10    1.661319          gfc    2.308420   2.5386  -4.6028\n",
       "426  Topic10    1.661319       stress    2.308420   2.5386  -4.6028\n",
       "425  Topic10    1.661319        raise    2.308420   2.5386  -4.6028\n",
       "509  Topic10    1.661259        shrug    2.308375   2.5386  -4.6028\n",
       "34   Topic10    1.473561         next    2.120997   2.5033  -4.7227\n",
       "669  Topic10    1.397075     tasmania    2.044207   2.4869  -4.7760\n",
       "469  Topic10    1.382254      request    2.029342   2.4835  -4.7867\n",
       "846  Topic10    1.310246    situation    1.957358   2.4662  -4.8402\n",
       "845  Topic10    1.310246        quite    1.957358   2.4662  -4.8402\n",
       "844  Topic10    1.310246      plummet    1.957358   2.4662  -4.8402\n",
       "843  Topic10    1.310246         dire    1.957358   2.4662  -4.8402\n",
       "842  Topic10    1.310246        crude    1.957358   2.4662  -4.8402\n",
       "8    Topic10    4.054031         fall   12.950149   1.7061  -3.7107\n",
       "847  Topic10    1.310246    stateside    1.957358   2.4662  -4.8402\n",
       "\n",
       "[354 rows x 6 columns], token_table=      Topic      Freq          Term\n",
       "term                               \n",
       "205       8  0.758313           aba\n",
       "527       8  0.487414           abs\n",
       "660       2  0.745038           act\n",
       "732       4  0.747710        action\n",
       "629       9  0.666320        affect\n",
       "410       4  0.644136           afl\n",
       "268       5  0.803359         ahead\n",
       "528       8  0.753458        almost\n",
       "329      10  0.970844       analyst\n",
       "314       9  0.762924      announce\n",
       "733       4  0.985361           anz\n",
       "427       2  0.817161         april\n",
       "944       6  0.843598           aud\n",
       "211       2  0.932630        aussie\n",
       "157       9  0.955142     australia\n",
       "98        1  0.618639    australian\n",
       "98        3  0.375602    australian\n",
       "49        8  0.928133          back\n",
       "877       2  0.794715       balance\n",
       "50        1  0.692298          bank\n",
       "50        3  0.291494          bank\n",
       "638       5  0.725527       banking\n",
       "567       8  0.863911         begin\n",
       "722       4  0.747724       believe\n",
       "140       1  0.962644           big\n",
       "52        4  0.716784          boss\n",
       "926       8  0.898108        bounce\n",
       "58        3  0.883828        branch\n",
       "723       4  0.747724        buffer\n",
       "0         1  0.856924      business\n",
       "...     ...       ...           ...\n",
       "217       1  0.981608         surge\n",
       "248       1  0.963497       suspend\n",
       "210       7  0.786977          take\n",
       "669      10  0.489187      tasmania\n",
       "791       7  0.639067   temporarily\n",
       "320       6  0.858192          time\n",
       "801       3  0.730402          toll\n",
       "905       5  0.850992         trail\n",
       "38        7  0.842097         tread\n",
       "614       4  0.733772        tumble\n",
       "97        2  0.975267  unemployment\n",
       "278       5  0.967453        update\n",
       "309       7  0.877078          urge\n",
       "444       7  0.851900      victoria\n",
       "68        3  0.960968         virus\n",
       "916       9  0.478306    vulnerable\n",
       "500       1  0.832178          wage\n",
       "570       8  0.863999          wait\n",
       "304       5  0.778492          wake\n",
       "155       3  0.972255          warn\n",
       "39        7  0.842097         water\n",
       "261       6  0.712117           way\n",
       "437      10  0.691989        wealth\n",
       "30        2  0.991876       westpac\n",
       "920       9  0.478189      withdraw\n",
       "726       4  0.747724     withstand\n",
       "367       2  0.868142        worker\n",
       "909       5  0.850347         world\n",
       "662       1  0.855956          year\n",
       "761       5  0.730323         yield\n",
       "\n",
       "[327 rows x 3 columns], R=30, lambda_step=0.01, plot_opts={'xlab': 'PC1', 'ylab': 'PC2'}, topic_order=[9, 2, 6, 3, 7, 8, 5, 10, 4, 1])"
      ]
     },
     "execution_count": 91,
     "metadata": {},
     "output_type": "execute_result"
    }
   ],
   "source": [
    "pyLDAvis.enable_notebook()\n",
    "vis = pyLDAvis.gensim.prepare(lda_model, corpus, id2word)\n",
    "vis"
   ]
  },
  {
   "cell_type": "markdown",
   "metadata": {},
   "source": [
    "### Use Mallet LDA Algorithm\n",
    "---\n",
    "Download from: http://mallet.cs.umass.edu/dist/mallet-2.0.8.zip"
   ]
  },
  {
   "cell_type": "code",
   "execution_count": 94,
   "metadata": {},
   "outputs": [],
   "source": [
    "mallet_path = './mallet-2.0.8/bin/mallet'\n",
    "ldamallet = gensim.models.wrappers.LdaMallet(mallet_path, corpus=corpus, num_topics=10, id2word=id2word)"
   ]
  },
  {
   "cell_type": "code",
   "execution_count": 95,
   "metadata": {},
   "outputs": [
    {
     "name": "stdout",
     "output_type": "stream",
     "text": [
      "[(0,\n",
      "  [('nab', 0.183206106870229),\n",
      "   ('australia', 0.0916030534351145),\n",
      "   ('virus', 0.04961832061068702),\n",
      "   ('update', 0.030534351145038167),\n",
      "   ('package', 0.030534351145038167),\n",
      "   ('increase', 0.022900763358778626),\n",
      "   ('year', 0.022900763358778626),\n",
      "   ('nba', 0.019083969465648856),\n",
      "   ('lose', 0.019083969465648856),\n",
      "   ('rent', 0.019083969465648856)]),\n",
      " (1,\n",
      "  [('business', 0.1593625498007968),\n",
      "   ('cba', 0.14342629482071714),\n",
      "   ('relief', 0.06772908366533864),\n",
      "   ('offer', 0.055776892430278883),\n",
      "   ('small', 0.03187250996015936),\n",
      "   ('economic', 0.027888446215139442),\n",
      "   ('rate', 0.027888446215139442),\n",
      "   ('afterpay', 0.01593625498007968),\n",
      "   ('owner', 0.01593625498007968),\n",
      "   ('post', 0.01593625498007968)]),\n",
      " (2,\n",
      "  [('bank', 0.1696113074204947),\n",
      "   ('westpac', 0.127208480565371),\n",
      "   ('covid', 0.06007067137809187),\n",
      "   ('low', 0.038869257950530034),\n",
      "   ('price', 0.0353356890459364),\n",
      "   ('close', 0.0353356890459364),\n",
      "   ('commonwealth', 0.03180212014134275),\n",
      "   ('branch', 0.028268551236749116),\n",
      "   ('force', 0.02120141342756184),\n",
      "   ('boss', 0.0176678445229682)]),\n",
      " (3,\n",
      "  [('bank', 0.16370106761565836),\n",
      "   ('mortgage', 0.09252669039145907),\n",
      "   ('crisis', 0.08540925266903915),\n",
      "   ('payment', 0.05338078291814947),\n",
      "   ('high', 0.028469750889679714),\n",
      "   ('month', 0.02491103202846975),\n",
      "   ('put', 0.021352313167259787),\n",
      "   ('spread', 0.021352313167259787),\n",
      "   ('freeze', 0.017793594306049824),\n",
      "   ('share', 0.017793594306049824)]),\n",
      " (4,\n",
      "  [('coronavirus', 0.35374149659863946),\n",
      "   ('pandemic', 0.06802721088435375),\n",
      "   ('cut', 0.034013605442176874),\n",
      "   ('push', 0.030612244897959183),\n",
      "   ('afl', 0.017006802721088437),\n",
      "   ('financial', 0.017006802721088437),\n",
      "   ('back', 0.013605442176870748),\n",
      "   ('loss', 0.013605442176870748),\n",
      "   ('plunge', 0.013605442176870748),\n",
      "   ('stock', 0.013605442176870748)]),\n",
      " (5,\n",
      "  [('big', 0.09433962264150944),\n",
      "   ('support', 0.06792452830188679),\n",
      "   ('repayment', 0.045283018867924525),\n",
      "   ('rise', 0.033962264150943396),\n",
      "   ('impact', 0.026415094339622643),\n",
      "   ('outlook', 0.022641509433962263),\n",
      "   ('urge', 0.018867924528301886),\n",
      "   ('rescue', 0.018867924528301886),\n",
      "   ('march', 0.018867924528301886),\n",
      "   ('ceo', 0.018867924528301886)]),\n",
      " (6,\n",
      "  [('dividend', 0.08148148148148149),\n",
      "   ('job', 0.07037037037037037),\n",
      "   ('fall', 0.05555555555555555),\n",
      "   ('surge', 0.037037037037037035),\n",
      "   ('confidence', 0.025925925925925925),\n",
      "   ('shutdown', 0.025925925925925925),\n",
      "   ('time', 0.025925925925925925),\n",
      "   ('point', 0.022222222222222223),\n",
      "   ('aussie', 0.022222222222222223),\n",
      "   ('reveal', 0.022222222222222223)]),\n",
      " (7,\n",
      "  [('australian', 0.13793103448275862),\n",
      "   ('hit', 0.07241379310344828),\n",
      "   ('market', 0.05862068965517241),\n",
      "   ('due', 0.05172413793103448),\n",
      "   ('warn', 0.041379310344827586),\n",
      "   ('unemployment', 0.03103448275862069),\n",
      "   ('fallout', 0.02413793103448276),\n",
      "   ('global', 0.02413793103448276),\n",
      "   ('drag', 0.02413793103448276),\n",
      "   ('face', 0.02413793103448276)]),\n",
      " (8,\n",
      "  [('coronavirus', 0.35738831615120276),\n",
      "   ('anz', 0.07216494845360824),\n",
      "   ('show', 0.03436426116838488),\n",
      "   ('worker', 0.01718213058419244),\n",
      "   ('demand', 0.01718213058419244),\n",
      "   ('debt', 0.01718213058419244),\n",
      "   ('lunch', 0.01718213058419244),\n",
      "   ('bad', 0.013745704467353952),\n",
      "   ('elliott', 0.013745704467353952),\n",
      "   ('set', 0.013745704467353952)]),\n",
      " (9,\n",
      "  [('loan', 0.1079136690647482),\n",
      "   ('share', 0.07913669064748201),\n",
      "   ('home', 0.06115107913669065),\n",
      "   ('covid', 0.05755395683453238),\n",
      "   ('buy', 0.050359712230215826),\n",
      "   ('credit', 0.04316546762589928),\n",
      "   ('customer', 0.039568345323741004),\n",
      "   ('consumer', 0.02877697841726619),\n",
      "   ('card', 0.02877697841726619),\n",
      "   ('economy', 0.025179856115107913)])]\n"
     ]
    }
   ],
   "source": [
    "# Show topics\n",
    "pprint(ldamallet.show_topics(formatted=False))"
   ]
  },
  {
   "cell_type": "code",
   "execution_count": 96,
   "metadata": {},
   "outputs": [
    {
     "name": "stdout",
     "output_type": "stream",
     "text": [
      "\n",
      "Coherence Score:  0.6567616727693781\n"
     ]
    }
   ],
   "source": [
    "# Compute Coherence Score\n",
    "coherence_model_ldamallet = CoherenceModel(model=ldamallet, texts=data_lemmatized, dictionary=id2word, coherence='c_v')\n",
    "coherence_model_ldamallet = coherence_model_ldamallet.get_coherence()\n",
    "print('\\nCoherence Score: ', coherence_model_ldamallet)"
   ]
  },
  {
   "cell_type": "markdown",
   "metadata": {},
   "source": [
    "### Find the optimal coherence score\n",
    "---"
   ]
  },
  {
   "cell_type": "code",
   "execution_count": 100,
   "metadata": {},
   "outputs": [],
   "source": [
    "def compute_coherence_values(dictionary, corpus, texts, limit, start=2, step=3):\n",
    "    \"\"\"\n",
    "    Compute c_v coherence for various number of topics\n",
    "    \n",
    "    Parameters:\n",
    "    -----------\n",
    "    dictionary : Gensim dictionary\n",
    "    corpus : Gensim corpus\n",
    "    texts : List of input texts\n",
    "    limit: Max num of topics\n",
    "    \n",
    "    Returns:\n",
    "    ---------\n",
    "    model_list : List of LDA topic models\n",
    "    coherence_values :  Coherence values corresponding to the LDA model with respective number of topics\n",
    "    \"\"\"\n",
    "    \n",
    "    coherence_values = []\n",
    "    model_list = []\n",
    "    for num_topics in range(start, limit, step):\n",
    "        model = gensim.models.wrappers.LdaMallet(mallet_path, corpus=corpus, num_topics=num_topics, id2word=id2word)\n",
    "        model_list.append(model)\n",
    "        coherencemodel = CoherenceModel(model=model, texts=texts, dictionary=dictionary, coherence='c_v')\n",
    "        coherence_values.append(coherencemodel.get_coherence())\n",
    "    return model_list, coherence_values"
   ]
  },
  {
   "cell_type": "code",
   "execution_count": 101,
   "metadata": {},
   "outputs": [],
   "source": [
    "# This will take a while\n",
    "model_list, coherence_values = compute_coherence_values(dictionary=id2word, corpus=corpus, texts=data_lemmatized, start=2, limit=40, step=6)"
   ]
  },
  {
   "cell_type": "code",
   "execution_count": 108,
   "metadata": {},
   "outputs": [
    {
     "data": {
      "image/png": "[encoded data removed]",
      "text/plain": [
       "<Figure size 432x288 with 1 Axes>"
      ]
     },
     "metadata": {
      "needs_background": "light"
     },
     "output_type": "display_data"
    }
   ],
   "source": [
    "# Show graph\n",
    "limit=40; start=2; step=6;\n",
    "x = range(start, limit, step)\n",
    "plt.plot(x, coherence_values)\n",
    "plt.xlabel(\"Num Topics\")\n",
    "plt.ylabel(\"Coherence score\")\n",
    "plt.legend((\"coherence_values\"), loc='best')\n",
    "plt.axvline(x=14, color='r')\n",
    "plt.show()"
   ]
  },
  {
   "cell_type": "code",
   "execution_count": 109,
   "metadata": {},
   "outputs": [
    {
     "name": "stdout",
     "output_type": "stream",
     "text": [
      "Num Topics = 2  has Coherence Value of 0.4817\n",
      "Num Topics = 8  has Coherence Value of 0.6448\n",
      "Num Topics = 14  has Coherence Value of 0.6879\n",
      "Num Topics = 20  has Coherence Value of 0.6847\n",
      "Num Topics = 26  has Coherence Value of 0.7036\n",
      "Num Topics = 32  has Coherence Value of 0.7256\n",
      "Num Topics = 38  has Coherence Value of 0.7409\n"
     ]
    }
   ],
   "source": [
    "# Print the coherence scores\n",
    "for m, cv in zip(x, coherence_values):\n",
    "    print(\"Num Topics =\",m,\" has Coherence Value of\", round(cv,4))"
   ]
  },
  {
   "cell_type": "code",
   "execution_count": 110,
   "metadata": {},
   "outputs": [
    {
     "name": "stdout",
     "output_type": "stream",
     "text": [
      "[(0,\n",
      "  '0.404*\"coronavirus\" + 0.056*\"close\" + 0.028*\"downgrade\" + '\n",
      "  '0.028*\"confidence\" + 0.028*\"afl\" + 0.022*\"bad\" + 0.022*\"fear\" + '\n",
      "  '0.022*\"income\" + 0.017*\"subsidy\" + 0.017*\"restart\"'),\n",
      " (1,\n",
      "  '0.176*\"cba\" + 0.157*\"nab\" + 0.049*\"show\" + 0.034*\"month\" + 0.034*\"economy\" '\n",
      "  '+ 0.029*\"increase\" + 0.025*\"property\" + 0.020*\"tumble\" + 0.020*\"level\" + '\n",
      "  '0.015*\"recession\"'),\n",
      " (2,\n",
      "  '0.317*\"bank\" + 0.125*\"big\" + 0.038*\"branch\" + 0.029*\"force\" + '\n",
      "  '0.029*\"commonwealth\" + 0.019*\"stock\" + 0.019*\"economist\" + 0.019*\"spread\" + '\n",
      "  '0.019*\"analyst\" + 0.014*\"hit\"'),\n",
      " (3,\n",
      "  '0.323*\"coronavirus\" + 0.127*\"bank\" + 0.091*\"pandemic\" + 0.045*\"price\" + '\n",
      "  '0.018*\"report\" + 0.014*\"season\" + 0.014*\"loss\" + 0.009*\"play\" + '\n",
      "  '0.009*\"ross\" + 0.009*\"shopper\"'),\n",
      " (4,\n",
      "  '0.155*\"covid\" + 0.119*\"mortgage\" + 0.068*\"payment\" + 0.046*\"relief\" + '\n",
      "  '0.041*\"push\" + 0.032*\"rise\" + 0.027*\"put\" + 0.027*\"rent\" + 0.023*\"freeze\" + '\n",
      "  '0.018*\"predict\"'),\n",
      " (5,\n",
      "  '0.135*\"australia\" + 0.109*\"anz\" + 0.047*\"impact\" + 0.042*\"package\" + '\n",
      "  '0.036*\"economic\" + 0.036*\"drop\" + 0.036*\"worker\" + 0.026*\"return\" + '\n",
      "  '0.026*\"chief\" + 0.021*\"data\"'),\n",
      " (6,\n",
      "  '0.199*\"australian\" + 0.141*\"share\" + 0.037*\"global\" + 0.026*\"slump\" + '\n",
      "  '0.026*\"plan\" + 0.021*\"hit\" + 0.021*\"ahead\" + 0.021*\"concern\" + '\n",
      "  '0.016*\"option\" + 0.016*\"late\"'),\n",
      " (7,\n",
      "  '0.179*\"business\" + 0.081*\"support\" + 0.063*\"offer\" + 0.063*\"hit\" + '\n",
      "  '0.054*\"repayment\" + 0.040*\"small\" + 0.027*\"reveal\" + 0.022*\"financial\" + '\n",
      "  '0.022*\"government\" + 0.018*\"outlook\"'),\n",
      " (8,\n",
      "  '0.098*\"market\" + 0.082*\"due\" + 0.066*\"warn\" + 0.038*\"drag\" + 0.033*\"lower\" '\n",
      "  '+ 0.033*\"measure\" + 0.033*\"ceo\" + 0.027*\"fallout\" + 0.027*\"debt\" + '\n",
      "  '0.027*\"urge\"'),\n",
      " (9,\n",
      "  '0.080*\"fall\" + 0.059*\"rate\" + 0.059*\"surge\" + 0.048*\"consumer\" + '\n",
      "  '0.032*\"point\" + 0.027*\"lose\" + 0.021*\"case\" + 0.021*\"order\" + 0.021*\"rally\" '\n",
      "  '+ 0.021*\"give\"'),\n",
      " (10,\n",
      "  '0.194*\"westpac\" + 0.102*\"job\" + 0.048*\"update\" + 0.038*\"high\" + '\n",
      "  '0.032*\"year\" + 0.027*\"lunch\" + 0.022*\"nba\" + 0.022*\"face\" + 0.022*\"drive\" + '\n",
      "  '0.022*\"wage\"'),\n",
      " (11,\n",
      "  '0.155*\"loan\" + 0.088*\"home\" + 0.073*\"buy\" + 0.062*\"credit\" + '\n",
      "  '0.057*\"customer\" + 0.052*\"cut\" + 0.041*\"card\" + 0.031*\"risk\" + '\n",
      "  '0.026*\"guarantee\" + 0.021*\"interest\"'),\n",
      " (12,\n",
      "  '0.148*\"dividend\" + 0.108*\"crisis\" + 0.080*\"virus\" + 0.040*\"shutdown\" + '\n",
      "  '0.040*\"time\" + 0.034*\"demand\" + 0.028*\"aussie\" + 0.023*\"limit\" + '\n",
      "  '0.023*\"sale\" + 0.023*\"call\"'),\n",
      " (13,\n",
      "  '0.317*\"coronavirus\" + 0.078*\"nab\" + 0.044*\"unemployment\" + 0.029*\"low\" + '\n",
      "  '0.024*\"pay\" + 0.020*\"major\" + 0.020*\"crisis\" + 0.020*\"plunge\" + '\n",
      "  '0.020*\"china\" + 0.015*\"stop\"')]\n"
     ]
    }
   ],
   "source": [
    "# Select the model and print the topics\n",
    "optimal_model = model_list[2]\n",
    "model_topics = optimal_model.show_topics(formatted=False)\n",
    "pprint(optimal_model.print_topics(num_words=10))"
   ]
  },
  {
   "cell_type": "markdown",
   "metadata": {},
   "source": [
    "### Dominant Topic for each Text\n",
    "---"
   ]
  },
  {
   "cell_type": "code",
   "execution_count": 112,
   "metadata": {},
   "outputs": [
    {
     "data": {
      "text/html": [
       "<div>\n",
       "<style scoped>\n",
       "    .dataframe tbody tr th:only-of-type {\n",
       "        vertical-align: middle;\n",
       "    }\n",
       "\n",
       "    .dataframe tbody tr th {\n",
       "        vertical-align: top;\n",
       "    }\n",
       "\n",
       "    .dataframe thead th {\n",
       "        text-align: right;\n",
       "    }\n",
       "</style>\n",
       "<table border=\"1\" class=\"dataframe\">\n",
       "  <thead>\n",
       "    <tr style=\"text-align: right;\">\n",
       "      <th></th>\n",
       "      <th>Document_No</th>\n",
       "      <th>Dominant_Topic</th>\n",
       "      <th>Topic_Perc_Contrib</th>\n",
       "      <th>Keywords</th>\n",
       "      <th>Text</th>\n",
       "    </tr>\n",
       "  </thead>\n",
       "  <tbody>\n",
       "    <tr>\n",
       "      <th>0</th>\n",
       "      <td>0</td>\n",
       "      <td>1.0</td>\n",
       "      <td>0.0816</td>\n",
       "      <td>cba, nab, show, month, economy, increase, prop...</td>\n",
       "      <td>Business orders crash on coronavirus: CBA index</td>\n",
       "    </tr>\n",
       "    <tr>\n",
       "      <th>1</th>\n",
       "      <td>1</td>\n",
       "      <td>3.0</td>\n",
       "      <td>0.0961</td>\n",
       "      <td>coronavirus, bank, pandemic, price, report, se...</td>\n",
       "      <td>Sydney, Melbourne house prices facing 10 per c...</td>\n",
       "    </tr>\n",
       "    <tr>\n",
       "      <th>2</th>\n",
       "      <td>2</td>\n",
       "      <td>0.0</td>\n",
       "      <td>0.0955</td>\n",
       "      <td>coronavirus, close, downgrade, confidence, afl...</td>\n",
       "      <td>Hoarding boom is over: CBA says shoppers have ...</td>\n",
       "    </tr>\n",
       "    <tr>\n",
       "      <th>3</th>\n",
       "      <td>3</td>\n",
       "      <td>3.0</td>\n",
       "      <td>0.1074</td>\n",
       "      <td>coronavirus, bank, pandemic, price, report, se...</td>\n",
       "      <td>Coronavirus: CBA report reveals what we’re buy...</td>\n",
       "    </tr>\n",
       "    <tr>\n",
       "      <th>4</th>\n",
       "      <td>4</td>\n",
       "      <td>1.0</td>\n",
       "      <td>0.1013</td>\n",
       "      <td>cba, nab, show, month, economy, increase, prop...</td>\n",
       "      <td>CBA increases coronavirus loan support</td>\n",
       "    </tr>\n",
       "    <tr>\n",
       "      <th>5</th>\n",
       "      <td>5</td>\n",
       "      <td>13.0</td>\n",
       "      <td>0.0903</td>\n",
       "      <td>coronavirus, nab, unemployment, low, pay, majo...</td>\n",
       "      <td>Coronavirus ASX: Coles, BHP Up, CBA, Westpac, ...</td>\n",
       "    </tr>\n",
       "    <tr>\n",
       "      <th>6</th>\n",
       "      <td>6</td>\n",
       "      <td>7.0</td>\n",
       "      <td>0.1015</td>\n",
       "      <td>business, support, offer, hit, repayment, smal...</td>\n",
       "      <td>CBA to move to minimum repayments next week - ...</td>\n",
       "    </tr>\n",
       "    <tr>\n",
       "      <th>7</th>\n",
       "      <td>7</td>\n",
       "      <td>1.0</td>\n",
       "      <td>0.1013</td>\n",
       "      <td>cba, nab, show, month, economy, increase, prop...</td>\n",
       "      <td>Businesses can 'tread water' for six months: CBA</td>\n",
       "    </tr>\n",
       "    <tr>\n",
       "      <th>8</th>\n",
       "      <td>8</td>\n",
       "      <td>12.0</td>\n",
       "      <td>0.1056</td>\n",
       "      <td>dividend, crisis, virus, shutdown, time, deman...</td>\n",
       "      <td>Commbank's benefit finder tool sees spike in d...</td>\n",
       "    </tr>\n",
       "    <tr>\n",
       "      <th>9</th>\n",
       "      <td>9</td>\n",
       "      <td>1.0</td>\n",
       "      <td>0.0932</td>\n",
       "      <td>cba, nab, show, month, economy, increase, prop...</td>\n",
       "      <td>House Prices to Fall 10pc: CBA</td>\n",
       "    </tr>\n",
       "  </tbody>\n",
       "</table>\n",
       "</div>"
      ],
      "text/plain": [
       "   Document_No  Dominant_Topic  Topic_Perc_Contrib  \\\n",
       "0            0             1.0              0.0816   \n",
       "1            1             3.0              0.0961   \n",
       "2            2             0.0              0.0955   \n",
       "3            3             3.0              0.1074   \n",
       "4            4             1.0              0.1013   \n",
       "5            5            13.0              0.0903   \n",
       "6            6             7.0              0.1015   \n",
       "7            7             1.0              0.1013   \n",
       "8            8            12.0              0.1056   \n",
       "9            9             1.0              0.0932   \n",
       "\n",
       "                                            Keywords  \\\n",
       "0  cba, nab, show, month, economy, increase, prop...   \n",
       "1  coronavirus, bank, pandemic, price, report, se...   \n",
       "2  coronavirus, close, downgrade, confidence, afl...   \n",
       "3  coronavirus, bank, pandemic, price, report, se...   \n",
       "4  cba, nab, show, month, economy, increase, prop...   \n",
       "5  coronavirus, nab, unemployment, low, pay, majo...   \n",
       "6  business, support, offer, hit, repayment, smal...   \n",
       "7  cba, nab, show, month, economy, increase, prop...   \n",
       "8  dividend, crisis, virus, shutdown, time, deman...   \n",
       "9  cba, nab, show, month, economy, increase, prop...   \n",
       "\n",
       "                                                Text  \n",
       "0   Business orders crash on coronavirus: CBA index   \n",
       "1  Sydney, Melbourne house prices facing 10 per c...  \n",
       "2  Hoarding boom is over: CBA says shoppers have ...  \n",
       "3  Coronavirus: CBA report reveals what we’re buy...  \n",
       "4            CBA increases coronavirus loan support   \n",
       "5  Coronavirus ASX: Coles, BHP Up, CBA, Westpac, ...  \n",
       "6  CBA to move to minimum repayments next week - ...  \n",
       "7  Businesses can 'tread water' for six months: CBA   \n",
       "8  Commbank's benefit finder tool sees spike in d...  \n",
       "9                    House Prices to Fall 10pc: CBA   "
      ]
     },
     "execution_count": 112,
     "metadata": {},
     "output_type": "execute_result"
    }
   ],
   "source": [
    "def format_topics_sentences(ldamodel=lda_model, corpus=corpus, texts=data):\n",
    "    # Init output\n",
    "    sent_topics_df = pd.DataFrame()\n",
    "\n",
    "    # Get main topic in each document\n",
    "    for i, row in enumerate(ldamodel[corpus]):\n",
    "        row = sorted(row, key=lambda x: (x[1]), reverse=True)\n",
    "        # Get the Dominant topic, Perc Contribution and Keywords for each document\n",
    "        for j, (topic_num, prop_topic) in enumerate(row):\n",
    "            if j == 0:  # => dominant topic\n",
    "                wp = ldamodel.show_topic(topic_num)\n",
    "                topic_keywords = \", \".join([word for word, prop in wp])\n",
    "                sent_topics_df = sent_topics_df.append(pd.Series([int(topic_num), round(prop_topic,4), topic_keywords]), ignore_index=True)\n",
    "            else:\n",
    "                break\n",
    "    sent_topics_df.columns = ['Dominant_Topic', 'Perc_Contribution', 'Topic_Keywords']\n",
    "\n",
    "    # Add original text to the end of the output\n",
    "    contents = pd.Series(texts)\n",
    "    sent_topics_df = pd.concat([sent_topics_df, contents], axis=1)\n",
    "    return(sent_topics_df)\n",
    "\n",
    "\n",
    "df_topic_sents_keywords = format_topics_sentences(ldamodel=optimal_model, corpus=corpus, texts=data)\n",
    "\n",
    "# Format\n",
    "df_dominant_topic = df_topic_sents_keywords.reset_index()\n",
    "df_dominant_topic.columns = ['Document_No', 'Dominant_Topic', 'Topic_Perc_Contrib', 'Keywords', 'Text']\n",
    "\n",
    "# Show\n",
    "df_dominant_topic.head(10)"
   ]
  },
  {
   "cell_type": "code",
   "execution_count": null,
   "metadata": {},
   "outputs": [],
   "source": []
  }
 ],
 "metadata": {
  "kernelspec": {
   "display_name": "Python 3",
   "language": "python",
   "name": "python3"
  },
  "language_info": {
   "codemirror_mode": {
    "name": "ipython",
    "version": 3
   },
   "file_extension": ".py",
   "mimetype": "text/x-python",
   "name": "python",
   "nbconvert_exporter": "python",
   "pygments_lexer": "ipython3",
   "version": "3.7.3"
  }
 },
 "nbformat": 4,
 "nbformat_minor": 2
}
