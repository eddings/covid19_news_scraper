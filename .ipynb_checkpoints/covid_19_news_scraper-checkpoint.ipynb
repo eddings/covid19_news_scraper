{
 "cells": [
  {
   "cell_type": "code",
   "execution_count": 1,
   "metadata": {},
   "outputs": [
    {
     "name": "stderr",
     "output_type": "stream",
     "text": [
      "/usr/local/lib/python3.7/site-packages/nltk/decorators.py:70: DeprecationWarning: `formatargspec` is deprecated since Python 3.5. Use `signature` and the `Signature` object directly\n",
      "  formatvalue=lambda value: \"\")[1:-1]\n",
      "/usr/local/lib/python3.7/site-packages/nltk/twitter/__init__.py:20: UserWarning: The twython library has not been installed. Some functionality from the twitter package will not be available.\n",
      "  warnings.warn(\"The twython library has not been installed. \"\n"
     ]
    }
   ],
   "source": [
    "import requests\n",
    "import pandas as pd\n",
    "import numpy as np\n",
    "import string\n",
    "import warnings\n",
    "import matplotlib.pyplot as pltimport \n",
    "import pyLDAvis.sklearn\n",
    "\n",
    "from pprint import pprint\n",
    "from urllib.request import urlopen\n",
    "from bs4 import BeautifulSoup as soup\n",
    "from tqdm import tqdm\n",
    "from sklearn.decomposition import NMF, LatentDirichletAllocation, TruncatedSVD\n",
    "from sklearn.feature_extraction.text import CountVectorizer\n",
    "from sklearn.manifold import TSNE\n",
    "from nltk.sentiment.vader import SentimentIntensityAnalyzer as SIA\n",
    "from pylab import bone, pcolor, colorbar, plot, show, rcParams, savefig\n",
    "\n",
    "warnings.filterwarnings('ignore')\n",
    "%matplotlib inline"
   ]
  },
  {
   "cell_type": "code",
   "execution_count": 2,
   "metadata": {},
   "outputs": [],
   "source": [
    "# spaCy based imports\n",
    "import spacy\n",
    "from spacy.lang.en.stop_words import STOP_WORDS\n",
    "from spacy.lang.en import English\n",
    "#!python3 -m spacy download en_core_web_sm"
   ]
  },
  {
   "cell_type": "code",
   "execution_count": 3,
   "metadata": {},
   "outputs": [],
   "source": [
    "pd.set_option('display.max_rows', 500)\n",
    "pd.set_option('display.max_columns', 500)\n",
    "pd.set_option('display.max_colwidth', -1)"
   ]
  },
  {
   "cell_type": "markdown",
   "metadata": {},
   "source": [
    "### Build the Google News Scraper using BeautifulSoup\n",
    "---"
   ]
  },
  {
   "cell_type": "code",
   "execution_count": 4,
   "metadata": {},
   "outputs": [
    {
     "name": "stdout",
     "output_type": "stream",
     "text": [
      "(100, 3)\n"
     ]
    },
    {
     "data": {
      "text/html": [
       "<div>\n",
       "<style scoped>\n",
       "    .dataframe tbody tr th:only-of-type {\n",
       "        vertical-align: middle;\n",
       "    }\n",
       "\n",
       "    .dataframe tbody tr th {\n",
       "        vertical-align: top;\n",
       "    }\n",
       "\n",
       "    .dataframe thead th {\n",
       "        text-align: right;\n",
       "    }\n",
       "</style>\n",
       "<table border=\"1\" class=\"dataframe\">\n",
       "  <thead>\n",
       "    <tr style=\"text-align: right;\">\n",
       "      <th></th>\n",
       "      <th>Date</th>\n",
       "      <th>Headline</th>\n",
       "      <th>Source</th>\n",
       "    </tr>\n",
       "  </thead>\n",
       "  <tbody>\n",
       "    <tr>\n",
       "      <th>0</th>\n",
       "      <td>2020-04-14</td>\n",
       "      <td>A huge hit to the business sector from coronavirus, NAB anticipates</td>\n",
       "      <td>Property Observer</td>\n",
       "    </tr>\n",
       "    <tr>\n",
       "      <th>1</th>\n",
       "      <td>2020-03-24</td>\n",
       "      <td>NAB worker sacked over false coronavirus test</td>\n",
       "      <td>The New Daily</td>\n",
       "    </tr>\n",
       "    <tr>\n",
       "      <th>2</th>\n",
       "      <td>2020-04-14</td>\n",
       "      <td>ASX lifts, while collapse in business confidence points to 'unprecedented' recession: NAB report</td>\n",
       "      <td>ABC News</td>\n",
       "    </tr>\n",
       "    <tr>\n",
       "      <th>3</th>\n",
       "      <td>2020-04-03</td>\n",
       "      <td>NAB expands coronavirus support to credit card and personal loan customers</td>\n",
       "      <td>Mozo.com.au</td>\n",
       "    </tr>\n",
       "    <tr>\n",
       "      <th>4</th>\n",
       "      <td>2020-03-23</td>\n",
       "      <td>Coronavirus ASX: Coles, BHP Up, CBA, Westpac, NAB, Afterpay Fall</td>\n",
       "      <td>Canstar</td>\n",
       "    </tr>\n",
       "  </tbody>\n",
       "</table>\n",
       "</div>"
      ],
      "text/plain": [
       "         Date  \\\n",
       "0  2020-04-14   \n",
       "1  2020-03-24   \n",
       "2  2020-04-14   \n",
       "3  2020-04-03   \n",
       "4  2020-03-23   \n",
       "\n",
       "                                                                                            Headline  \\\n",
       "0  A huge hit to the business sector from coronavirus, NAB anticipates                                 \n",
       "1  NAB worker sacked over false coronavirus test                                                       \n",
       "2  ASX lifts, while collapse in business confidence points to 'unprecedented' recession: NAB report    \n",
       "3  NAB expands coronavirus support to credit card and personal loan customers                          \n",
       "4  Coronavirus ASX: Coles, BHP Up, CBA, Westpac, NAB, Afterpay Fall                                    \n",
       "\n",
       "               Source  \n",
       "0   Property Observer  \n",
       "1   The New Daily      \n",
       "2   ABC News           \n",
       "3   Mozo.com.au        \n",
       "4   Canstar            "
      ]
     },
     "execution_count": 4,
     "metadata": {},
     "output_type": "execute_result"
    }
   ],
   "source": [
    "def covid19_news_scraper(search_query):\n",
    "    \"\"\"\n",
    "    Pass in a client name or search query and returns last 100 headlines associating the client with Covid-19   \n",
    "    \"\"\"\n",
    "    # Use this URL for Australian centric data\n",
    "    news_url = \"https://news.google.com.au/rss/search?q={\"+str(search_query)+\"%coronavirus}\"\n",
    "    Client = urlopen(news_url)\n",
    "    xml_page = Client.read()\n",
    "    Client.close()\n",
    "    # Beautiful Soup Library is the bomb\n",
    "    soup_page = soup(xml_page,\"xml\")\n",
    "    news_list = soup_page.findAll(\"item\")\n",
    "    # Two separate lists for News Title and Publication Date\n",
    "    l1 = []\n",
    "    l2 = []\n",
    "    for news in news_list:\n",
    "        # Append to a list\n",
    "        l1.append(news.title.text)\n",
    "        l2.append(news.pubDate.text)\n",
    "        # Zip the two together\n",
    "        l_tup = list(zip(l1, l2))\n",
    "    # Save this to a DataFrame\n",
    "    df = pd.DataFrame(l_tup, columns=['Title', 'Date'])\n",
    "    # Select Date of Headline\n",
    "    df['Date'] = pd.to_datetime(df['Date']).dt.date\n",
    "    # Split the Title into Headline and Source columns and then drop the 'Title' column\n",
    "    df[['Headline','Source']] = df['Title'].str.rsplit(\"-\",1,expand=True)\n",
    "    df.drop('Title', axis=1, inplace=True)\n",
    "    return df\n",
    "\n",
    "nab_df = covid19_news_scraper('NAB')\n",
    "print(nab_df.shape)\n",
    "nab_df.head()"
   ]
  },
  {
   "cell_type": "code",
   "execution_count": 5,
   "metadata": {},
   "outputs": [
    {
     "name": "stdout",
     "output_type": "stream",
     "text": [
      "(100, 3)\n"
     ]
    },
    {
     "data": {
      "text/html": [
       "<div>\n",
       "<style scoped>\n",
       "    .dataframe tbody tr th:only-of-type {\n",
       "        vertical-align: middle;\n",
       "    }\n",
       "\n",
       "    .dataframe tbody tr th {\n",
       "        vertical-align: top;\n",
       "    }\n",
       "\n",
       "    .dataframe thead th {\n",
       "        text-align: right;\n",
       "    }\n",
       "</style>\n",
       "<table border=\"1\" class=\"dataframe\">\n",
       "  <thead>\n",
       "    <tr style=\"text-align: right;\">\n",
       "      <th></th>\n",
       "      <th>Date</th>\n",
       "      <th>Headline</th>\n",
       "      <th>Source</th>\n",
       "    </tr>\n",
       "  </thead>\n",
       "  <tbody>\n",
       "    <tr>\n",
       "      <th>0</th>\n",
       "      <td>2020-04-16</td>\n",
       "      <td>Coronavirus Sees CBA Automatically Cut Mortgage Payments to Minimum</td>\n",
       "      <td>Canstar</td>\n",
       "    </tr>\n",
       "    <tr>\n",
       "      <th>1</th>\n",
       "      <td>2020-03-19</td>\n",
       "      <td>Commonwealth Bank boss says the spread of coronavirus will have a worse impact than the global financial crisis</td>\n",
       "      <td>ABC News</td>\n",
       "    </tr>\n",
       "    <tr>\n",
       "      <th>2</th>\n",
       "      <td>2020-04-14</td>\n",
       "      <td>Hoarding boom is over: CBA says shoppers have closed their wallets</td>\n",
       "      <td>The Age</td>\n",
       "    </tr>\n",
       "    <tr>\n",
       "      <th>3</th>\n",
       "      <td>2020-03-24</td>\n",
       "      <td>Business orders crash on coronavirus: CBA index</td>\n",
       "      <td>The Australian Financial Review</td>\n",
       "    </tr>\n",
       "    <tr>\n",
       "      <th>4</th>\n",
       "      <td>2020-03-31</td>\n",
       "      <td>Coronavirus: CBA report reveals what we’re buying during pandemic</td>\n",
       "      <td>NEWS.com.au</td>\n",
       "    </tr>\n",
       "  </tbody>\n",
       "</table>\n",
       "</div>"
      ],
      "text/plain": [
       "         Date  \\\n",
       "0  2020-04-16   \n",
       "1  2020-03-19   \n",
       "2  2020-04-14   \n",
       "3  2020-03-24   \n",
       "4  2020-03-31   \n",
       "\n",
       "                                                                                                           Headline  \\\n",
       "0  Coronavirus Sees CBA Automatically Cut Mortgage Payments to Minimum                                                \n",
       "1  Commonwealth Bank boss says the spread of coronavirus will have a worse impact than the global financial crisis    \n",
       "2  Hoarding boom is over: CBA says shoppers have closed their wallets                                                 \n",
       "3  Business orders crash on coronavirus: CBA index                                                                    \n",
       "4  Coronavirus: CBA report reveals what we’re buying during pandemic                                                  \n",
       "\n",
       "                             Source  \n",
       "0   Canstar                          \n",
       "1   ABC News                         \n",
       "2   The Age                          \n",
       "3   The Australian Financial Review  \n",
       "4   NEWS.com.au                      "
      ]
     },
     "execution_count": 5,
     "metadata": {},
     "output_type": "execute_result"
    }
   ],
   "source": [
    "cba_df = covid19_news_scraper('CBA')\n",
    "print(cba_df.shape)\n",
    "cba_df.head()"
   ]
  },
  {
   "cell_type": "code",
   "execution_count": 6,
   "metadata": {},
   "outputs": [
    {
     "name": "stdout",
     "output_type": "stream",
     "text": [
      "(100, 3)\n"
     ]
    },
    {
     "data": {
      "text/html": [
       "<div>\n",
       "<style scoped>\n",
       "    .dataframe tbody tr th:only-of-type {\n",
       "        vertical-align: middle;\n",
       "    }\n",
       "\n",
       "    .dataframe tbody tr th {\n",
       "        vertical-align: top;\n",
       "    }\n",
       "\n",
       "    .dataframe thead th {\n",
       "        text-align: right;\n",
       "    }\n",
       "</style>\n",
       "<table border=\"1\" class=\"dataframe\">\n",
       "  <thead>\n",
       "    <tr style=\"text-align: right;\">\n",
       "      <th></th>\n",
       "      <th>Date</th>\n",
       "      <th>Headline</th>\n",
       "      <th>Source</th>\n",
       "    </tr>\n",
       "  </thead>\n",
       "  <tbody>\n",
       "    <tr>\n",
       "      <th>0</th>\n",
       "      <td>2020-04-16</td>\n",
       "      <td>Coronavirus infecting property sentiment: ANZ</td>\n",
       "      <td>Property Observer</td>\n",
       "    </tr>\n",
       "    <tr>\n",
       "      <th>1</th>\n",
       "      <td>2020-03-20</td>\n",
       "      <td>The big four banks are letting borrowers hit pause on their payments, but this is no mortgage holiday</td>\n",
       "      <td>ABC News</td>\n",
       "    </tr>\n",
       "    <tr>\n",
       "      <th>2</th>\n",
       "      <td>2020-03-24</td>\n",
       "      <td>ANZ signals further relief for customers during crisis</td>\n",
       "      <td>6PR</td>\n",
       "    </tr>\n",
       "    <tr>\n",
       "      <th>3</th>\n",
       "      <td>2020-04-04</td>\n",
       "      <td>'Australia won't look the same': ANZ's Elliott warns coronavirus impact will be generational</td>\n",
       "      <td>The Age</td>\n",
       "    </tr>\n",
       "    <tr>\n",
       "      <th>4</th>\n",
       "      <td>2020-03-24</td>\n",
       "      <td>Big bank coronavirus support: How to defer your mortgage repayments</td>\n",
       "      <td>Mozo.com.au</td>\n",
       "    </tr>\n",
       "  </tbody>\n",
       "</table>\n",
       "</div>"
      ],
      "text/plain": [
       "         Date  \\\n",
       "0  2020-04-16   \n",
       "1  2020-03-20   \n",
       "2  2020-03-24   \n",
       "3  2020-04-04   \n",
       "4  2020-03-24   \n",
       "\n",
       "                                                                                                 Headline  \\\n",
       "0  Coronavirus infecting property sentiment: ANZ                                                            \n",
       "1  The big four banks are letting borrowers hit pause on their payments, but this is no mortgage holiday    \n",
       "2  ANZ signals further relief for customers during crisis                                                   \n",
       "3  'Australia won't look the same': ANZ's Elliott warns coronavirus impact will be generational             \n",
       "4  Big bank coronavirus support: How to defer your mortgage repayments                                      \n",
       "\n",
       "               Source  \n",
       "0   Property Observer  \n",
       "1   ABC News           \n",
       "2   6PR                \n",
       "3   The Age            \n",
       "4   Mozo.com.au        "
      ]
     },
     "execution_count": 6,
     "metadata": {},
     "output_type": "execute_result"
    }
   ],
   "source": [
    "anz_df = covid19_news_scraper('ANZ')\n",
    "print(anz_df.shape)\n",
    "anz_df.head()"
   ]
  },
  {
   "cell_type": "code",
   "execution_count": 7,
   "metadata": {},
   "outputs": [
    {
     "name": "stdout",
     "output_type": "stream",
     "text": [
      "(100, 3)\n"
     ]
    },
    {
     "data": {
      "text/html": [
       "<div>\n",
       "<style scoped>\n",
       "    .dataframe tbody tr th:only-of-type {\n",
       "        vertical-align: middle;\n",
       "    }\n",
       "\n",
       "    .dataframe tbody tr th {\n",
       "        vertical-align: top;\n",
       "    }\n",
       "\n",
       "    .dataframe thead th {\n",
       "        text-align: right;\n",
       "    }\n",
       "</style>\n",
       "<table border=\"1\" class=\"dataframe\">\n",
       "  <thead>\n",
       "    <tr style=\"text-align: right;\">\n",
       "      <th></th>\n",
       "      <th>Date</th>\n",
       "      <th>Headline</th>\n",
       "      <th>Source</th>\n",
       "    </tr>\n",
       "  </thead>\n",
       "  <tbody>\n",
       "    <tr>\n",
       "      <th>0</th>\n",
       "      <td>2020-04-16</td>\n",
       "      <td>Riskier funds have been exposed by coronavirus: Westpac</td>\n",
       "      <td>The Australian Financial Review</td>\n",
       "    </tr>\n",
       "    <tr>\n",
       "      <th>1</th>\n",
       "      <td>2020-04-14</td>\n",
       "      <td>Westpac flags $1.4b hit to earnings, braces for coronavirus impact</td>\n",
       "      <td>Sydney Morning Herald</td>\n",
       "    </tr>\n",
       "    <tr>\n",
       "      <th>2</th>\n",
       "      <td>2020-03-25</td>\n",
       "      <td>How Westpac has responded to the coronavirus crisis</td>\n",
       "      <td>The Australian Financial Review</td>\n",
       "    </tr>\n",
       "    <tr>\n",
       "      <th>3</th>\n",
       "      <td>2020-04-15</td>\n",
       "      <td>Survey reveals coronavirus caused consumer confidence to fall</td>\n",
       "      <td>NEWS.com.au</td>\n",
       "    </tr>\n",
       "    <tr>\n",
       "      <th>4</th>\n",
       "      <td>2020-03-20</td>\n",
       "      <td>The big four banks are letting borrowers hit pause on their payments, but this is no mortgage holiday</td>\n",
       "      <td>ABC News</td>\n",
       "    </tr>\n",
       "  </tbody>\n",
       "</table>\n",
       "</div>"
      ],
      "text/plain": [
       "         Date  \\\n",
       "0  2020-04-16   \n",
       "1  2020-04-14   \n",
       "2  2020-03-25   \n",
       "3  2020-04-15   \n",
       "4  2020-03-20   \n",
       "\n",
       "                                                                                                 Headline  \\\n",
       "0  Riskier funds have been exposed by coronavirus: Westpac                                                  \n",
       "1  Westpac flags $1.4b hit to earnings, braces for coronavirus impact                                       \n",
       "2  How Westpac has responded to the coronavirus crisis                                                      \n",
       "3  Survey reveals coronavirus caused consumer confidence to fall                                            \n",
       "4  The big four banks are letting borrowers hit pause on their payments, but this is no mortgage holiday    \n",
       "\n",
       "                             Source  \n",
       "0   The Australian Financial Review  \n",
       "1   Sydney Morning Herald            \n",
       "2   The Australian Financial Review  \n",
       "3   NEWS.com.au                      \n",
       "4   ABC News                         "
      ]
     },
     "execution_count": 7,
     "metadata": {},
     "output_type": "execute_result"
    }
   ],
   "source": [
    "wbc_df = covid19_news_scraper('Westpac')\n",
    "print(wbc_df.shape)\n",
    "wbc_df.head()"
   ]
  },
  {
   "cell_type": "raw",
   "metadata": {},
   "source": [
    "Alternative News Scraper - https://github.com/serpapi/google-search-results-python/blob/master/README.md"
   ]
  },
  {
   "cell_type": "markdown",
   "metadata": {},
   "source": [
    "### Sentiment Analyis on Text\n",
    "---"
   ]
  },
  {
   "cell_type": "code",
   "execution_count": 9,
   "metadata": {},
   "outputs": [
    {
     "name": "stdout",
     "output_type": "stream",
     "text": [
      "Completed processing CBA ...\n",
      "(100, 5)\n"
     ]
    },
    {
     "data": {
      "text/html": [
       "<div>\n",
       "<style scoped>\n",
       "    .dataframe tbody tr th:only-of-type {\n",
       "        vertical-align: middle;\n",
       "    }\n",
       "\n",
       "    .dataframe tbody tr th {\n",
       "        vertical-align: top;\n",
       "    }\n",
       "\n",
       "    .dataframe thead th {\n",
       "        text-align: right;\n",
       "    }\n",
       "</style>\n",
       "<table border=\"1\" class=\"dataframe\">\n",
       "  <thead>\n",
       "    <tr style=\"text-align: right;\">\n",
       "      <th></th>\n",
       "      <th>Client</th>\n",
       "      <th>Date</th>\n",
       "      <th>Headline</th>\n",
       "      <th>Source</th>\n",
       "      <th>Composite Score</th>\n",
       "    </tr>\n",
       "  </thead>\n",
       "  <tbody>\n",
       "    <tr>\n",
       "      <th>0</th>\n",
       "      <td>CBA</td>\n",
       "      <td>2020-04-16</td>\n",
       "      <td>Coronavirus Sees CBA Automatically Cut Mortgage Payments to Minimum</td>\n",
       "      <td>Canstar</td>\n",
       "      <td>-0.2732</td>\n",
       "    </tr>\n",
       "    <tr>\n",
       "      <th>1</th>\n",
       "      <td>CBA</td>\n",
       "      <td>2020-03-19</td>\n",
       "      <td>Commonwealth Bank boss says the spread of coronavirus will have a worse impact than the global financial crisis</td>\n",
       "      <td>ABC News</td>\n",
       "      <td>-0.8020</td>\n",
       "    </tr>\n",
       "    <tr>\n",
       "      <th>2</th>\n",
       "      <td>CBA</td>\n",
       "      <td>2020-04-14</td>\n",
       "      <td>Hoarding boom is over: CBA says shoppers have closed their wallets</td>\n",
       "      <td>The Age</td>\n",
       "      <td>0.0000</td>\n",
       "    </tr>\n",
       "    <tr>\n",
       "      <th>3</th>\n",
       "      <td>CBA</td>\n",
       "      <td>2020-03-24</td>\n",
       "      <td>Business orders crash on coronavirus: CBA index</td>\n",
       "      <td>The Australian Financial Review</td>\n",
       "      <td>-0.4019</td>\n",
       "    </tr>\n",
       "    <tr>\n",
       "      <th>4</th>\n",
       "      <td>CBA</td>\n",
       "      <td>2020-03-31</td>\n",
       "      <td>Coronavirus: CBA report reveals what we’re buying during pandemic</td>\n",
       "      <td>NEWS.com.au</td>\n",
       "      <td>0.0000</td>\n",
       "    </tr>\n",
       "  </tbody>\n",
       "</table>\n",
       "</div>"
      ],
      "text/plain": [
       "  Client        Date  \\\n",
       "0  CBA    2020-04-16   \n",
       "1  CBA    2020-03-19   \n",
       "2  CBA    2020-04-14   \n",
       "3  CBA    2020-03-24   \n",
       "4  CBA    2020-03-31   \n",
       "\n",
       "                                                                                                           Headline  \\\n",
       "0  Coronavirus Sees CBA Automatically Cut Mortgage Payments to Minimum                                                \n",
       "1  Commonwealth Bank boss says the spread of coronavirus will have a worse impact than the global financial crisis    \n",
       "2  Hoarding boom is over: CBA says shoppers have closed their wallets                                                 \n",
       "3  Business orders crash on coronavirus: CBA index                                                                    \n",
       "4  Coronavirus: CBA report reveals what we’re buying during pandemic                                                  \n",
       "\n",
       "                             Source  Composite Score  \n",
       "0   Canstar                         -0.2732           \n",
       "1   ABC News                        -0.8020           \n",
       "2   The Age                          0.0000           \n",
       "3   The Australian Financial Review -0.4019           \n",
       "4   NEWS.com.au                      0.0000           "
      ]
     },
     "execution_count": 9,
     "metadata": {},
     "output_type": "execute_result"
    }
   ],
   "source": [
    "def covid19_news_scraper(search_query):\n",
    "    \"\"\"\n",
    "    Pass in a client name or search query and returns last 100 headlines associating the client with Covid-19   \n",
    "    \"\"\"\n",
    "    # Use this URL for Australian centric data\n",
    "    news_url = \"https://news.google.com.au/rss/search?q={\"+str(search_query)+\"%coronavirus}\"\n",
    "    Client = urlopen(news_url)\n",
    "    xml_page = Client.read()\n",
    "    Client.close()\n",
    "    # Beautiful Soup Library is the bomb\n",
    "    soup_page = soup(xml_page,\"xml\")\n",
    "    news_list = soup_page.findAll(\"item\")\n",
    "    \n",
    "    # Two separate lists for News Title and Publication Date\n",
    "    l1 = []\n",
    "    l2 = []\n",
    "    for news in news_list:\n",
    "        # Append to a list\n",
    "        l1.append(news.title.text)\n",
    "        l2.append(news.pubDate.text)\n",
    "        # Zip the two together\n",
    "        l_tup = list(zip(l1, l2))\n",
    "    \n",
    "    # Save this to a DataFrame\n",
    "    df = pd.DataFrame(l_tup, columns=['Title', 'Date'])\n",
    "    # Select Date of Headline\n",
    "    df['Date'] = pd.to_datetime(df['Date']).dt.date\n",
    "    # Split the Title into Headline and Source columns and then drop the 'Title' column\n",
    "    df[['Headline','Source']] = df['Title'].str.rsplit(\"-\",1,expand=True)\n",
    "    df.drop('Title', axis=1, inplace=True)\n",
    "    df['Client'] = str(search_query)\n",
    "    return df\n",
    "\n",
    "def sentiment_analyser(search_query):\n",
    "    \"\"\"\n",
    "    Runs a Google News Search on the input string and then uses VADER sentiment analysis engine on each returned headline.\n",
    "    Input: Search Query String\n",
    "    Output: DataFrame with compound sentiment score for each news article\n",
    "    \"\"\"\n",
    "    # Create a Covid-19 News DataFrame for each organization of interest\n",
    "    news_df = covid19_news_scraper(search_query)\n",
    "    # Initialize VADER Sentiment Intensity Analyzer \n",
    "    sia = SIA()\n",
    "    results = []\n",
    "\n",
    "    # Calculate the polarity score for each headline associated with the organization\n",
    "    for row in news_df['Headline']:\n",
    "        pol_score = sia.polarity_scores(row)\n",
    "        pol_score['Headline'] = row\n",
    "        results.append(pol_score)\n",
    "    \n",
    "    # Create the Sentiment DataFrame\n",
    "    sent_df = pd.DataFrame.from_records(results)\n",
    "    # Merge the two dataframes together on the 'Headline' column\n",
    "    merge_df = news_df.merge(sent_df, on='Headline')\n",
    "    # Re-order and Rename the columns\n",
    "    merge_df = merge_df.rename(columns={'compound':'Composite Score'})\n",
    "    col_order = ['Client','Date','Headline','Source','Composite Score']#,'neg','neu','pos']\n",
    "    print('Completed processing %s' % search_query, \"...\")\n",
    "    return merge_df[col_order]\n",
    "\n",
    "cba_df = sentiment_analyser('CBA')\n",
    "print(cba_df.shape)\n",
    "cba_df.head()"
   ]
  },
  {
   "cell_type": "code",
   "execution_count": 10,
   "metadata": {},
   "outputs": [
    {
     "name": "stdout",
     "output_type": "stream",
     "text": [
      "Completed processing NAB ...\n",
      "(100, 5)\n"
     ]
    },
    {
     "data": {
      "text/html": [
       "<div>\n",
       "<style scoped>\n",
       "    .dataframe tbody tr th:only-of-type {\n",
       "        vertical-align: middle;\n",
       "    }\n",
       "\n",
       "    .dataframe tbody tr th {\n",
       "        vertical-align: top;\n",
       "    }\n",
       "\n",
       "    .dataframe thead th {\n",
       "        text-align: right;\n",
       "    }\n",
       "</style>\n",
       "<table border=\"1\" class=\"dataframe\">\n",
       "  <thead>\n",
       "    <tr style=\"text-align: right;\">\n",
       "      <th></th>\n",
       "      <th>Client</th>\n",
       "      <th>Date</th>\n",
       "      <th>Headline</th>\n",
       "      <th>Source</th>\n",
       "      <th>Composite Score</th>\n",
       "    </tr>\n",
       "  </thead>\n",
       "  <tbody>\n",
       "    <tr>\n",
       "      <th>0</th>\n",
       "      <td>NAB</td>\n",
       "      <td>2020-04-14</td>\n",
       "      <td>A huge hit to the business sector from coronavirus, NAB anticipates</td>\n",
       "      <td>Property Observer</td>\n",
       "      <td>0.3182</td>\n",
       "    </tr>\n",
       "    <tr>\n",
       "      <th>1</th>\n",
       "      <td>NAB</td>\n",
       "      <td>2020-03-24</td>\n",
       "      <td>NAB worker sacked over false coronavirus test</td>\n",
       "      <td>The New Daily</td>\n",
       "      <td>0.0000</td>\n",
       "    </tr>\n",
       "    <tr>\n",
       "      <th>2</th>\n",
       "      <td>NAB</td>\n",
       "      <td>2020-04-14</td>\n",
       "      <td>ASX lifts, while collapse in business confidence points to 'unprecedented' recession: NAB report</td>\n",
       "      <td>ABC News</td>\n",
       "      <td>-0.4019</td>\n",
       "    </tr>\n",
       "    <tr>\n",
       "      <th>3</th>\n",
       "      <td>NAB</td>\n",
       "      <td>2020-04-03</td>\n",
       "      <td>NAB expands coronavirus support to credit card and personal loan customers</td>\n",
       "      <td>Mozo.com.au</td>\n",
       "      <td>0.6908</td>\n",
       "    </tr>\n",
       "    <tr>\n",
       "      <th>4</th>\n",
       "      <td>NAB</td>\n",
       "      <td>2020-03-23</td>\n",
       "      <td>Coronavirus ASX: Coles, BHP Up, CBA, Westpac, NAB, Afterpay Fall</td>\n",
       "      <td>Canstar</td>\n",
       "      <td>0.0000</td>\n",
       "    </tr>\n",
       "  </tbody>\n",
       "</table>\n",
       "</div>"
      ],
      "text/plain": [
       "  Client        Date  \\\n",
       "0  NAB    2020-04-14   \n",
       "1  NAB    2020-03-24   \n",
       "2  NAB    2020-04-14   \n",
       "3  NAB    2020-04-03   \n",
       "4  NAB    2020-03-23   \n",
       "\n",
       "                                                                                            Headline  \\\n",
       "0  A huge hit to the business sector from coronavirus, NAB anticipates                                 \n",
       "1  NAB worker sacked over false coronavirus test                                                       \n",
       "2  ASX lifts, while collapse in business confidence points to 'unprecedented' recession: NAB report    \n",
       "3  NAB expands coronavirus support to credit card and personal loan customers                          \n",
       "4  Coronavirus ASX: Coles, BHP Up, CBA, Westpac, NAB, Afterpay Fall                                    \n",
       "\n",
       "               Source  Composite Score  \n",
       "0   Property Observer  0.3182           \n",
       "1   The New Daily      0.0000           \n",
       "2   ABC News          -0.4019           \n",
       "3   Mozo.com.au        0.6908           \n",
       "4   Canstar            0.0000           "
      ]
     },
     "execution_count": 10,
     "metadata": {},
     "output_type": "execute_result"
    }
   ],
   "source": [
    "nab_df = sentiment_analyser('NAB')\n",
    "print(nab_df.shape)\n",
    "nab_df.head()"
   ]
  },
  {
   "cell_type": "code",
   "execution_count": 11,
   "metadata": {},
   "outputs": [
    {
     "name": "stdout",
     "output_type": "stream",
     "text": [
      "Completed processing ANZ ...\n",
      "(100, 5)\n"
     ]
    },
    {
     "data": {
      "text/html": [
       "<div>\n",
       "<style scoped>\n",
       "    .dataframe tbody tr th:only-of-type {\n",
       "        vertical-align: middle;\n",
       "    }\n",
       "\n",
       "    .dataframe tbody tr th {\n",
       "        vertical-align: top;\n",
       "    }\n",
       "\n",
       "    .dataframe thead th {\n",
       "        text-align: right;\n",
       "    }\n",
       "</style>\n",
       "<table border=\"1\" class=\"dataframe\">\n",
       "  <thead>\n",
       "    <tr style=\"text-align: right;\">\n",
       "      <th></th>\n",
       "      <th>Client</th>\n",
       "      <th>Date</th>\n",
       "      <th>Headline</th>\n",
       "      <th>Source</th>\n",
       "      <th>Composite Score</th>\n",
       "    </tr>\n",
       "  </thead>\n",
       "  <tbody>\n",
       "    <tr>\n",
       "      <th>0</th>\n",
       "      <td>ANZ</td>\n",
       "      <td>2020-04-16</td>\n",
       "      <td>Coronavirus infecting property sentiment: ANZ</td>\n",
       "      <td>Property Observer</td>\n",
       "      <td>0.0000</td>\n",
       "    </tr>\n",
       "    <tr>\n",
       "      <th>1</th>\n",
       "      <td>ANZ</td>\n",
       "      <td>2020-03-20</td>\n",
       "      <td>The big four banks are letting borrowers hit pause on their payments, but this is no mortgage holiday</td>\n",
       "      <td>ABC News</td>\n",
       "      <td>0.1901</td>\n",
       "    </tr>\n",
       "    <tr>\n",
       "      <th>2</th>\n",
       "      <td>ANZ</td>\n",
       "      <td>2020-03-24</td>\n",
       "      <td>ANZ signals further relief for customers during crisis</td>\n",
       "      <td>6PR</td>\n",
       "      <td>-0.2500</td>\n",
       "    </tr>\n",
       "    <tr>\n",
       "      <th>3</th>\n",
       "      <td>ANZ</td>\n",
       "      <td>2020-04-04</td>\n",
       "      <td>'Australia won't look the same': ANZ's Elliott warns coronavirus impact will be generational</td>\n",
       "      <td>The Age</td>\n",
       "      <td>-0.1027</td>\n",
       "    </tr>\n",
       "    <tr>\n",
       "      <th>4</th>\n",
       "      <td>ANZ</td>\n",
       "      <td>2020-03-24</td>\n",
       "      <td>Big bank coronavirus support: How to defer your mortgage repayments</td>\n",
       "      <td>Mozo.com.au</td>\n",
       "      <td>0.1280</td>\n",
       "    </tr>\n",
       "  </tbody>\n",
       "</table>\n",
       "</div>"
      ],
      "text/plain": [
       "  Client        Date  \\\n",
       "0  ANZ    2020-04-16   \n",
       "1  ANZ    2020-03-20   \n",
       "2  ANZ    2020-03-24   \n",
       "3  ANZ    2020-04-04   \n",
       "4  ANZ    2020-03-24   \n",
       "\n",
       "                                                                                                 Headline  \\\n",
       "0  Coronavirus infecting property sentiment: ANZ                                                            \n",
       "1  The big four banks are letting borrowers hit pause on their payments, but this is no mortgage holiday    \n",
       "2  ANZ signals further relief for customers during crisis                                                   \n",
       "3  'Australia won't look the same': ANZ's Elliott warns coronavirus impact will be generational             \n",
       "4  Big bank coronavirus support: How to defer your mortgage repayments                                      \n",
       "\n",
       "               Source  Composite Score  \n",
       "0   Property Observer  0.0000           \n",
       "1   ABC News           0.1901           \n",
       "2   6PR               -0.2500           \n",
       "3   The Age           -0.1027           \n",
       "4   Mozo.com.au        0.1280           "
      ]
     },
     "execution_count": 11,
     "metadata": {},
     "output_type": "execute_result"
    }
   ],
   "source": [
    "anz_df = sentiment_analyser('ANZ')\n",
    "print(anz_df.shape)\n",
    "anz_df.head()"
   ]
  },
  {
   "cell_type": "code",
   "execution_count": 12,
   "metadata": {},
   "outputs": [
    {
     "name": "stdout",
     "output_type": "stream",
     "text": [
      "Completed processing Westpac ...\n",
      "(100, 5)\n"
     ]
    },
    {
     "data": {
      "text/html": [
       "<div>\n",
       "<style scoped>\n",
       "    .dataframe tbody tr th:only-of-type {\n",
       "        vertical-align: middle;\n",
       "    }\n",
       "\n",
       "    .dataframe tbody tr th {\n",
       "        vertical-align: top;\n",
       "    }\n",
       "\n",
       "    .dataframe thead th {\n",
       "        text-align: right;\n",
       "    }\n",
       "</style>\n",
       "<table border=\"1\" class=\"dataframe\">\n",
       "  <thead>\n",
       "    <tr style=\"text-align: right;\">\n",
       "      <th></th>\n",
       "      <th>Client</th>\n",
       "      <th>Date</th>\n",
       "      <th>Headline</th>\n",
       "      <th>Source</th>\n",
       "      <th>Composite Score</th>\n",
       "    </tr>\n",
       "  </thead>\n",
       "  <tbody>\n",
       "    <tr>\n",
       "      <th>0</th>\n",
       "      <td>Westpac</td>\n",
       "      <td>2020-04-16</td>\n",
       "      <td>Riskier funds have been exposed by coronavirus: Westpac</td>\n",
       "      <td>The Australian Financial Review</td>\n",
       "      <td>-0.4019</td>\n",
       "    </tr>\n",
       "    <tr>\n",
       "      <th>1</th>\n",
       "      <td>Westpac</td>\n",
       "      <td>2020-04-14</td>\n",
       "      <td>Westpac flags $1.4b hit to earnings, braces for coronavirus impact</td>\n",
       "      <td>Sydney Morning Herald</td>\n",
       "      <td>0.0000</td>\n",
       "    </tr>\n",
       "    <tr>\n",
       "      <th>2</th>\n",
       "      <td>Westpac</td>\n",
       "      <td>2020-03-25</td>\n",
       "      <td>How Westpac has responded to the coronavirus crisis</td>\n",
       "      <td>The Australian Financial Review</td>\n",
       "      <td>-0.6249</td>\n",
       "    </tr>\n",
       "    <tr>\n",
       "      <th>3</th>\n",
       "      <td>Westpac</td>\n",
       "      <td>2020-04-15</td>\n",
       "      <td>Survey reveals coronavirus caused consumer confidence to fall</td>\n",
       "      <td>NEWS.com.au</td>\n",
       "      <td>0.5106</td>\n",
       "    </tr>\n",
       "    <tr>\n",
       "      <th>4</th>\n",
       "      <td>Westpac</td>\n",
       "      <td>2020-03-20</td>\n",
       "      <td>The big four banks are letting borrowers hit pause on their payments, but this is no mortgage holiday</td>\n",
       "      <td>ABC News</td>\n",
       "      <td>0.1901</td>\n",
       "    </tr>\n",
       "  </tbody>\n",
       "</table>\n",
       "</div>"
      ],
      "text/plain": [
       "    Client        Date  \\\n",
       "0  Westpac  2020-04-16   \n",
       "1  Westpac  2020-04-14   \n",
       "2  Westpac  2020-03-25   \n",
       "3  Westpac  2020-04-15   \n",
       "4  Westpac  2020-03-20   \n",
       "\n",
       "                                                                                                 Headline  \\\n",
       "0  Riskier funds have been exposed by coronavirus: Westpac                                                  \n",
       "1  Westpac flags $1.4b hit to earnings, braces for coronavirus impact                                       \n",
       "2  How Westpac has responded to the coronavirus crisis                                                      \n",
       "3  Survey reveals coronavirus caused consumer confidence to fall                                            \n",
       "4  The big four banks are letting borrowers hit pause on their payments, but this is no mortgage holiday    \n",
       "\n",
       "                             Source  Composite Score  \n",
       "0   The Australian Financial Review -0.4019           \n",
       "1   Sydney Morning Herald            0.0000           \n",
       "2   The Australian Financial Review -0.6249           \n",
       "3   NEWS.com.au                      0.5106           \n",
       "4   ABC News                         0.1901           "
      ]
     },
     "execution_count": 12,
     "metadata": {},
     "output_type": "execute_result"
    }
   ],
   "source": [
    "wbc_df = sentiment_analyser('Westpac')\n",
    "print(wbc_df.shape)\n",
    "wbc_df.head()"
   ]
  },
  {
   "cell_type": "raw",
   "metadata": {},
   "source": [
    "Documentation here: https://www.learndatasci.com/tutorials/sentiment-analysis-reddit-headlines-pythons-nltk/"
   ]
  },
  {
   "cell_type": "markdown",
   "metadata": {},
   "source": [
    "### Modify the code to work for multiple clients\n",
    "---"
   ]
  },
  {
   "cell_type": "code",
   "execution_count": 22,
   "metadata": {},
   "outputs": [
    {
     "name": "stdout",
     "output_type": "stream",
     "text": [
      "Completed processing CBA ...\n",
      "Completed processing NAB ...\n",
      "Completed processing Westpac ...\n",
      "Completed processing ANZ ...\n",
      "\n",
      "VADER Score is a Normalized Weighted Sentiment Composite Score that ranges from +1 (Extremely Positive) to -1 (Extremely Negative)\n"
     ]
    },
    {
     "data": {
      "text/html": [
       "<div>\n",
       "<style scoped>\n",
       "    .dataframe tbody tr th:only-of-type {\n",
       "        vertical-align: middle;\n",
       "    }\n",
       "\n",
       "    .dataframe tbody tr th {\n",
       "        vertical-align: top;\n",
       "    }\n",
       "\n",
       "    .dataframe thead th {\n",
       "        text-align: right;\n",
       "    }\n",
       "</style>\n",
       "<table border=\"1\" class=\"dataframe\">\n",
       "  <thead>\n",
       "    <tr style=\"text-align: right;\">\n",
       "      <th></th>\n",
       "      <th>Client</th>\n",
       "      <th>Date</th>\n",
       "      <th>Headline</th>\n",
       "      <th>Source</th>\n",
       "      <th>VADER Score</th>\n",
       "      <th>neg</th>\n",
       "      <th>neu</th>\n",
       "      <th>pos</th>\n",
       "    </tr>\n",
       "  </thead>\n",
       "  <tbody>\n",
       "    <tr>\n",
       "      <th>6</th>\n",
       "      <td>NAB</td>\n",
       "      <td>2020-03-20</td>\n",
       "      <td>Coronavirus crisis sees Banking Association announce six-month loan repayment deferrals for small businesses</td>\n",
       "      <td>ABC News</td>\n",
       "      <td>-0.6249</td>\n",
       "      <td>0.255</td>\n",
       "      <td>0.745</td>\n",
       "      <td>0.000</td>\n",
       "    </tr>\n",
       "    <tr>\n",
       "      <th>99</th>\n",
       "      <td>ANZ</td>\n",
       "      <td>2020-03-18</td>\n",
       "      <td>Influential Wall Street investor Mohamed El-Erian warns of recession amid coronavirus fallout</td>\n",
       "      <td>ABC News</td>\n",
       "      <td>-0.0772</td>\n",
       "      <td>0.261</td>\n",
       "      <td>0.559</td>\n",
       "      <td>0.180</td>\n",
       "    </tr>\n",
       "    <tr>\n",
       "      <th>89</th>\n",
       "      <td>NAB</td>\n",
       "      <td>2020-04-03</td>\n",
       "      <td>375000 join big banks' COVID-19 loan holiday</td>\n",
       "      <td>The Australian Financial Review</td>\n",
       "      <td>0.5994</td>\n",
       "      <td>0.000</td>\n",
       "      <td>0.505</td>\n",
       "      <td>0.495</td>\n",
       "    </tr>\n",
       "    <tr>\n",
       "      <th>47</th>\n",
       "      <td>CBA</td>\n",
       "      <td>2020-03-30</td>\n",
       "      <td>CBA: Concern about grocery shortages eases as more Americans feel their pantries are well-stocked - FoodNavigator</td>\n",
       "      <td>USA.com</td>\n",
       "      <td>0.1779</td>\n",
       "      <td>0.095</td>\n",
       "      <td>0.769</td>\n",
       "      <td>0.136</td>\n",
       "    </tr>\n",
       "    <tr>\n",
       "      <th>39</th>\n",
       "      <td>Westpac</td>\n",
       "      <td>2020-03-19</td>\n",
       "      <td>The Australian dollar hits lowest level since 2002, ASX extends fall</td>\n",
       "      <td>ABC News</td>\n",
       "      <td>-0.2732</td>\n",
       "      <td>0.198</td>\n",
       "      <td>0.687</td>\n",
       "      <td>0.115</td>\n",
       "    </tr>\n",
       "    <tr>\n",
       "      <th>92</th>\n",
       "      <td>Westpac</td>\n",
       "      <td>2020-03-25</td>\n",
       "      <td>Coronavirus: Star Casino stands down 8100 after government ban on gatherings</td>\n",
       "      <td>9News</td>\n",
       "      <td>-0.5574</td>\n",
       "      <td>0.265</td>\n",
       "      <td>0.735</td>\n",
       "      <td>0.000</td>\n",
       "    </tr>\n",
       "    <tr>\n",
       "      <th>70</th>\n",
       "      <td>ANZ</td>\n",
       "      <td>2020-04-16</td>\n",
       "      <td>Crown Resorts secures $1b virus debt package</td>\n",
       "      <td>The Australian Financial Review</td>\n",
       "      <td>-0.0516</td>\n",
       "      <td>0.255</td>\n",
       "      <td>0.510</td>\n",
       "      <td>0.235</td>\n",
       "    </tr>\n",
       "    <tr>\n",
       "      <th>20</th>\n",
       "      <td>CBA</td>\n",
       "      <td>2020-04-13</td>\n",
       "      <td>Cries for mortgage help 'levelling out', says CBA boss</td>\n",
       "      <td>Sydney Morning Herald</td>\n",
       "      <td>0.0000</td>\n",
       "      <td>0.218</td>\n",
       "      <td>0.565</td>\n",
       "      <td>0.218</td>\n",
       "    </tr>\n",
       "    <tr>\n",
       "      <th>2</th>\n",
       "      <td>Westpac</td>\n",
       "      <td>2020-03-25</td>\n",
       "      <td>How Westpac has responded to the coronavirus crisis</td>\n",
       "      <td>The Australian Financial Review</td>\n",
       "      <td>-0.6249</td>\n",
       "      <td>0.369</td>\n",
       "      <td>0.631</td>\n",
       "      <td>0.000</td>\n",
       "    </tr>\n",
       "    <tr>\n",
       "      <th>25</th>\n",
       "      <td>CBA</td>\n",
       "      <td>2020-04-06</td>\n",
       "      <td>Businesses can 'tread water' for six months: CBA</td>\n",
       "      <td>Sydney Morning Herald</td>\n",
       "      <td>0.0000</td>\n",
       "      <td>0.000</td>\n",
       "      <td>1.000</td>\n",
       "      <td>0.000</td>\n",
       "    </tr>\n",
       "  </tbody>\n",
       "</table>\n",
       "</div>"
      ],
      "text/plain": [
       "     Client        Date  \\\n",
       "6   NAB      2020-03-20   \n",
       "99  ANZ      2020-03-18   \n",
       "89  NAB      2020-04-03   \n",
       "47  CBA      2020-03-30   \n",
       "39  Westpac  2020-03-19   \n",
       "92  Westpac  2020-03-25   \n",
       "70  ANZ      2020-04-16   \n",
       "20  CBA      2020-04-13   \n",
       "2   Westpac  2020-03-25   \n",
       "25  CBA      2020-04-06   \n",
       "\n",
       "                                                                                                             Headline  \\\n",
       "6   Coronavirus crisis sees Banking Association announce six-month loan repayment deferrals for small businesses        \n",
       "99  Influential Wall Street investor Mohamed El-Erian warns of recession amid coronavirus fallout                       \n",
       "89  375000 join big banks' COVID-19 loan holiday                                                                        \n",
       "47  CBA: Concern about grocery shortages eases as more Americans feel their pantries are well-stocked - FoodNavigator   \n",
       "39  The Australian dollar hits lowest level since 2002, ASX extends fall                                                \n",
       "92  Coronavirus: Star Casino stands down 8100 after government ban on gatherings                                        \n",
       "70  Crown Resorts secures $1b virus debt package                                                                        \n",
       "20  Cries for mortgage help 'levelling out', says CBA boss                                                              \n",
       "2   How Westpac has responded to the coronavirus crisis                                                                 \n",
       "25  Businesses can 'tread water' for six months: CBA                                                                    \n",
       "\n",
       "                              Source  VADER Score    neg    neu    pos  \n",
       "6    ABC News                        -0.6249       0.255  0.745  0.000  \n",
       "99   ABC News                        -0.0772       0.261  0.559  0.180  \n",
       "89   The Australian Financial Review  0.5994       0.000  0.505  0.495  \n",
       "47  USA.com                           0.1779       0.095  0.769  0.136  \n",
       "39   ABC News                        -0.2732       0.198  0.687  0.115  \n",
       "92   9News                           -0.5574       0.265  0.735  0.000  \n",
       "70   The Australian Financial Review -0.0516       0.255  0.510  0.235  \n",
       "20   Sydney Morning Herald            0.0000       0.218  0.565  0.218  \n",
       "2    The Australian Financial Review -0.6249       0.369  0.631  0.000  \n",
       "25   Sydney Morning Herald            0.0000       0.000  1.000  0.000  "
      ]
     },
     "execution_count": 22,
     "metadata": {},
     "output_type": "execute_result"
    }
   ],
   "source": [
    "def covid19_news_scraper(search_query):\n",
    "    \"\"\"\n",
    "    Pass in a client name or search query and returns last 100 headlines associating the client with Covid-19   \n",
    "    \"\"\"\n",
    "    # Use this URL for Australian centric data\n",
    "    news_url = \"https://news.google.com.au/rss/search?q={\"+str(search_query)+\"%coronavirus}\"\n",
    "    Client = urlopen(news_url)\n",
    "    xml_page = Client.read()\n",
    "    Client.close()\n",
    "    # Beautiful Soup Library is the bomb\n",
    "    soup_page = soup(xml_page,\"xml\")\n",
    "    news_list = soup_page.findAll(\"item\")\n",
    "    \n",
    "    # Two separate lists for News Title and Publication Date\n",
    "    l1 = []\n",
    "    l2 = []\n",
    "    for news in news_list:\n",
    "        # Append to a list\n",
    "        l1.append(news.title.text)\n",
    "        l2.append(news.pubDate.text)\n",
    "        # Zip the two together\n",
    "        l_tup = list(zip(l1, l2))\n",
    "    \n",
    "    # Save this to a DataFrame\n",
    "    df = pd.DataFrame(l_tup, columns=['Title', 'Date'])\n",
    "    # Select Date of Headline\n",
    "    df['Date'] = pd.to_datetime(df['Date']).dt.date\n",
    "    # Split the Title into Headline and Source columns and then drop the 'Title' column\n",
    "    df[['Headline','Source']] = df['Title'].str.rsplit(\"-\",1,expand=True)\n",
    "    df.drop('Title', axis=1, inplace=True)\n",
    "    df['Client'] = str(search_query)\n",
    "    return df\n",
    "\n",
    "def sentiment_analyser(search_query):\n",
    "    \"\"\"\n",
    "    Runs a Google News Search on the input string and then uses VADER sentiment analysis engine on each returned headline.\n",
    "    Input: Search Query String\n",
    "    Output: DataFrame with compound sentiment score for each news article\n",
    "    \"\"\"\n",
    "    # Create a Covid-19 News DataFrame for each organization of interest\n",
    "    news_df = covid19_news_scraper(search_query)\n",
    "    # Initialize VADER Sentiment Intensity Analyzer \n",
    "    sia = SIA()\n",
    "    results = []\n",
    "\n",
    "    # Calculate the polarity score for each headline associated with the organization\n",
    "    for row in news_df['Headline']:\n",
    "        pol_score = sia.polarity_scores(row)\n",
    "        pol_score['Headline'] = row\n",
    "        results.append(pol_score)\n",
    "    \n",
    "    # Create the Sentiment DataFrame\n",
    "    sent_df = pd.DataFrame.from_records(results)\n",
    "    # Merge the two dataframes together on the 'Headline' column\n",
    "    merge_df = news_df.merge(sent_df, on='Headline')\n",
    "    # Re-order and Rename the columns\n",
    "    merge_df = merge_df.rename(columns={'compound':'VADER Score'})\n",
    "    col_order = ['Client','Date','Headline','Source','VADER Score','neg','neu','pos']\n",
    "    print('Completed processing %s' % search_query, \"...\")\n",
    "    return merge_df[col_order]\n",
    "\n",
    "def client_c19_news_agg(client_list):\n",
    "    \"\"\"\n",
    "    Provided a list of clients, this pulls up the past 100 covid-19 related news articles on each of them and calculates \n",
    "    a Composite Sentiment score for each article related to a client \n",
    "    \"\"\"\n",
    "    frames = [sentiment_analyser(c) for c in client_list]\n",
    "    result = pd.concat(frames)\n",
    "    print()\n",
    "    print(\"VADER Score is a Normalized Weighted Sentiment Composite Score that ranges from +1 (Extremely Positive) to -1 (Extremely Negative)\")\n",
    "    return result\n",
    "\n",
    "clients = ['CBA', 'NAB', 'Westpac', 'ANZ']\n",
    "df = client_c19_news_agg(clients)\n",
    "df.sample(10)"
   ]
  },
  {
   "cell_type": "code",
   "execution_count": 20,
   "metadata": {},
   "outputs": [
    {
     "data": {
      "text/plain": [
       "(400, 8)"
      ]
     },
     "execution_count": 20,
     "metadata": {},
     "output_type": "execute_result"
    }
   ],
   "source": [
    "df.shape"
   ]
  },
  {
   "cell_type": "code",
   "execution_count": 23,
   "metadata": {},
   "outputs": [],
   "source": [
    "# Output\n",
    "df.to_csv('client_sentiment.csv')"
   ]
  },
  {
   "cell_type": "markdown",
   "metadata": {},
   "source": [
    "### Topic Analysis on Text\n",
    "---"
   ]
  },
  {
   "cell_type": "code",
   "execution_count": 40,
   "metadata": {},
   "outputs": [],
   "source": [
    "# Create a spaCy object\n",
    "nlp = spacy.load('en_core_web_sm')"
   ]
  },
  {
   "cell_type": "markdown",
   "metadata": {},
   "source": [
    "#### Entity Recognition\n",
    "---"
   ]
  },
  {
   "cell_type": "code",
   "execution_count": 41,
   "metadata": {
    "scrolled": false
   },
   "outputs": [
    {
     "data": {
      "text/html": [
       "<div class=\"entities\" style=\"line-height: 2.5\">\n",
       "<mark class=\"entity\" style=\"background: #7aecec; padding: 0.45em 0.6em; margin: 0 0.25em; line-height: 1; border-radius: 0.35em; box-decoration-break: clone; -webkit-box-decoration-break: clone\">\n",
       "    Coronavirus Sees CBA Automatically Cut Mortgage Payments\n",
       "    <span style=\"font-size: 0.8em; font-weight: bold; line-height: 1; border-radius: 0.35em; text-transform: uppercase; vertical-align: middle; margin-left: 0.5rem\">ORG</span>\n",
       "</mark>\n",
       " to Minimum </div>"
      ],
      "text/plain": [
       "<IPython.core.display.HTML object>"
      ]
     },
     "metadata": {},
     "output_type": "display_data"
    },
    {
     "data": {
      "text/html": [
       "<div class=\"entities\" style=\"line-height: 2.5\">\n",
       "<mark class=\"entity\" style=\"background: #7aecec; padding: 0.45em 0.6em; margin: 0 0.25em; line-height: 1; border-radius: 0.35em; box-decoration-break: clone; -webkit-box-decoration-break: clone\">\n",
       "    Commonwealth Bank\n",
       "    <span style=\"font-size: 0.8em; font-weight: bold; line-height: 1; border-radius: 0.35em; text-transform: uppercase; vertical-align: middle; margin-left: 0.5rem\">ORG</span>\n",
       "</mark>\n",
       " boss says the spread of coronavirus will have a worse impact than the global financial crisis </div>"
      ],
      "text/plain": [
       "<IPython.core.display.HTML object>"
      ]
     },
     "metadata": {},
     "output_type": "display_data"
    },
    {
     "data": {
      "text/html": [
       "<div class=\"entities\" style=\"line-height: 2.5\">Hoarding boom is over: \n",
       "<mark class=\"entity\" style=\"background: #7aecec; padding: 0.45em 0.6em; margin: 0 0.25em; line-height: 1; border-radius: 0.35em; box-decoration-break: clone; -webkit-box-decoration-break: clone\">\n",
       "    CBA\n",
       "    <span style=\"font-size: 0.8em; font-weight: bold; line-height: 1; border-radius: 0.35em; text-transform: uppercase; vertical-align: middle; margin-left: 0.5rem\">ORG</span>\n",
       "</mark>\n",
       " says shoppers have closed their wallets </div>"
      ],
      "text/plain": [
       "<IPython.core.display.HTML object>"
      ]
     },
     "metadata": {},
     "output_type": "display_data"
    },
    {
     "data": {
      "text/html": [
       "<div class=\"entities\" style=\"line-height: 2.5\">Business orders crash on coronavirus: \n",
       "<mark class=\"entity\" style=\"background: #7aecec; padding: 0.45em 0.6em; margin: 0 0.25em; line-height: 1; border-radius: 0.35em; box-decoration-break: clone; -webkit-box-decoration-break: clone\">\n",
       "    CBA\n",
       "    <span style=\"font-size: 0.8em; font-weight: bold; line-height: 1; border-radius: 0.35em; text-transform: uppercase; vertical-align: middle; margin-left: 0.5rem\">ORG</span>\n",
       "</mark>\n",
       " index </div>"
      ],
      "text/plain": [
       "<IPython.core.display.HTML object>"
      ]
     },
     "metadata": {},
     "output_type": "display_data"
    },
    {
     "data": {
      "text/html": [
       "<div class=\"entities\" style=\"line-height: 2.5\">\n",
       "<mark class=\"entity\" style=\"background: #7aecec; padding: 0.45em 0.6em; margin: 0 0.25em; line-height: 1; border-radius: 0.35em; box-decoration-break: clone; -webkit-box-decoration-break: clone\">\n",
       "    Coronavirus\n",
       "    <span style=\"font-size: 0.8em; font-weight: bold; line-height: 1; border-radius: 0.35em; text-transform: uppercase; vertical-align: middle; margin-left: 0.5rem\">ORG</span>\n",
       "</mark>\n",
       ": CBA report reveals what we’re buying during pandemic </div>"
      ],
      "text/plain": [
       "<IPython.core.display.HTML object>"
      ]
     },
     "metadata": {},
     "output_type": "display_data"
    },
    {
     "data": {
      "text/html": [
       "<div class=\"entities\" style=\"line-height: 2.5\">\n",
       "<mark class=\"entity\" style=\"background: #7aecec; padding: 0.45em 0.6em; margin: 0 0.25em; line-height: 1; border-radius: 0.35em; box-decoration-break: clone; -webkit-box-decoration-break: clone\">\n",
       "    CBA\n",
       "    <span style=\"font-size: 0.8em; font-weight: bold; line-height: 1; border-radius: 0.35em; text-transform: uppercase; vertical-align: middle; margin-left: 0.5rem\">ORG</span>\n",
       "</mark>\n",
       " increases coronavirus loan support </div>"
      ],
      "text/plain": [
       "<IPython.core.display.HTML object>"
      ]
     },
     "metadata": {},
     "output_type": "display_data"
    },
    {
     "data": {
      "text/html": [
       "<div class=\"entities\" style=\"line-height: 2.5\">\n",
       "<mark class=\"entity\" style=\"background: #aa9cfc; padding: 0.45em 0.6em; margin: 0 0.25em; line-height: 1; border-radius: 0.35em; box-decoration-break: clone; -webkit-box-decoration-break: clone\">\n",
       "    Coronavirus\n",
       "    <span style=\"font-size: 0.8em; font-weight: bold; line-height: 1; border-radius: 0.35em; text-transform: uppercase; vertical-align: middle; margin-left: 0.5rem\">PERSON</span>\n",
       "</mark>\n",
       " ASX: \n",
       "<mark class=\"entity\" style=\"background: #aa9cfc; padding: 0.45em 0.6em; margin: 0 0.25em; line-height: 1; border-radius: 0.35em; box-decoration-break: clone; -webkit-box-decoration-break: clone\">\n",
       "    Coles\n",
       "    <span style=\"font-size: 0.8em; font-weight: bold; line-height: 1; border-radius: 0.35em; text-transform: uppercase; vertical-align: middle; margin-left: 0.5rem\">PERSON</span>\n",
       "</mark>\n",
       ", BHP Up, \n",
       "<mark class=\"entity\" style=\"background: #7aecec; padding: 0.45em 0.6em; margin: 0 0.25em; line-height: 1; border-radius: 0.35em; box-decoration-break: clone; -webkit-box-decoration-break: clone\">\n",
       "    CBA\n",
       "    <span style=\"font-size: 0.8em; font-weight: bold; line-height: 1; border-radius: 0.35em; text-transform: uppercase; vertical-align: middle; margin-left: 0.5rem\">ORG</span>\n",
       "</mark>\n",
       ", \n",
       "<mark class=\"entity\" style=\"background: #7aecec; padding: 0.45em 0.6em; margin: 0 0.25em; line-height: 1; border-radius: 0.35em; box-decoration-break: clone; -webkit-box-decoration-break: clone\">\n",
       "    Westpac\n",
       "    <span style=\"font-size: 0.8em; font-weight: bold; line-height: 1; border-radius: 0.35em; text-transform: uppercase; vertical-align: middle; margin-left: 0.5rem\">ORG</span>\n",
       "</mark>\n",
       ", \n",
       "<mark class=\"entity\" style=\"background: #7aecec; padding: 0.45em 0.6em; margin: 0 0.25em; line-height: 1; border-radius: 0.35em; box-decoration-break: clone; -webkit-box-decoration-break: clone\">\n",
       "    NAB\n",
       "    <span style=\"font-size: 0.8em; font-weight: bold; line-height: 1; border-radius: 0.35em; text-transform: uppercase; vertical-align: middle; margin-left: 0.5rem\">ORG</span>\n",
       "</mark>\n",
       ", \n",
       "<mark class=\"entity\" style=\"background: #7aecec; padding: 0.45em 0.6em; margin: 0 0.25em; line-height: 1; border-radius: 0.35em; box-decoration-break: clone; -webkit-box-decoration-break: clone\">\n",
       "    Afterpay Fall\n",
       "    <span style=\"font-size: 0.8em; font-weight: bold; line-height: 1; border-radius: 0.35em; text-transform: uppercase; vertical-align: middle; margin-left: 0.5rem\">ORG</span>\n",
       "</mark>\n",
       " </div>"
      ],
      "text/plain": [
       "<IPython.core.display.HTML object>"
      ]
     },
     "metadata": {},
     "output_type": "display_data"
    },
    {
     "data": {
      "text/html": [
       "<div class=\"entities\" style=\"line-height: 2.5\">'Curve flattening' for big bank stimulus </div>"
      ],
      "text/plain": [
       "<IPython.core.display.HTML object>"
      ]
     },
     "metadata": {},
     "output_type": "display_data"
    },
    {
     "data": {
      "text/html": [
       "<div class=\"entities\" style=\"line-height: 2.5\">\n",
       "<mark class=\"entity\" style=\"background: #7aecec; padding: 0.45em 0.6em; margin: 0 0.25em; line-height: 1; border-radius: 0.35em; box-decoration-break: clone; -webkit-box-decoration-break: clone\">\n",
       "    Commbank\n",
       "    <span style=\"font-size: 0.8em; font-weight: bold; line-height: 1; border-radius: 0.35em; text-transform: uppercase; vertical-align: middle; margin-left: 0.5rem\">ORG</span>\n",
       "</mark>\n",
       "'s benefit finder tool sees spike in demand during coronavirus crisis </div>"
      ],
      "text/plain": [
       "<IPython.core.display.HTML object>"
      ]
     },
     "metadata": {},
     "output_type": "display_data"
    },
    {
     "data": {
      "text/html": [
       "<div class=\"entities\" style=\"line-height: 2.5\">\n",
       "<mark class=\"entity\" style=\"background: #7aecec; padding: 0.45em 0.6em; margin: 0 0.25em; line-height: 1; border-radius: 0.35em; box-decoration-break: clone; -webkit-box-decoration-break: clone\">\n",
       "    Coronavirus\n",
       "    <span style=\"font-size: 0.8em; font-weight: bold; line-height: 1; border-radius: 0.35em; text-transform: uppercase; vertical-align: middle; margin-left: 0.5rem\">ORG</span>\n",
       "</mark>\n",
       " has people buying home improvement items over alcohol, data shows </div>"
      ],
      "text/plain": [
       "<IPython.core.display.HTML object>"
      ]
     },
     "metadata": {},
     "output_type": "display_data"
    }
   ],
   "source": [
    "for i in range(10):\n",
    "    doc = nlp(df2['Headline'][i])\n",
    "    spacy.displacy.render(doc, style='ent', jupyter=True)"
   ]
  },
  {
   "cell_type": "code",
   "execution_count": 42,
   "metadata": {},
   "outputs": [],
   "source": [
    "punctuations = string.punctuation\n",
    "stopwords = list(STOP_WORDS)"
   ]
  },
  {
   "cell_type": "markdown",
   "metadata": {},
   "source": [
    "#### Lemmatization\n",
    "---"
   ]
  },
  {
   "cell_type": "code",
   "execution_count": 43,
   "metadata": {},
   "outputs": [
    {
     "data": {
      "text/html": [
       "<div class=\"entities\" style=\"line-height: 2.5\">coronavirus see cba automatically cut mortgage payments to minimum</div>"
      ],
      "text/plain": [
       "<IPython.core.display.HTML object>"
      ]
     },
     "metadata": {},
     "output_type": "display_data"
    },
    {
     "data": {
      "text/html": [
       "<div class=\"entities\" style=\"line-height: 2.5\">commonwealth bank boss say the spread of coronavirus will have a bad impact than the global financial crisis</div>"
      ],
      "text/plain": [
       "<IPython.core.display.HTML object>"
      ]
     },
     "metadata": {},
     "output_type": "display_data"
    },
    {
     "data": {
      "text/html": [
       "<div class=\"entities\" style=\"line-height: 2.5\">hoard boom be over : cba say shopper have close -PRON- wallet</div>"
      ],
      "text/plain": [
       "<IPython.core.display.HTML object>"
      ]
     },
     "metadata": {},
     "output_type": "display_data"
    },
    {
     "data": {
      "text/html": [
       "<div class=\"entities\" style=\"line-height: 2.5\">business order crash on coronavirus : cba index</div>"
      ],
      "text/plain": [
       "<IPython.core.display.HTML object>"
      ]
     },
     "metadata": {},
     "output_type": "display_data"
    },
    {
     "data": {
      "text/html": [
       "<div class=\"entities\" style=\"line-height: 2.5\">coronavirus : cba report reveal what -PRON- be buy during pandemic</div>"
      ],
      "text/plain": [
       "<IPython.core.display.HTML object>"
      ]
     },
     "metadata": {},
     "output_type": "display_data"
    },
    {
     "data": {
      "text/html": [
       "<div class=\"entities\" style=\"line-height: 2.5\">cba increase coronavirus loan support</div>"
      ],
      "text/plain": [
       "<IPython.core.display.HTML object>"
      ]
     },
     "metadata": {},
     "output_type": "display_data"
    },
    {
     "data": {
      "text/html": [
       "<div class=\"entities\" style=\"line-height: 2.5\">coronavirus asx : coles , bhp up , cba , westpac , nab , afterpay fall</div>"
      ],
      "text/plain": [
       "<IPython.core.display.HTML object>"
      ]
     },
     "metadata": {},
     "output_type": "display_data"
    },
    {
     "data": {
      "text/html": [
       "<div class=\"entities\" style=\"line-height: 2.5\">' curve flattening ' for big bank stimulus</div>"
      ],
      "text/plain": [
       "<IPython.core.display.HTML object>"
      ]
     },
     "metadata": {},
     "output_type": "display_data"
    },
    {
     "data": {
      "text/html": [
       "<div class=\"entities\" style=\"line-height: 2.5\">commbank 's benefit finder tool see spike in demand during coronavirus crisis</div>"
      ],
      "text/plain": [
       "<IPython.core.display.HTML object>"
      ]
     },
     "metadata": {},
     "output_type": "display_data"
    },
    {
     "data": {
      "text/html": [
       "<div class=\"entities\" style=\"line-height: 2.5\">coronavirus have people buy home improvement item over alcohol , data show</div>"
      ],
      "text/plain": [
       "<IPython.core.display.HTML object>"
      ]
     },
     "metadata": {},
     "output_type": "display_data"
    }
   ],
   "source": [
    "for i in range(10):\n",
    "    doc = nlp(df2['Headline'][i])\n",
    "    review = str(\" \".join([j.lemma_ for j in doc]))\n",
    "    doc = nlp(review)\n",
    "    spacy.displacy.render(doc, style='ent',jupyter=True)"
   ]
  },
  {
   "cell_type": "code",
   "execution_count": 44,
   "metadata": {},
   "outputs": [],
   "source": [
    "parser = English()\n",
    "def spacy_tokenizer(sentence):\n",
    "    mytokens = parser(sentence)\n",
    "    mytokens = [ word.lemma_.lower().strip() if word.lemma_ != \"-PRON-\" else word.lower_ for word in mytokens ]\n",
    "    mytokens = [ word for word in mytokens if word not in stopwords and word not in punctuations ]\n",
    "    mytokens = \" \".join([i for i in mytokens])\n",
    "    return mytokens"
   ]
  },
  {
   "cell_type": "code",
   "execution_count": 45,
   "metadata": {},
   "outputs": [
    {
     "name": "stderr",
     "output_type": "stream",
     "text": [
      "100%|██████████| 100/100 [00:00<00:00, 949.04it/s]\n"
     ]
    },
    {
     "data": {
      "text/html": [
       "<div>\n",
       "<style scoped>\n",
       "    .dataframe tbody tr th:only-of-type {\n",
       "        vertical-align: middle;\n",
       "    }\n",
       "\n",
       "    .dataframe tbody tr th {\n",
       "        vertical-align: top;\n",
       "    }\n",
       "\n",
       "    .dataframe thead th {\n",
       "        text-align: right;\n",
       "    }\n",
       "</style>\n",
       "<table border=\"1\" class=\"dataframe\">\n",
       "  <thead>\n",
       "    <tr style=\"text-align: right;\">\n",
       "      <th></th>\n",
       "      <th>Headline</th>\n",
       "      <th>Source</th>\n",
       "    </tr>\n",
       "  </thead>\n",
       "  <tbody>\n",
       "    <tr>\n",
       "      <th>0</th>\n",
       "      <td>coronavirus sees cba automatically cut mortgage payments minimum</td>\n",
       "      <td>Canstar</td>\n",
       "    </tr>\n",
       "    <tr>\n",
       "      <th>1</th>\n",
       "      <td>commonwealth bank boss spread coronavirus wrong impact global financial crisis</td>\n",
       "      <td>ABC News</td>\n",
       "    </tr>\n",
       "    <tr>\n",
       "      <th>2</th>\n",
       "      <td>hoarding boom cba shopper close wallet</td>\n",
       "      <td>The Age</td>\n",
       "    </tr>\n",
       "    <tr>\n",
       "      <th>3</th>\n",
       "      <td>business order crash coronavirus cba index</td>\n",
       "      <td>The Australian Financial Review</td>\n",
       "    </tr>\n",
       "    <tr>\n",
       "      <th>4</th>\n",
       "      <td>coronavirus cba report reveal buy pandemic</td>\n",
       "      <td>NEWS.com.au</td>\n",
       "    </tr>\n",
       "  </tbody>\n",
       "</table>\n",
       "</div>"
      ],
      "text/plain": [
       "                                                                         Headline  \\\n",
       "0  coronavirus sees cba automatically cut mortgage payments minimum                 \n",
       "1  commonwealth bank boss spread coronavirus wrong impact global financial crisis   \n",
       "2  hoarding boom cba shopper close wallet                                           \n",
       "3  business order crash coronavirus cba index                                       \n",
       "4  coronavirus cba report reveal buy pandemic                                       \n",
       "\n",
       "                             Source  \n",
       "0   Canstar                          \n",
       "1   ABC News                         \n",
       "2   The Age                          \n",
       "3   The Australian Financial Review  \n",
       "4   NEWS.com.au                      "
      ]
     },
     "execution_count": 45,
     "metadata": {},
     "output_type": "execute_result"
    }
   ],
   "source": [
    "tqdm.pandas()\n",
    "df2[\"Headline\"] = df2[\"Headline\"].progress_apply(spacy_tokenizer)\n",
    "df2.head()"
   ]
  },
  {
   "cell_type": "markdown",
   "metadata": {},
   "source": [
    "### Topic Modeling\n",
    "---"
   ]
  },
  {
   "cell_type": "raw",
   "metadata": {},
   "source": [
    "In machine learning and natural language processing, a topic model is a type of statistical model for discovering the abstract \"topics\" that occur in a collection of documents. Topic modeling is a frequently used text-mining tool for discovery of hidden semantic structures in a text body. Intuitively, given that a document is about a particular topic, one would expect particular words to appear in the document more or less frequently: \"dog\" and \"bone\" will appear more often in documents about dogs, \"cat\" and \"meow\" will appear in documents about cats, and \"the\" and \"is\" will appear equally in both. A document typically concerns multiple topics in different proportions; thus, in a document that is 10% about cats and 90% about dogs, there would probably be about 9 times more dog words than cat words.\n",
    "\n",
    "The \"topics\" produced by topic modeling techniques are clusters of similar words. A topic model captures this intuition in a mathematical framework, which allows examining a set of documents and discovering, based on the statistics of the words in each, what the topics might be and what each document's balance of topics is. It involves various techniques of dimensionality reduction(mostly non-linear) and unsupervised learning like LDA, SVD, autoencoders etc."
   ]
  },
  {
   "cell_type": "code",
   "execution_count": 46,
   "metadata": {},
   "outputs": [],
   "source": [
    "# Creating a vectorizer\n",
    "vectorizer = CountVectorizer(min_df=5, max_df=0.9, stop_words='english',\n",
    "                             lowercase=True, token_pattern='[a-zA-Z\\-][a-zA-Z\\-]{2,}')\n",
    "data_vectorized = vectorizer.fit_transform(df2[\"Headline\"])\n",
    "NUM_TOPICS = 10"
   ]
  },
  {
   "cell_type": "code",
   "execution_count": 47,
   "metadata": {},
   "outputs": [
    {
     "name": "stdout",
     "output_type": "stream",
     "text": [
      "iteration: 1 of max_iter: 10\n",
      "iteration: 2 of max_iter: 10\n",
      "iteration: 3 of max_iter: 10\n",
      "iteration: 4 of max_iter: 10\n",
      "iteration: 5 of max_iter: 10\n",
      "iteration: 6 of max_iter: 10\n",
      "iteration: 7 of max_iter: 10\n",
      "iteration: 8 of max_iter: 10\n",
      "iteration: 9 of max_iter: 10\n",
      "iteration: 10 of max_iter: 10\n"
     ]
    }
   ],
   "source": [
    "# Latent Dirichlet Allocation Model\n",
    "lda = LatentDirichletAllocation(n_components=NUM_TOPICS, max_iter=10, learning_method='online',verbose=True)\n",
    "data_lda = lda.fit_transform(data_vectorized)"
   ]
  },
  {
   "cell_type": "code",
   "execution_count": 48,
   "metadata": {},
   "outputs": [],
   "source": [
    "# Non-Negative Matrix Factorization Model\n",
    "nmf = NMF(n_components=NUM_TOPICS)\n",
    "data_nmf = nmf.fit_transform(data_vectorized) "
   ]
  },
  {
   "cell_type": "code",
   "execution_count": 49,
   "metadata": {},
   "outputs": [],
   "source": [
    "# Latent Semantic Indexing Model using Truncated SVD\n",
    "lsi = TruncatedSVD(n_components=NUM_TOPICS)\n",
    "data_lsi = lsi.fit_transform(data_vectorized)"
   ]
  },
  {
   "cell_type": "code",
   "execution_count": 50,
   "metadata": {},
   "outputs": [],
   "source": [
    "# Functions for printing keywords for each topic\n",
    "def selected_topics(model, vectorizer, top_n=10):\n",
    "    for idx, topic in enumerate(model.components_):\n",
    "        print(\"Topic %d:\" % (idx))\n",
    "        print([(vectorizer.get_feature_names()[i], topic[i])\n",
    "                        for i in topic.argsort()[:-top_n - 1:-1]]) "
   ]
  },
  {
   "cell_type": "code",
   "execution_count": 51,
   "metadata": {},
   "outputs": [
    {
     "name": "stdout",
     "output_type": "stream",
     "text": [
      "LDA Model:\n",
      "Topic 0:\n",
      "[('coronavirus', 0.6215094512992357), ('mortgage', 0.4378688279865017), ('home', 0.3789002115614898), ('bank', 0.3568725500900768), ('cba', 0.3533836106260866), ('pandemic', 0.3399277946782544), ('covid-', 0.33433098220711976), ('commonwealth', 0.32724327219036947), ('cut', 0.3250315205742598), ('impact', 0.306140610348303)]\n",
      "Topic 1:\n",
      "[('coronavirus', 0.45688905973133326), ('commonwealth', 0.3468843734533722), ('australian', 0.3421965840911092), ('buy', 0.3300940819269943), ('cba', 0.3289515423275764), ('banks', 0.3252566898218607), ('asx', 0.3137900826953336), ('business', 0.30160128885678705), ('market', 0.296457743086696), ('cut', 0.2929025756868064)]\n",
      "Topic 2:\n",
      "[('coronavirus', 7.163214099590859), ('pandemic', 4.279851879727932), ('home', 3.434502767939538), ('cba', 3.2699996289268847), ('mortgage', 2.184684758976158), ('buy', 2.0290443687574595), ('cut', 1.4135377923477341), ('support', 1.1505285130691476), ('repayment', 1.1396372612621368), ('business', 0.37262128328833416)]\n",
      "Topic 3:\n",
      "[('covid-', 5.0800949169686), ('loan', 1.8161524171622918), ('share', 1.4950909416713907), ('home', 1.0953196035473813), ('repayment', 1.083637792140513), ('mortgage', 1.0808053047305133), ('cba', 0.7624345500476407), ('big', 0.40199439073507703), ('bank', 0.3964915381844305), ('cut', 0.30204714145473216)]\n",
      "Topic 4:\n",
      "[('coronavirus', 24.157226033483262), ('bank', 8.668828248593304), ('commonwealth', 5.586607226198132), ('share', 4.857470727734729), ('crisis', 4.284079919588708), ('buy', 3.2154063571747615), ('dividend', 3.069320279237299), ('market', 2.702550724422594), ('asx', 2.1844386884577704), ('impact', 2.024241971548958)]\n",
      "Topic 5:\n",
      "[('cba', 3.641725828624903), ('share', 2.4764563359502563), ('asx', 2.3837448527441563), ('dividend', 1.242404624528419), ('cut', 0.35399978204041627), ('bank', 0.34771782548051466), ('business', 0.33020262070591117), ('support', 0.3289527871240417), ('crisis', 0.2999747197886119), ('market', 0.2936770053549544)]\n",
      "Topic 6:\n",
      "[('market', 1.808331146967022), ('pandemic', 0.31034125121179185), ('crisis', 0.30929338104673165), ('dividend', 0.30632786000424517), ('cut', 0.30417542468287173), ('australian', 0.30063122358662686), ('support', 0.29410796159498953), ('impact', 0.29373668531100205), ('share', 0.2923173496445683), ('buy', 0.28915181213247715)]\n",
      "Topic 7:\n",
      "[('business', 3.951515981850054), ('loan', 2.7245566575282845), ('australian', 2.654179587016525), ('coronavirus', 2.463001858323734), ('bank', 2.0959988826099014), ('repayment', 1.8654349596691926), ('home', 1.0994856061697456), ('crisis', 1.086535713832619), ('commonwealth', 0.48884535738040813), ('dividend', 0.4877089599861018)]\n",
      "Topic 8:\n",
      "[('cba', 16.673802990951806), ('coronavirus', 8.427779386031755), ('business', 5.2754933382306275), ('support', 4.134227831719551), ('loan', 3.375879647754802), ('impact', 2.553556681137891), ('cut', 1.520526923877057), ('home', 1.0840454055563757), ('covid-', 1.046120969863618), ('bank', 0.8683025737342949)]\n",
      "Topic 9:\n",
      "[('bank', 7.715185780053733), ('big', 6.988079249155563), ('banks', 3.460307354334218), ('mortgage', 3.345538803253881), ('coronavirus', 2.91026607495013), ('dividend', 1.8971908111318485), ('crisis', 1.866933652856873), ('repayment', 1.0761651210430683), ('cut', 1.016442823130875), ('buy', 0.41922387416755924)]\n"
     ]
    }
   ],
   "source": [
    "# Keywords for topics clustered by Latent Dirichlet Allocation\n",
    "print(\"LDA Model:\")\n",
    "selected_topics(lda, vectorizer)"
   ]
  },
  {
   "cell_type": "code",
   "execution_count": 52,
   "metadata": {},
   "outputs": [
    {
     "name": "stdout",
     "output_type": "stream",
     "text": [
      "NMF Model:\n",
      "Topic 0:\n",
      "[('coronavirus', 3.322555840882391), ('buy', 0.24768646980302325), ('pandemic', 0.23454928743329279), ('impact', 0.13903066899498498), ('home', 0.05649988341755386), ('support', 0.0), ('australian', 0.0), ('bank', 0.0), ('banks', 0.0), ('big', 0.0)]\n",
      "Topic 1:\n",
      "[('cba', 2.6042345880253452), ('cut', 0.2615336434453031), ('asx', 0.1392582938490559), ('pandemic', 0.1229639434749683), ('support', 0.08871573558364575), ('impact', 0.08384933904583663), ('market', 0.0), ('repayment', 0.0), ('australian', 0.0), ('bank', 0.0)]\n",
      "Topic 2:\n",
      "[('bank', 3.066340739035271), ('commonwealth', 1.0572951184085988), ('big', 0.16281111230185774), ('australian', 0.08510346462179846), ('asx', 0.0741862843797162), ('coronavirus', 0.028183889783995105), ('loan', 0.028099673701502795), ('mortgage', 0.010725360386537163), ('impact', 0.004642786183083784), ('banks', 0.0)]\n",
      "Topic 3:\n",
      "[('business', 2.210821534480327), ('support', 1.1091481497941587), ('australian', 0.32076239400534773), ('loan', 0.2530249104332219), ('impact', 0.1703260114654495), ('bank', 0.052899278745649495), ('big', 0.04010755409278603), ('repayment', 0.023218906020525423), ('coronavirus', 0.019168299612494614), ('cba', 0.016119174903174303)]\n",
      "Topic 4:\n",
      "[('share', 2.482908405807844), ('dividend', 1.027007321196232), ('buy', 0.7621685473563852), ('asx', 0.6576055011227345), ('covid-', 0.4282771412233883), ('commonwealth', 0.3333276083859393), ('cba', 0.049343882134916216), ('market', 0.047064750135724524), ('australian', 0.0), ('bank', 0.0)]\n",
      "Topic 5:\n",
      "[('mortgage', 1.9151612302993626), ('repayment', 0.7021070329899325), ('covid-', 0.24913257870344063), ('support', 0.2480956223207438), ('cut', 0.23962135162322504), ('big', 0.15785416093294935), ('bank', 0.1328387935749187), ('home', 0.09094128861137016), ('coronavirus', 0.012001885230934189), ('cba', 0.0)]\n",
      "Topic 6:\n",
      "[('big', 1.6989163477222133), ('dividend', 0.7835764972354035), ('banks', 0.7768051390625306), ('bank', 0.15380507471644345), ('covid-', 0.024640113828038487), ('support', 0.02415280572798356), ('australian', 0.0), ('business', 0.0), ('buy', 0.0), ('cba', 0.0)]\n",
      "Topic 7:\n",
      "[('loan', 1.7744185415151463), ('home', 1.2818807033098107), ('covid-', 0.8110088075096997), ('repayment', 0.4497364057817896), ('australian', 0.17559538663568713), ('business', 0.05283099258370933), ('impact', 0.05275844798333809), ('bank', 0.044043360583238426), ('big', 0.01166474170957101), ('cba', 0.0063391794008382345)]\n",
      "Topic 8:\n",
      "[('crisis', 1.8323512980031638), ('cut', 0.34324098802292585), ('asx', 0.27259751851824127), ('impact', 0.21349566448131527), ('repayment', 0.18928420322199405), ('banks', 0.1379120097302167), ('coronavirus', 0.11131324789276328), ('loan', 0.07168561216005441), ('business', 0.03850197529653287), ('cba', 0.0)]\n",
      "Topic 9:\n",
      "[('market', 1.2509386070695607), ('australian', 1.002612139533317), ('banks', 0.4552288341231799), ('share', 0.20521846262507346), ('coronavirus', 0.0531932733183391), ('business', 0.05157963339495212), ('loan', 0.025449020117475827), ('bank', 0.004980112690647645), ('support', 0.0), ('big', 0.0)]\n"
     ]
    }
   ],
   "source": [
    "# Keywords for topics clustered by Latent Semantic Indexing\n",
    "print(\"NMF Model:\")\n",
    "selected_topics(nmf, vectorizer)"
   ]
  },
  {
   "cell_type": "code",
   "execution_count": 53,
   "metadata": {},
   "outputs": [
    {
     "name": "stdout",
     "output_type": "stream",
     "text": [
      "LSI Model:\n",
      "Topic 0:\n",
      "[('coronavirus', 0.8140455008647512), ('bank', 0.3378159053997171), ('cba', 0.3039441296852416), ('business', 0.14252097305548347), ('loan', 0.11640546684512047), ('crisis', 0.11459614570801907), ('share', 0.10977043031517489), ('commonwealth', 0.10091163209886854), ('big', 0.08899253710111298), ('mortgage', 0.08845379614113864)]\n",
      "Topic 1:\n",
      "[('bank', 0.5708338330135357), ('commonwealth', 0.18277460167308873), ('big', 0.17872025310747364), ('crisis', 0.08989711669437683), ('mortgage', 0.04686538256663277), ('coronavirus', 0.03951301886538218), ('australian', 0.03026737830728309), ('repayment', 0.025156224364868716), ('banks', 0.019545599352505633), ('dividend', 0.004281090577142101)]\n",
      "Topic 2:\n",
      "[('bank', 0.5392686522873819), ('cba', 0.4102112655621962), ('share', 0.24687345458303195), ('big', 0.21805512996337975), ('commonwealth', 0.18451381427867874), ('dividend', 0.15843609500451414), ('covid-', 0.15770544170378645), ('business', 0.13227901099823255), ('asx', 0.11685291514959532), ('mortgage', 0.10517568934620129)]\n",
      "Topic 3:\n",
      "[('share', 0.45808807400585133), ('dividend', 0.2600500189418979), ('buy', 0.1986025420948754), ('commonwealth', 0.19647194644290147), ('asx', 0.17563730832963825), ('coronavirus', 0.07380586033888903), ('market', 0.07363983975595204), ('cba', 0.0557258270469775), ('pandemic', 0.053062307342177234), ('cut', 0.02682048509543772)]\n",
      "Topic 4:\n",
      "[('share', 0.5272499475106148), ('australian', 0.3178474822349559), ('loan', 0.314757288304157), ('business', 0.2850489326717227), ('market', 0.23406633405181923), ('covid-', 0.17531344597907522), ('dividend', 0.17367784080940188), ('home', 0.1494085065823961), ('buy', 0.12369766406368768), ('banks', 0.0714187202089155)]\n",
      "Topic 5:\n",
      "[('big', 0.49058303128383746), ('mortgage', 0.4242505566753979), ('covid-', 0.27799711357882606), ('banks', 0.2746431774604509), ('repayment', 0.2674252745873893), ('dividend', 0.22250690848504556), ('home', 0.18457283506307776), ('share', 0.1251538826393246), ('market', 0.0988395898873008), ('buy', 0.06234158577293563)]\n",
      "Topic 6:\n",
      "[('big', 0.38820216637640187), ('banks', 0.3825454531310579), ('dividend', 0.3399556252417229), ('business', 0.31388674011908846), ('crisis', 0.22194104287583652), ('support', 0.18910012283782487), ('asx', 0.07305836184956195), ('australian', 0.05280446431616868), ('market', 0.049840591417461805), ('impact', 0.016138502406098668)]\n",
      "Topic 7:\n",
      "[('mortgage', 0.30885173940723143), ('market', 0.2953540906727248), ('share', 0.2803247167076894), ('support', 0.2642206187934016), ('business', 0.21018113863171184), ('australian', 0.17454191154742604), ('coronavirus', 0.07170878041911341), ('bank', 0.04000068681331929), ('covid-', 0.022869716526432486), ('big', -0.012591518848797459)]\n",
      "Topic 8:\n",
      "[('crisis', 0.6174127075975839), ('covid-', 0.39387472527325285), ('impact', 0.26884960496158883), ('share', 0.24399332700973728), ('repayment', 0.17200288016408868), ('support', 0.09820791449977191), ('cut', 0.08134652734415772), ('asx', 0.04422779835963186), ('commonwealth', 0.02689698493167896), ('mortgage', 0.007073509663878537)]\n",
      "Topic 9:\n",
      "[('australian', 0.3708128024573269), ('market', 0.3662624171480324), ('cut', 0.26852833885775546), ('crisis', 0.2369410983426224), ('banks', 0.21733814532629359), ('cba', 0.17113906068485646), ('loan', 0.124142564070047), ('bank', 0.1192615271944699), ('home', 0.06188050117200397), ('share', 0.036238457589867754)]\n"
     ]
    }
   ],
   "source": [
    "# Keywords for topics clustered by Non-Negative Matrix Factorization\n",
    "print(\"LSI Model:\")\n",
    "selected_topics(lsi, vectorizer)"
   ]
  },
  {
   "cell_type": "code",
   "execution_count": 54,
   "metadata": {},
   "outputs": [
    {
     "data": {
      "text/html": [
       "\n",
       "<link rel=\"stylesheet\" type=\"text/css\" href=\"https://cdn.rawgit.com/bmabey/pyLDAvis/files/ldavis.v1.0.0.css\">\n",
       "\n",
       "\n",
       "<div id=\"ldavis_el214345223497800827483353\"></div>\n",
       "<script type=\"text/javascript\">\n",
       "\n",
       "var ldavis_el214345223497800827483353_data = {\"mdsDat\": {\"x\": [62.1524543762207, -6.540152072906494, 22.42696189880371, -47.53278732299805, -77.40811157226562, 130.89767456054688, 101.31753540039062, 59.037025451660156, -23.239574432373047, 33.2880744934082], \"y\": [-6.357273578643799, -0.08066771924495697, -62.68218994140625, -84.45426940917969, -7.774031639099121, 6.788610458374023, -76.08058166503906, 66.86573028564453, 69.2143325805664, -131.829833984375], \"topics\": [1, 2, 3, 4, 5, 6, 7, 8, 9, 10], \"cluster\": [1, 1, 1, 1, 1, 1, 1, 1, 1, 1], \"Freq\": [25.89151170900149, 17.20892829296853, 13.796082030831858, 12.165331435716816, 9.0965254179475, 7.206677607795162, 6.287262239132242, 3.0569132260238856, 2.645398070416833, 2.645369970165692]}, \"tinfo\": {\"Category\": [\"Default\", \"Default\", \"Default\", \"Default\", \"Default\", \"Default\", \"Default\", \"Default\", \"Default\", \"Default\", \"Default\", \"Default\", \"Default\", \"Default\", \"Default\", \"Default\", \"Default\", \"Default\", \"Default\", \"Default\", \"Default\", \"Default\", \"Default\", \"Topic1\", \"Topic1\", \"Topic1\", \"Topic1\", \"Topic1\", \"Topic1\", \"Topic1\", \"Topic1\", \"Topic1\", \"Topic1\", \"Topic1\", \"Topic1\", \"Topic1\", \"Topic1\", \"Topic1\", \"Topic1\", \"Topic1\", \"Topic1\", \"Topic1\", \"Topic1\", \"Topic1\", \"Topic1\", \"Topic1\", \"Topic2\", \"Topic2\", \"Topic2\", \"Topic2\", \"Topic2\", \"Topic2\", \"Topic2\", \"Topic2\", \"Topic2\", \"Topic2\", \"Topic2\", \"Topic2\", \"Topic2\", \"Topic2\", \"Topic2\", \"Topic2\", \"Topic2\", \"Topic2\", \"Topic2\", \"Topic2\", \"Topic2\", \"Topic2\", \"Topic2\", \"Topic3\", \"Topic3\", \"Topic3\", \"Topic3\", \"Topic3\", \"Topic3\", \"Topic3\", \"Topic3\", \"Topic3\", \"Topic3\", \"Topic3\", \"Topic3\", \"Topic3\", \"Topic3\", \"Topic3\", \"Topic3\", \"Topic3\", \"Topic3\", \"Topic3\", \"Topic3\", \"Topic3\", \"Topic3\", \"Topic3\", \"Topic4\", \"Topic4\", \"Topic4\", \"Topic4\", \"Topic4\", \"Topic4\", \"Topic4\", \"Topic4\", \"Topic4\", \"Topic4\", \"Topic4\", \"Topic4\", \"Topic4\", \"Topic4\", \"Topic4\", \"Topic4\", \"Topic4\", \"Topic4\", \"Topic4\", \"Topic4\", \"Topic4\", \"Topic4\", \"Topic4\", \"Topic5\", \"Topic5\", \"Topic5\", \"Topic5\", \"Topic5\", \"Topic5\", \"Topic5\", \"Topic5\", \"Topic5\", \"Topic5\", \"Topic5\", \"Topic5\", \"Topic5\", \"Topic5\", \"Topic5\", \"Topic5\", \"Topic5\", \"Topic5\", \"Topic5\", \"Topic5\", \"Topic5\", \"Topic5\", \"Topic5\", \"Topic6\", \"Topic6\", \"Topic6\", \"Topic6\", \"Topic6\", \"Topic6\", \"Topic6\", \"Topic6\", \"Topic6\", \"Topic6\", \"Topic6\", \"Topic6\", \"Topic6\", \"Topic6\", \"Topic6\", \"Topic6\", \"Topic6\", \"Topic6\", \"Topic6\", \"Topic6\", \"Topic6\", \"Topic6\", \"Topic6\", \"Topic7\", \"Topic7\", \"Topic7\", \"Topic7\", \"Topic7\", \"Topic7\", \"Topic7\", \"Topic7\", \"Topic7\", \"Topic7\", \"Topic7\", \"Topic7\", \"Topic7\", \"Topic7\", \"Topic7\", \"Topic7\", \"Topic7\", \"Topic7\", \"Topic7\", \"Topic7\", \"Topic7\", \"Topic7\", \"Topic7\", \"Topic8\", \"Topic8\", \"Topic8\", \"Topic8\", \"Topic8\", \"Topic8\", \"Topic8\", \"Topic8\", \"Topic8\", \"Topic8\", \"Topic8\", \"Topic8\", \"Topic8\", \"Topic8\", \"Topic8\", \"Topic8\", \"Topic8\", \"Topic8\", \"Topic8\", \"Topic8\", \"Topic8\", \"Topic8\", \"Topic8\", \"Topic9\", \"Topic9\", \"Topic9\", \"Topic9\", \"Topic9\", \"Topic9\", \"Topic9\", \"Topic9\", \"Topic9\", \"Topic9\", \"Topic9\", \"Topic9\", \"Topic9\", \"Topic9\", \"Topic9\", \"Topic9\", \"Topic9\", \"Topic9\", \"Topic9\", \"Topic9\", \"Topic9\", \"Topic9\", \"Topic9\", \"Topic10\", \"Topic10\", \"Topic10\", \"Topic10\", \"Topic10\", \"Topic10\", \"Topic10\", \"Topic10\", \"Topic10\", \"Topic10\", \"Topic10\", \"Topic10\", \"Topic10\", \"Topic10\", \"Topic10\", \"Topic10\", \"Topic10\", \"Topic10\", \"Topic10\", \"Topic10\", \"Topic10\", \"Topic10\", \"Topic10\"], \"Freq\": [24.0, 7.0, 6.0, 10.0, 9.0, 10.0, 20.0, 6.0, 9.0, 43.0, 6.0, 7.0, 6.0, 8.0, 7.0, 6.0, 6.0, 8.0, 7.0, 6.0, 8.0, 6.0, 6.0, 5.150521706436819, 22.27153476429908, 3.9496685062228476, 4.478300945206252, 2.9644146379185963, 7.992147336647036, 2.491592053153489, 2.8297319074240153, 1.8662314695494597, 2.0139233752681043, 1.6900048847640583, 1.065940495394209, 0.9494493777115526, 0.42866769131913657, 0.23867423032936966, 0.24496634220289779, 0.22161317409246467, 0.2972001781885, 0.8252012724330691, 0.2544918368642317, 0.23329701938590533, 0.23126691257072482, 0.22753333549177945, 14.07828881210888, 3.4906765698017916, 4.4542878959449395, 2.15605932699684, 2.850376048091923, 1.2838353189458394, 7.115875862613858, 0.8832773875363364, 0.9152983463427122, 0.626165601428225, 0.547698627097182, 0.3008837595538183, 0.24727733091513007, 0.7331389495223407, 0.25070818535712625, 0.22838984656466021, 0.22347008929210008, 0.3040829988754063, 0.21251249858194965, 0.2554293224305499, 0.20627893152810267, 0.2192324960588463, 0.23445154632496018, 6.784178097473422, 3.3593410330366757, 3.2479212476053547, 7.490068804429176, 1.8418337698679987, 1.8124594678399155, 1.0447643169369403, 0.9867846216614977, 2.825349092296349, 0.406991581472003, 0.3550374391813914, 0.27695307974362826, 0.2923746767605737, 0.26502452273023014, 0.25794136731054235, 0.2575628977800262, 0.2741359095183473, 0.24767777730159052, 0.24756647814691374, 0.27817580756992855, 0.3107859362228277, 0.2973914958273999, 0.3641599142086784, 4.167708956312523, 3.344510125273703, 1.9758782841249927, 2.1274405032174166, 1.376499533817601, 1.1097758880878876, 1.1203817616034026, 6.975519807182388, 3.184317383779074, 0.3369877168709206, 0.3446210944037639, 0.33352906047614, 0.2620511080320284, 0.31809230943961897, 0.304343080818748, 0.24986904796674755, 0.3628576650115699, 0.31302212813630276, 0.3221439683491479, 0.2508137571021492, 0.2729952072429033, 0.25134694449861816, 0.2570500570442119, 2.611091708540862, 3.8873671799929874, 2.680326279623978, 1.8351515397982603, 1.081636587054338, 1.068896922913534, 2.0619724943501163, 0.4809094552827375, 0.4797915061325008, 2.4230175538418823, 0.33704581305419046, 0.2660581530953501, 0.28403448867699754, 0.25056644370888975, 0.26347163607441954, 0.27015479856503866, 0.244286093657394, 0.2576301466806721, 0.2488654834610112, 0.2663102513962483, 0.3180666197231623, 0.24902245432308642, 0.23888315566476162, 2.7547115757639475, 2.8618511447073605, 1.4357519837037798, 4.208463957173475, 0.409090468001238, 0.3801455720091991, 0.3393800495282336, 0.33428762597072154, 0.32148870343274777, 0.3093079971952804, 0.29355011489436617, 0.3187737045035534, 0.27385839242071697, 0.3146095669459544, 0.3196983064167836, 0.34665783633972086, 0.3067641659267129, 0.3815899090706052, 0.3080167816363925, 0.29942022556683967, 0.29363203376485, 0.40183089135901234, 0.2993455806107433, 4.571261030916458, 1.6342424514644223, 0.9750981609210145, 1.3453392251609504, 0.9856098954707694, 0.9725493819061494, 0.2717934113041421, 0.2548755886503893, 0.25704327720662734, 0.25106813031872854, 0.27041691538825285, 0.3617297162846731, 0.21547412063268312, 0.23782623967085637, 0.2242956164039575, 0.23962325552749902, 0.2120725825325606, 0.2586406569849744, 0.23186593102947275, 0.6860673676815567, 0.2352157732010459, 0.3567780419882684, 0.22916047044589286, 1.6924567189048128, 0.27491459596725076, 0.2904551727971216, 0.28468444073072163, 0.28136734531456953, 0.2752620815715653, 0.2522994112146896, 0.2531037879739587, 0.27062351276087254, 0.25787093079137385, 0.28669895208157486, 0.2894744481635994, 0.26034109410697964, 0.237123228261528, 0.23775871728714154, 0.2559995608551185, 0.23268478491311279, 0.25141742670616984, 0.27358620863671895, 0.23601833796633143, 0.26409755470592705, 0.23473436978291357, 0.2353264577439891, 0.2953785342421139, 0.3804838987155616, 0.28243449236206886, 0.26601933167088737, 0.32924341835886745, 0.26343407317084583, 0.2546794866068687, 0.290515212413087, 0.2458509151121533, 0.28435638271849717, 0.23027822768369285, 0.24276775931358868, 0.23923925182101052, 0.2209918728828187, 0.2532142971804617, 0.2266551487398816, 0.24532183224558068, 0.25144685479616463, 0.23657933600239986, 0.23219600664608178, 0.31010259357175074, 0.30707089730840653, 0.540057487550113, 0.32098224893065297, 0.305092536373665, 0.2780789683848447, 0.30963003636358827, 0.2943367967953384, 0.27474420211190703, 0.32537942073763904, 0.24615818571661496, 0.24959966830402444, 0.24892672159494528, 0.23962639555717083, 0.25313194083300705, 0.24310638741613677, 0.2672110846971193, 0.2446935571942229, 0.2714522054212867, 0.24786689494532457, 0.2829036421703726, 0.248500711468585, 0.2655658640218088, 0.2741388182714796, 0.3085583280322864, 0.4285644121606095], \"Term\": [\"cba\", \"covid-\", \"market\", \"share\", \"big\", \"business\", \"bank\", \"asx\", \"loan\", \"coronavirus\", \"pandemic\", \"home\", \"australian\", \"mortgage\", \"commonwealth\", \"banks\", \"repayment\", \"dividend\", \"buy\", \"support\", \"crisis\", \"impact\", \"cut\", \"commonwealth\", \"coronavirus\", \"crisis\", \"share\", \"buy\", \"bank\", \"market\", \"dividend\", \"impact\", \"asx\", \"australian\", \"cut\", \"banks\", \"loan\", \"pandemic\", \"support\", \"repayment\", \"mortgage\", \"cba\", \"home\", \"covid-\", \"big\", \"business\", \"cba\", \"support\", \"business\", \"impact\", \"loan\", \"cut\", \"coronavirus\", \"covid-\", \"home\", \"mortgage\", \"big\", \"asx\", \"market\", \"bank\", \"buy\", \"pandemic\", \"repayment\", \"crisis\", \"banks\", \"commonwealth\", \"australian\", \"dividend\", \"share\", \"big\", \"banks\", \"mortgage\", \"bank\", \"dividend\", \"crisis\", \"repayment\", \"cut\", \"coronavirus\", \"buy\", \"support\", \"impact\", \"pandemic\", \"australian\", \"market\", \"asx\", \"covid-\", \"commonwealth\", \"home\", \"loan\", \"business\", \"share\", \"cba\", \"pandemic\", \"home\", \"buy\", \"mortgage\", \"cut\", \"repayment\", \"support\", \"coronavirus\", \"cba\", \"impact\", \"australian\", \"banks\", \"market\", \"dividend\", \"commonwealth\", \"asx\", \"business\", \"loan\", \"big\", \"covid-\", \"crisis\", \"share\", \"bank\", \"australian\", \"business\", \"loan\", \"repayment\", \"home\", \"crisis\", \"bank\", \"commonwealth\", \"dividend\", \"coronavirus\", \"market\", \"banks\", \"asx\", \"impact\", \"pandemic\", \"support\", \"cut\", \"buy\", \"covid-\", \"mortgage\", \"share\", \"big\", \"cba\", \"asx\", \"share\", \"dividend\", \"cba\", \"cut\", \"support\", \"market\", \"australian\", \"pandemic\", \"repayment\", \"impact\", \"buy\", \"banks\", \"covid-\", \"commonwealth\", \"crisis\", \"home\", \"business\", \"mortgage\", \"loan\", \"big\", \"bank\", \"coronavirus\", \"covid-\", \"loan\", \"repayment\", \"share\", \"home\", \"mortgage\", \"cut\", \"banks\", \"australian\", \"market\", \"asx\", \"big\", \"impact\", \"support\", \"pandemic\", \"commonwealth\", \"buy\", \"crisis\", \"dividend\", \"cba\", \"business\", \"bank\", \"coronavirus\", \"market\", \"impact\", \"pandemic\", \"cut\", \"australian\", \"support\", \"banks\", \"repayment\", \"buy\", \"asx\", \"dividend\", \"crisis\", \"home\", \"covid-\", \"commonwealth\", \"loan\", \"mortgage\", \"big\", \"share\", \"business\", \"bank\", \"cba\", \"coronavirus\", \"pandemic\", \"mortgage\", \"cut\", \"impact\", \"home\", \"market\", \"repayment\", \"covid-\", \"banks\", \"commonwealth\", \"australian\", \"asx\", \"buy\", \"support\", \"crisis\", \"dividend\", \"loan\", \"big\", \"share\", \"business\", \"bank\", \"cba\", \"coronavirus\", \"australian\", \"banks\", \"market\", \"buy\", \"asx\", \"cut\", \"commonwealth\", \"impact\", \"repayment\", \"pandemic\", \"support\", \"covid-\", \"home\", \"crisis\", \"dividend\", \"loan\", \"mortgage\", \"business\", \"big\", \"share\", \"bank\", \"cba\", \"coronavirus\"], \"Total\": [24.0, 7.0, 6.0, 10.0, 9.0, 10.0, 20.0, 6.0, 9.0, 43.0, 6.0, 7.0, 6.0, 8.0, 7.0, 6.0, 6.0, 8.0, 7.0, 6.0, 8.0, 6.0, 6.0, 7.845697424958005, 43.3437514887449, 8.823301426460482, 10.56247933010963, 7.205961923534976, 20.141325541889316, 6.420325612772846, 8.114347561671911, 6.18291438575154, 6.926377547298196, 6.540979867073281, 6.480093077986618, 6.452866966673281, 9.257004230294518, 6.571164094512433, 6.8350690730461325, 6.476564109208799, 8.706639523952287, 24.435745458173102, 7.968568334961365, 7.557030536373784, 9.541036802834004, 10.610755681718542, 24.435745458173102, 6.8350690730461325, 10.610755681718542, 6.18291438575154, 9.257004230294518, 6.480093077986618, 43.3437514887449, 7.557030536373784, 7.968568334961365, 8.706639523952287, 9.541036802834004, 6.926377547298196, 6.420325612772846, 20.141325541889316, 7.205961923534976, 6.571164094512433, 6.476564109208799, 8.823301426460482, 6.452866966673281, 7.845697424958005, 6.540979867073281, 8.114347561671911, 10.56247933010963, 9.541036802834004, 6.452866966673281, 8.706639523952287, 20.141325541889316, 8.114347561671911, 8.823301426460482, 6.476564109208799, 6.480093077986618, 43.3437514887449, 7.205961923534976, 6.8350690730461325, 6.18291438575154, 6.571164094512433, 6.540979867073281, 6.420325612772846, 6.926377547298196, 7.557030536373784, 7.845697424958005, 7.968568334961365, 9.257004230294518, 10.610755681718542, 10.56247933010963, 24.435745458173102, 6.571164094512433, 7.968568334961365, 7.205961923534976, 8.706639523952287, 6.480093077986618, 6.476564109208799, 6.8350690730461325, 43.3437514887449, 24.435745458173102, 6.18291438575154, 6.540979867073281, 6.452866966673281, 6.420325612772846, 8.114347561671911, 7.845697424958005, 6.926377547298196, 10.610755681718542, 9.257004230294518, 9.541036802834004, 7.557030536373784, 8.823301426460482, 10.56247933010963, 20.141325541889316, 6.540979867073281, 10.610755681718542, 9.257004230294518, 6.476564109208799, 7.968568334961365, 8.823301426460482, 20.141325541889316, 7.845697424958005, 8.114347561671911, 43.3437514887449, 6.420325612772846, 6.452866966673281, 6.926377547298196, 6.18291438575154, 6.571164094512433, 6.8350690730461325, 6.480093077986618, 7.205961923534976, 7.557030536373784, 8.706639523952287, 10.56247933010963, 9.541036802834004, 24.435745458173102, 6.926377547298196, 10.56247933010963, 8.114347561671911, 24.435745458173102, 6.480093077986618, 6.8350690730461325, 6.420325612772846, 6.540979867073281, 6.571164094512433, 6.476564109208799, 6.18291438575154, 7.205961923534976, 6.452866966673281, 7.557030536373784, 7.845697424958005, 8.823301426460482, 7.968568334961365, 10.610755681718542, 8.706639523952287, 9.257004230294518, 9.541036802834004, 20.141325541889316, 43.3437514887449, 7.557030536373784, 9.257004230294518, 6.476564109208799, 10.56247933010963, 7.968568334961365, 8.706639523952287, 6.480093077986618, 6.452866966673281, 6.540979867073281, 6.420325612772846, 6.926377547298196, 9.541036802834004, 6.18291438575154, 6.8350690730461325, 6.571164094512433, 7.845697424958005, 7.205961923534976, 8.823301426460482, 8.114347561671911, 24.435745458173102, 10.610755681718542, 20.141325541889316, 43.3437514887449, 6.420325612772846, 6.18291438575154, 6.571164094512433, 6.480093077986618, 6.540979867073281, 6.8350690730461325, 6.452866966673281, 6.476564109208799, 7.205961923534976, 6.926377547298196, 8.114347561671911, 8.823301426460482, 7.968568334961365, 7.557030536373784, 7.845697424958005, 9.257004230294518, 8.706639523952287, 9.541036802834004, 10.56247933010963, 10.610755681718542, 20.141325541889316, 24.435745458173102, 43.3437514887449, 6.571164094512433, 8.706639523952287, 6.480093077986618, 6.18291438575154, 7.968568334961365, 6.420325612772846, 6.476564109208799, 7.557030536373784, 6.452866966673281, 7.845697424958005, 6.540979867073281, 6.926377547298196, 7.205961923534976, 6.8350690730461325, 8.823301426460482, 8.114347561671911, 9.257004230294518, 9.541036802834004, 10.56247933010963, 10.610755681718542, 20.141325541889316, 24.435745458173102, 43.3437514887449, 6.540979867073281, 6.452866966673281, 6.420325612772846, 7.205961923534976, 6.926377547298196, 6.480093077986618, 7.845697424958005, 6.18291438575154, 6.476564109208799, 6.571164094512433, 6.8350690730461325, 7.557030536373784, 7.968568334961365, 8.823301426460482, 8.114347561671911, 9.257004230294518, 8.706639523952287, 10.610755681718542, 9.541036802834004, 10.56247933010963, 20.141325541889316, 24.435745458173102, 43.3437514887449], \"loglift\": [23.0, 22.0, 21.0, 20.0, 19.0, 18.0, 17.0, 16.0, 15.0, 14.0, 13.0, 12.0, 11.0, 10.0, 9.0, 8.0, 7.0, 6.0, 5.0, 4.0, 3.0, 2.0, 1.0, 0.9304, 0.6854, 0.5475, 0.4932, 0.463, 0.4269, 0.4047, 0.2978, 0.1534, 0.116, -0.0021, -0.4536, -0.5651, -1.7212, -1.9641, -1.9774, -2.0238, -2.0262, -2.0369, -2.0927, -2.1267, -2.3685, -2.4911, 1.2083, 1.0878, 0.8917, 0.7062, 0.5818, 0.1409, -0.0471, -0.3869, -0.4043, -0.8725, -1.0979, -1.3766, -1.497, -1.5535, -1.5986, -1.5997, -1.6069, -1.6081, -1.6535, -1.665, -1.6969, -1.8515, -2.0481, 1.6398, 1.328, 0.9947, 0.9916, 0.4979, 0.3981, 0.1564, 0.0987, -0.7497, -0.8931, -0.9768, -1.1249, -1.1316, -1.2252, -1.2337, -1.311, -1.3358, -1.4748, -1.4908, -1.5241, -1.5497, -1.5892, -2.2254, 1.6513, 1.2384, 0.8127, 0.6974, 0.5574, 0.3425, 0.2982, 0.2798, 0.0688, -0.8029, -0.8368, -0.856, -1.0921, -1.1325, -1.143, -1.2156, -1.269, -1.2803, -1.2818, -1.2989, -1.3691, -1.6316, -2.2547, 1.479, 1.3931, 1.1578, 1.1362, 0.4002, 0.2865, 0.1182, -0.3948, -0.4308, -0.4869, -0.5497, -0.7913, -0.7967, -0.8085, -0.8192, -0.8335, -0.8809, -0.9339, -1.016, -1.0899, -1.1055, -1.2485, -2.2306, 1.7081, 1.3243, 0.8982, 0.8712, -0.1324, -0.2591, -0.3099, -0.3437, -0.3873, -0.4114, -0.4173, -0.488, -0.5295, -0.5487, -0.5702, -0.6067, -0.627, -0.6951, -0.7115, -0.8011, -0.8509, -1.2843, -2.3452, 2.264, 1.0324, 0.8732, 0.706, 0.6766, 0.5747, -0.4048, -0.4649, -0.47, -0.4749, -0.4765, -0.5058, -0.5901, -0.5916, -0.6108, -0.722, -0.7591, -0.7631, -0.7886, -0.8062, -1.0425, -1.2668, -2.4759, 2.1545, 0.3747, 0.3688, 0.3627, 0.3416, 0.2757, 0.2461, 0.2456, 0.2058, 0.1971, 0.1448, 0.0707, 0.0665, 0.0261, -0.0087, -0.1002, -0.1344, -0.1485, -0.1657, -0.3179, -0.8464, -1.1576, -1.7282, 0.5302, 0.502, 0.4993, 0.4864, 0.4459, 0.4389, 0.3964, 0.3738, 0.3648, 0.3149, 0.2858, 0.2814, 0.2271, 0.2007, 0.0814, 0.0544, 0.0018, -0.0038, -0.1664, -0.1897, -0.5413, -0.7444, -0.7529, 0.6179, 0.5807, 0.493, 0.4851, 0.474, 0.4717, 0.4496, 0.4088, 0.3763, 0.3591, 0.2816, 0.236, 0.1426, 0.1352, 0.131, 0.103, 0.0734, 0.0078, -0.0156, -0.0508, -0.6645, -0.7395, -0.9841], \"logprob\": [23.0, 22.0, 21.0, 20.0, 19.0, 18.0, 17.0, 16.0, 15.0, 14.0, 13.0, 12.0, 11.0, 10.0, 9.0, 8.0, 7.0, 6.0, 5.0, 4.0, 3.0, 2.0, 1.0, -2.5027, -1.0385, -2.7682, -2.6426, -3.0551, -2.0633, -3.2289, -3.1016, -3.5179, -3.4417, -3.6171, -4.0779, -4.1937, -4.9889, -5.5745, -5.5484, -5.6486, -5.3552, -4.3339, -5.5103, -5.5972, -5.606, -5.6223, -1.0887, -2.4832, -2.2395, -2.965, -2.6859, -3.4835, -1.771, -3.8574, -3.8218, -4.2015, -4.3353, -4.9344, -5.1306, -4.0437, -5.1168, -5.21, -5.2318, -4.9238, -5.2821, -5.0981, -5.3118, -5.2509, -5.1838, -1.5977, -2.3005, -2.3343, -1.4987, -2.9015, -2.9176, -3.4685, -3.5256, -2.4736, -4.4112, -4.5478, -4.7962, -4.742, -4.8402, -4.8673, -4.8688, -4.8064, -4.9079, -4.9084, -4.7918, -4.6809, -4.725, -4.5224, -1.9591, -2.1792, -2.7055, -2.6316, -3.0669, -3.2823, -3.2728, -1.4441, -2.2282, -4.4742, -4.4518, -4.4845, -4.7257, -4.5319, -4.5761, -4.7733, -4.4002, -4.548, -4.5192, -4.7695, -4.6848, -4.7674, -4.745, -2.136, -1.7381, -2.1098, -2.4887, -3.0173, -3.0292, -2.3721, -3.8279, -3.8302, -2.2108, -4.1833, -4.4198, -4.3544, -4.4798, -4.4296, -4.4045, -4.5052, -4.452, -4.4866, -4.4189, -4.2413, -4.486, -4.5276, -1.8496, -1.8114, -2.5012, -1.4258, -3.7567, -3.8301, -3.9435, -3.9587, -3.9977, -4.0363, -4.0886, -4.0062, -4.158, -4.0193, -4.0033, -3.9223, -4.0446, -3.8263, -4.0405, -4.0688, -4.0883, -3.7746, -4.0691, -1.2066, -2.2352, -2.7516, -2.4298, -2.7409, -2.7543, -4.0291, -4.0934, -4.0849, -4.1084, -4.0342, -3.7433, -4.2613, -4.1626, -4.2212, -4.1551, -4.2772, -4.0787, -4.188, -3.1032, -4.1737, -3.7571, -4.1997, -1.4791, -3.2966, -3.2416, -3.2617, -3.2734, -3.2953, -3.3824, -3.3793, -3.3123, -3.3606, -3.2546, -3.245, -3.3511, -3.4445, -3.4418, -3.3679, -3.4634, -3.3859, -3.3014, -3.4491, -3.3367, -3.4546, -3.4521, -3.0802, -2.827, -3.125, -3.1849, -2.9717, -3.1947, -3.2285, -3.0968, -3.2637, -3.1182, -3.3292, -3.2764, -3.291, -3.3703, -3.2342, -3.345, -3.2659, -3.2412, -3.3022, -3.3209, -3.0316, -3.0414, -2.4768, -2.9971, -3.0478, -3.1406, -3.0331, -3.0837, -3.1526, -2.9835, -3.2625, -3.2486, -3.2513, -3.2894, -3.2345, -3.275, -3.1804, -3.2685, -3.1647, -3.2556, -3.1234, -3.253, -3.1866, -3.1548, -3.0365, -2.708]}, \"token.table\": {\"Topic\": [1, 6, 1, 5, 1, 2, 3, 5, 1, 3, 2, 3, 2, 5, 1, 4, 1, 2, 4, 6, 7, 1, 1, 2, 3, 4, 5, 9, 2, 7, 1, 3, 5, 1, 2, 3, 4, 1, 3, 6, 2, 4, 5, 7, 1, 2, 2, 5, 7, 1, 8, 2, 3, 4, 7, 4, 3, 4, 5, 7, 1, 6, 7, 2, 4], \"Freq\": [0.28875122476974263, 0.433126837154614, 0.3057645858333588, 0.4586468787500382, 0.3971933219271911, 0.049649165240898886, 0.34754415668629224, 0.09929833048179777, 0.15496987698098186, 0.4649096309429456, 0.10481041218738062, 0.7336728853116643, 0.3769759779590129, 0.3769759779590129, 0.41632193339821477, 0.27754795559880985, 0.04092365431256065, 0.5729311603758491, 0.12277096293768196, 0.1636946172502426, 0.04092365431256065, 0.6372919740818023, 0.5075702781683019, 0.16149963396264153, 0.06921412884113208, 0.16149963396264153, 0.04614275256075472, 0.02307137628037736, 0.1323271085364499, 0.6616355426822496, 0.45334504701429235, 0.22667252350714617, 0.11333626175357309, 0.154318771036959, 0.154318771036959, 0.154318771036959, 0.154318771036959, 0.36971549187398484, 0.24647699458265654, 0.12323849729132827, 0.1254930569664053, 0.3764791708992159, 0.1254930569664053, 0.1254930569664053, 0.32347205140167856, 0.32347205140167856, 0.32407892719571035, 0.32407892719571035, 0.21605261813047358, 0.31151068039619706, 0.31151068039619706, 0.11485487566689341, 0.34456462700068025, 0.22970975133378682, 0.11485487566689341, 0.608720151021703, 0.15440285669034529, 0.15440285669034529, 0.30880571338069057, 0.15440285669034529, 0.37869896593288604, 0.2840242244496646, 0.09467474148322151, 0.43891290167503944, 0.14630430055834648], \"Term\": [\"asx\", \"asx\", \"australian\", \"australian\", \"bank\", \"bank\", \"bank\", \"bank\", \"banks\", \"banks\", \"big\", \"big\", \"business\", \"business\", \"buy\", \"buy\", \"cba\", \"cba\", \"cba\", \"cba\", \"cba\", \"commonwealth\", \"coronavirus\", \"coronavirus\", \"coronavirus\", \"coronavirus\", \"coronavirus\", \"coronavirus\", \"covid-\", \"covid-\", \"crisis\", \"crisis\", \"crisis\", \"cut\", \"cut\", \"cut\", \"cut\", \"dividend\", \"dividend\", \"dividend\", \"home\", \"home\", \"home\", \"home\", \"impact\", \"impact\", \"loan\", \"loan\", \"loan\", \"market\", \"market\", \"mortgage\", \"mortgage\", \"mortgage\", \"mortgage\", \"pandemic\", \"repayment\", \"repayment\", \"repayment\", \"repayment\", \"share\", \"share\", \"share\", \"support\", \"support\"]}, \"R\": 23, \"lambda.step\": 0.01, \"plot.opts\": {\"xlab\": \"PC1\", \"ylab\": \"PC2\"}, \"topic.order\": [5, 9, 10, 3, 8, 6, 4, 7, 1, 2]};\n",
       "\n",
       "function LDAvis_load_lib(url, callback){\n",
       "  var s = document.createElement('script');\n",
       "  s.src = url;\n",
       "  s.async = true;\n",
       "  s.onreadystatechange = s.onload = callback;\n",
       "  s.onerror = function(){console.warn(\"failed to load library \" + url);};\n",
       "  document.getElementsByTagName(\"head\")[0].appendChild(s);\n",
       "}\n",
       "\n",
       "if(typeof(LDAvis) !== \"undefined\"){\n",
       "   // already loaded: just create the visualization\n",
       "   !function(LDAvis){\n",
       "       new LDAvis(\"#\" + \"ldavis_el214345223497800827483353\", ldavis_el214345223497800827483353_data);\n",
       "   }(LDAvis);\n",
       "}else if(typeof define === \"function\" && define.amd){\n",
       "   // require.js is available: use it to load d3/LDAvis\n",
       "   require.config({paths: {d3: \"https://cdnjs.cloudflare.com/ajax/libs/d3/3.5.5/d3.min\"}});\n",
       "   require([\"d3\"], function(d3){\n",
       "      window.d3 = d3;\n",
       "      LDAvis_load_lib(\"https://cdn.rawgit.com/bmabey/pyLDAvis/files/ldavis.v1.0.0.js\", function(){\n",
       "        new LDAvis(\"#\" + \"ldavis_el214345223497800827483353\", ldavis_el214345223497800827483353_data);\n",
       "      });\n",
       "    });\n",
       "}else{\n",
       "    // require.js not available: dynamically load d3 & LDAvis\n",
       "    LDAvis_load_lib(\"https://cdnjs.cloudflare.com/ajax/libs/d3/3.5.5/d3.min.js\", function(){\n",
       "         LDAvis_load_lib(\"https://cdn.rawgit.com/bmabey/pyLDAvis/files/ldavis.v1.0.0.js\", function(){\n",
       "                 new LDAvis(\"#\" + \"ldavis_el214345223497800827483353\", ldavis_el214345223497800827483353_data);\n",
       "            })\n",
       "         });\n",
       "}\n",
       "</script>"
      ],
      "text/plain": [
       "PreparedData(topic_coordinates=                x           y  topics  cluster       Freq\n",
       "topic                                                    \n",
       "4      62.152454  -6.357274    1       1        25.891512\n",
       "8     -6.540152   -0.080668    2       1        17.208928\n",
       "9      22.426962  -62.682190   3       1        13.796082\n",
       "2     -47.532787  -84.454269   4       1        12.165331\n",
       "7     -77.408112  -7.774032    5       1        9.096525 \n",
       "5      130.897675  6.788610    6       1        7.206678 \n",
       "3      101.317535 -76.080582   7       1        6.287262 \n",
       "6      59.037025   66.865730   8       1        3.056913 \n",
       "0     -23.239574   69.214333   9       1        2.645398 \n",
       "1      33.288074  -131.829834  10      1        2.645370 , topic_info=   Category       Freq          Term      Total  loglift  logprob\n",
       "7   Default  24.000000  cba           24.000000  23.0000  23.0000\n",
       "10  Default  7.000000   covid-        7.000000   22.0000  22.0000\n",
       "17  Default  6.000000   market        6.000000   21.0000  21.0000\n",
       "21  Default  10.000000  share         10.000000  20.0000  20.0000\n",
       "4   Default  9.000000   big           9.000000   19.0000  19.0000\n",
       "5   Default  10.000000  business      10.000000  18.0000  18.0000\n",
       "2   Default  20.000000  bank          20.000000  17.0000  17.0000\n",
       "0   Default  6.000000   asx           6.000000   16.0000  16.0000\n",
       "16  Default  9.000000   loan          9.000000   15.0000  15.0000\n",
       "9   Default  43.000000  coronavirus   43.000000  14.0000  14.0000\n",
       "19  Default  6.000000   pandemic      6.000000   13.0000  13.0000\n",
       "14  Default  7.000000   home          7.000000   12.0000  12.0000\n",
       "1   Default  6.000000   australian    6.000000   11.0000  11.0000\n",
       "18  Default  8.000000   mortgage      8.000000   10.0000  10.0000\n",
       "8   Default  7.000000   commonwealth  7.000000   9.0000   9.0000 \n",
       "3   Default  6.000000   banks         6.000000   8.0000   8.0000 \n",
       "20  Default  6.000000   repayment     6.000000   7.0000   7.0000 \n",
       "13  Default  8.000000   dividend      8.000000   6.0000   6.0000 \n",
       "6   Default  7.000000   buy           7.000000   5.0000   5.0000 \n",
       "22  Default  6.000000   support       6.000000   4.0000   4.0000 \n",
       "11  Default  8.000000   crisis        8.000000   3.0000   3.0000 \n",
       "15  Default  6.000000   impact        6.000000   2.0000   2.0000 \n",
       "12  Default  6.000000   cut           6.000000   1.0000   1.0000 \n",
       "8   Topic1   5.150522   commonwealth  7.845697   0.9304  -2.5027 \n",
       "9   Topic1   22.271535  coronavirus   43.343751  0.6854  -1.0385 \n",
       "11  Topic1   3.949669   crisis        8.823301   0.5475  -2.7682 \n",
       "21  Topic1   4.478301   share         10.562479  0.4932  -2.6426 \n",
       "6   Topic1   2.964415   buy           7.205962   0.4630  -3.0551 \n",
       "2   Topic1   7.992147   bank          20.141326  0.4269  -2.0633 \n",
       "17  Topic1   2.491592   market        6.420326   0.4047  -3.2289 \n",
       "13  Topic1   2.829732   dividend      8.114348   0.2978  -3.1016 \n",
       "15  Topic1   1.866231   impact        6.182914   0.1534  -3.5179 \n",
       "0   Topic1   2.013923   asx           6.926378   0.1160  -3.4417 \n",
       "1   Topic1   1.690005   australian    6.540980  -0.0021  -3.6171 \n",
       "12  Topic1   1.065940   cut           6.480093  -0.4536  -4.0779 \n",
       "3   Topic1   0.949449   banks         6.452867  -0.5651  -4.1937 \n",
       "16  Topic1   0.428668   loan          9.257004  -1.7212  -4.9889 \n",
       "19  Topic1   0.238674   pandemic      6.571164  -1.9641  -5.5745 \n",
       "22  Topic1   0.244966   support       6.835069  -1.9774  -5.5484 \n",
       "20  Topic1   0.221613   repayment     6.476564  -2.0238  -5.6486 \n",
       "18  Topic1   0.297200   mortgage      8.706640  -2.0262  -5.3552 \n",
       "7   Topic1   0.825201   cba           24.435745 -2.0369  -4.3339 \n",
       "14  Topic1   0.254492   home          7.968568  -2.0927  -5.5103 \n",
       "10  Topic1   0.233297   covid-        7.557031  -2.1267  -5.5972 \n",
       "4   Topic1   0.231267   big           9.541037  -2.3685  -5.6060 \n",
       "5   Topic1   0.227533   business      10.610756 -2.4911  -5.6223 \n",
       "7   Topic2   14.078289  cba           24.435745  1.2083  -1.0887 \n",
       "22  Topic2   3.490677   support       6.835069   1.0878  -2.4832 \n",
       "5   Topic2   4.454288   business      10.610756  0.8917  -2.2395 \n",
       "15  Topic2   2.156059   impact        6.182914   0.7062  -2.9650 \n",
       "16  Topic2   2.850376   loan          9.257004   0.5818  -2.6859 \n",
       "12  Topic2   1.283835   cut           6.480093   0.1409  -3.4835 \n",
       "9   Topic2   7.115876   coronavirus   43.343751 -0.0471  -1.7710 \n",
       "10  Topic2   0.883277   covid-        7.557031  -0.3869  -3.8574 \n",
       "14  Topic2   0.915298   home          7.968568  -0.4043  -3.8218 \n",
       "18  Topic2   0.626166   mortgage      8.706640  -0.8725  -4.2015 \n",
       "4   Topic2   0.547699   big           9.541037  -1.0979  -4.3353 \n",
       "0   Topic2   0.300884   asx           6.926378  -1.3766  -4.9344 \n",
       "17  Topic2   0.247277   market        6.420326  -1.4970  -5.1306 \n",
       "2   Topic2   0.733139   bank          20.141326 -1.5535  -4.0437 \n",
       "6   Topic2   0.250708   buy           7.205962  -1.5986  -5.1168 \n",
       "19  Topic2   0.228390   pandemic      6.571164  -1.5997  -5.2100 \n",
       "20  Topic2   0.223470   repayment     6.476564  -1.6069  -5.2318 \n",
       "11  Topic2   0.304083   crisis        8.823301  -1.6081  -4.9238 \n",
       "3   Topic2   0.212512   banks         6.452867  -1.6535  -5.2821 \n",
       "8   Topic2   0.255429   commonwealth  7.845697  -1.6650  -5.0981 \n",
       "1   Topic2   0.206279   australian    6.540980  -1.6969  -5.3118 \n",
       "13  Topic2   0.219232   dividend      8.114348  -1.8515  -5.2509 \n",
       "21  Topic2   0.234452   share         10.562479 -2.0481  -5.1838 \n",
       "4   Topic3   6.784178   big           9.541037   1.6398  -1.5977 \n",
       "3   Topic3   3.359341   banks         6.452867   1.3280  -2.3005 \n",
       "18  Topic3   3.247921   mortgage      8.706640   0.9947  -2.3343 \n",
       "2   Topic3   7.490069   bank          20.141326  0.9916  -1.4987 \n",
       "13  Topic3   1.841834   dividend      8.114348   0.4979  -2.9015 \n",
       "11  Topic3   1.812459   crisis        8.823301   0.3981  -2.9176 \n",
       "20  Topic3   1.044764   repayment     6.476564   0.1564  -3.4685 \n",
       "12  Topic3   0.986785   cut           6.480093   0.0987  -3.5256 \n",
       "9   Topic3   2.825349   coronavirus   43.343751 -0.7497  -2.4736 \n",
       "6   Topic3   0.406992   buy           7.205962  -0.8931  -4.4112 \n",
       "22  Topic3   0.355037   support       6.835069  -0.9768  -4.5478 \n",
       "15  Topic3   0.276953   impact        6.182914  -1.1249  -4.7962 \n",
       "19  Topic3   0.292375   pandemic      6.571164  -1.1316  -4.7420 \n",
       "1   Topic3   0.265025   australian    6.540980  -1.2252  -4.8402 \n",
       "17  Topic3   0.257941   market        6.420326  -1.2337  -4.8673 \n",
       "0   Topic3   0.257563   asx           6.926378  -1.3110  -4.8688 \n",
       "10  Topic3   0.274136   covid-        7.557031  -1.3358  -4.8064 \n",
       "8   Topic3   0.247678   commonwealth  7.845697  -1.4748  -4.9079 \n",
       "14  Topic3   0.247566   home          7.968568  -1.4908  -4.9084 \n",
       "16  Topic3   0.278176   loan          9.257004  -1.5241  -4.7918 \n",
       "5   Topic3   0.310786   business      10.610756 -1.5497  -4.6809 \n",
       "21  Topic3   0.297391   share         10.562479 -1.5892  -4.7250 \n",
       "7   Topic3   0.364160   cba           24.435745 -2.2254  -4.5224 \n",
       "19  Topic4   4.167709   pandemic      6.571164   1.6513  -1.9591 \n",
       "14  Topic4   3.344510   home          7.968568   1.2384  -2.1792 \n",
       "6   Topic4   1.975878   buy           7.205962   0.8127  -2.7055 \n",
       "18  Topic4   2.127441   mortgage      8.706640   0.6974  -2.6316 \n",
       "12  Topic4   1.376500   cut           6.480093   0.5574  -3.0669 \n",
       "20  Topic4   1.109776   repayment     6.476564   0.3425  -3.2823 \n",
       "22  Topic4   1.120382   support       6.835069   0.2982  -3.2728 \n",
       "9   Topic4   6.975520   coronavirus   43.343751  0.2798  -1.4441 \n",
       "7   Topic4   3.184317   cba           24.435745  0.0688  -2.2282 \n",
       "15  Topic4   0.336988   impact        6.182914  -0.8029  -4.4742 \n",
       "1   Topic4   0.344621   australian    6.540980  -0.8368  -4.4518 \n",
       "3   Topic4   0.333529   banks         6.452867  -0.8560  -4.4845 \n",
       "17  Topic4   0.262051   market        6.420326  -1.0921  -4.7257 \n",
       "13  Topic4   0.318092   dividend      8.114348  -1.1325  -4.5319 \n",
       "8   Topic4   0.304343   commonwealth  7.845697  -1.1430  -4.5761 \n",
       "0   Topic4   0.249869   asx           6.926378  -1.2156  -4.7733 \n",
       "5   Topic4   0.362858   business      10.610756 -1.2690  -4.4002 \n",
       "16  Topic4   0.313022   loan          9.257004  -1.2803  -4.5480 \n",
       "4   Topic4   0.322144   big           9.541037  -1.2818  -4.5192 \n",
       "10  Topic4   0.250814   covid-        7.557031  -1.2989  -4.7695 \n",
       "11  Topic4   0.272995   crisis        8.823301  -1.3691  -4.6848 \n",
       "21  Topic4   0.251347   share         10.562479 -1.6316  -4.7674 \n",
       "2   Topic4   0.257050   bank          20.141326 -2.2547  -4.7450 \n",
       "1   Topic5   2.611092   australian    6.540980   1.4790  -2.1360 \n",
       "5   Topic5   3.887367   business      10.610756  1.3931  -1.7381 \n",
       "16  Topic5   2.680326   loan          9.257004   1.1578  -2.1098 \n",
       "20  Topic5   1.835152   repayment     6.476564   1.1362  -2.4887 \n",
       "14  Topic5   1.081637   home          7.968568   0.4002  -3.0173 \n",
       "11  Topic5   1.068897   crisis        8.823301   0.2865  -3.0292 \n",
       "2   Topic5   2.061972   bank          20.141326  0.1182  -2.3721 \n",
       "8   Topic5   0.480909   commonwealth  7.845697  -0.3948  -3.8279 \n",
       "13  Topic5   0.479792   dividend      8.114348  -0.4308  -3.8302 \n",
       "9   Topic5   2.423018   coronavirus   43.343751 -0.4869  -2.2108 \n",
       "17  Topic5   0.337046   market        6.420326  -0.5497  -4.1833 \n",
       "3   Topic5   0.266058   banks         6.452867  -0.7913  -4.4198 \n",
       "0   Topic5   0.284034   asx           6.926378  -0.7967  -4.3544 \n",
       "15  Topic5   0.250566   impact        6.182914  -0.8085  -4.4798 \n",
       "19  Topic5   0.263472   pandemic      6.571164  -0.8192  -4.4296 \n",
       "22  Topic5   0.270155   support       6.835069  -0.8335  -4.4045 \n",
       "12  Topic5   0.244286   cut           6.480093  -0.8809  -4.5052 \n",
       "6   Topic5   0.257630   buy           7.205962  -0.9339  -4.4520 \n",
       "10  Topic5   0.248865   covid-        7.557031  -1.0160  -4.4866 \n",
       "18  Topic5   0.266310   mortgage      8.706640  -1.0899  -4.4189 \n",
       "21  Topic5   0.318067   share         10.562479 -1.1055  -4.2413 \n",
       "4   Topic5   0.249022   big           9.541037  -1.2485  -4.4860 \n",
       "7   Topic5   0.238883   cba           24.435745 -2.2306  -4.5276 \n",
       "0   Topic6   2.754712   asx           6.926378   1.7081  -1.8496 \n",
       "21  Topic6   2.861851   share         10.562479  1.3243  -1.8114 \n",
       "13  Topic6   1.435752   dividend      8.114348   0.8982  -2.5012 \n",
       "7   Topic6   4.208464   cba           24.435745  0.8712  -1.4258 \n",
       "12  Topic6   0.409090   cut           6.480093  -0.1324  -3.7567 \n",
       "22  Topic6   0.380146   support       6.835069  -0.2591  -3.8301 \n",
       "17  Topic6   0.339380   market        6.420326  -0.3099  -3.9435 \n",
       "1   Topic6   0.334288   australian    6.540980  -0.3437  -3.9587 \n",
       "19  Topic6   0.321489   pandemic      6.571164  -0.3873  -3.9977 \n",
       "20  Topic6   0.309308   repayment     6.476564  -0.4114  -4.0363 \n",
       "15  Topic6   0.293550   impact        6.182914  -0.4173  -4.0886 \n",
       "6   Topic6   0.318774   buy           7.205962  -0.4880  -4.0062 \n",
       "3   Topic6   0.273858   banks         6.452867  -0.5295  -4.1580 \n",
       "10  Topic6   0.314610   covid-        7.557031  -0.5487  -4.0193 \n",
       "8   Topic6   0.319698   commonwealth  7.845697  -0.5702  -4.0033 \n",
       "11  Topic6   0.346658   crisis        8.823301  -0.6067  -3.9223 \n",
       "14  Topic6   0.306764   home          7.968568  -0.6270  -4.0446 \n",
       "5   Topic6   0.381590   business      10.610756 -0.6951  -3.8263 \n",
       "18  Topic6   0.308017   mortgage      8.706640  -0.7115  -4.0405 \n",
       "16  Topic6   0.299420   loan          9.257004  -0.8011  -4.0688 \n",
       "4   Topic6   0.293632   big           9.541037  -0.8509  -4.0883 \n",
       "2   Topic6   0.401831   bank          20.141326 -1.2843  -3.7746 \n",
       "9   Topic6   0.299346   coronavirus   43.343751 -2.3452  -4.0691 \n",
       "10  Topic7   4.571261   covid-        7.557031   2.2640  -1.2066 \n",
       "16  Topic7   1.634242   loan          9.257004   1.0324  -2.2352 \n",
       "20  Topic7   0.975098   repayment     6.476564   0.8732  -2.7516 \n",
       "21  Topic7   1.345339   share         10.562479  0.7060  -2.4298 \n",
       "14  Topic7   0.985610   home          7.968568   0.6766  -2.7409 \n",
       "18  Topic7   0.972549   mortgage      8.706640   0.5747  -2.7543 \n",
       "12  Topic7   0.271793   cut           6.480093  -0.4048  -4.0291 \n",
       "3   Topic7   0.254876   banks         6.452867  -0.4649  -4.0934 \n",
       "1   Topic7   0.257043   australian    6.540980  -0.4700  -4.0849 \n",
       "17  Topic7   0.251068   market        6.420326  -0.4749  -4.1084 \n",
       "0   Topic7   0.270417   asx           6.926378  -0.4765  -4.0342 \n",
       "4   Topic7   0.361730   big           9.541037  -0.5058  -3.7433 \n",
       "15  Topic7   0.215474   impact        6.182914  -0.5901  -4.2613 \n",
       "22  Topic7   0.237826   support       6.835069  -0.5916  -4.1626 \n",
       "19  Topic7   0.224296   pandemic      6.571164  -0.6108  -4.2212 \n",
       "8   Topic7   0.239623   commonwealth  7.845697  -0.7220  -4.1551 \n",
       "6   Topic7   0.212073   buy           7.205962  -0.7591  -4.2772 \n",
       "11  Topic7   0.258641   crisis        8.823301  -0.7631  -4.0787 \n",
       "13  Topic7   0.231866   dividend      8.114348  -0.7886  -4.1880 \n",
       "7   Topic7   0.686067   cba           24.435745 -0.8062  -3.1032 \n",
       "5   Topic7   0.235216   business      10.610756 -1.0425  -4.1737 \n",
       "2   Topic7   0.356778   bank          20.141326 -1.2668  -3.7571 \n",
       "9   Topic7   0.229160   coronavirus   43.343751 -2.4759  -4.1997 \n",
       "17  Topic8   1.692457   market        6.420326   2.1545  -1.4791 \n",
       "15  Topic8   0.274915   impact        6.182914   0.3747  -3.2966 \n",
       "19  Topic8   0.290455   pandemic      6.571164   0.3688  -3.2416 \n",
       "12  Topic8   0.284684   cut           6.480093   0.3627  -3.2617 \n",
       "1   Topic8   0.281367   australian    6.540980   0.3416  -3.2734 \n",
       "22  Topic8   0.275262   support       6.835069   0.2757  -3.2953 \n",
       "3   Topic8   0.252299   banks         6.452867   0.2461  -3.3824 \n",
       "20  Topic8   0.253104   repayment     6.476564   0.2456  -3.3793 \n",
       "6   Topic8   0.270624   buy           7.205962   0.2058  -3.3123 \n",
       "0   Topic8   0.257871   asx           6.926378   0.1971  -3.3606 \n",
       "13  Topic8   0.286699   dividend      8.114348   0.1448  -3.2546 \n",
       "11  Topic8   0.289474   crisis        8.823301   0.0707  -3.2450 \n",
       "14  Topic8   0.260341   home          7.968568   0.0665  -3.3511 \n",
       "10  Topic8   0.237123   covid-        7.557031   0.0261  -3.4445 \n",
       "8   Topic8   0.237759   commonwealth  7.845697  -0.0087  -3.4418 \n",
       "16  Topic8   0.256000   loan          9.257004  -0.1002  -3.3679 \n",
       "18  Topic8   0.232685   mortgage      8.706640  -0.1344  -3.4634 \n",
       "4   Topic8   0.251417   big           9.541037  -0.1485  -3.3859 \n",
       "21  Topic8   0.273586   share         10.562479 -0.1657  -3.3014 \n",
       "5   Topic8   0.236018   business      10.610756 -0.3179  -3.4491 \n",
       "2   Topic8   0.264098   bank          20.141326 -0.8464  -3.3367 \n",
       "7   Topic8   0.234734   cba           24.435745 -1.1576  -3.4546 \n",
       "9   Topic8   0.235326   coronavirus   43.343751 -1.7282  -3.4521 \n",
       "19  Topic9   0.295379   pandemic      6.571164   0.5302  -3.0802 \n",
       "18  Topic9   0.380484   mortgage      8.706640   0.5020  -2.8270 \n",
       "12  Topic9   0.282434   cut           6.480093   0.4993  -3.1250 \n",
       "15  Topic9   0.266019   impact        6.182914   0.4864  -3.1849 \n",
       "14  Topic9   0.329243   home          7.968568   0.4459  -2.9717 \n",
       "17  Topic9   0.263434   market        6.420326   0.4389  -3.1947 \n",
       "20  Topic9   0.254679   repayment     6.476564   0.3964  -3.2285 \n",
       "10  Topic9   0.290515   covid-        7.557031   0.3738  -3.0968 \n",
       "3   Topic9   0.245851   banks         6.452867   0.3648  -3.2637 \n",
       "8   Topic9   0.284356   commonwealth  7.845697   0.3149  -3.1182 \n",
       "1   Topic9   0.230278   australian    6.540980   0.2858  -3.3292 \n",
       "0   Topic9   0.242768   asx           6.926378   0.2814  -3.2764 \n",
       "6   Topic9   0.239239   buy           7.205962   0.2271  -3.2910 \n",
       "22  Topic9   0.220992   support       6.835069   0.2007  -3.3703 \n",
       "11  Topic9   0.253214   crisis        8.823301   0.0814  -3.2342 \n",
       "13  Topic9   0.226655   dividend      8.114348   0.0544  -3.3450 \n",
       "16  Topic9   0.245322   loan          9.257004   0.0018  -3.2659 \n",
       "4   Topic9   0.251447   big           9.541037  -0.0038  -3.2412 \n",
       "21  Topic9   0.236579   share         10.562479 -0.1664  -3.3022 \n",
       "5   Topic9   0.232196   business      10.610756 -0.1897  -3.3209 \n",
       "2   Topic9   0.310103   bank          20.141326 -0.5413  -3.0316 \n",
       "7   Topic9   0.307071   cba           24.435745 -0.7444  -3.0414 \n",
       "9   Topic9   0.540057   coronavirus   43.343751 -0.7529  -2.4768 \n",
       "1   Topic10  0.320982   australian    6.540980   0.6179  -2.9971 \n",
       "3   Topic10  0.305093   banks         6.452867   0.5807  -3.0478 \n",
       "17  Topic10  0.278079   market        6.420326   0.4930  -3.1406 \n",
       "6   Topic10  0.309630   buy           7.205962   0.4851  -3.0331 \n",
       "0   Topic10  0.294337   asx           6.926378   0.4740  -3.0837 \n",
       "12  Topic10  0.274744   cut           6.480093   0.4717  -3.1526 \n",
       "8   Topic10  0.325379   commonwealth  7.845697   0.4496  -2.9835 \n",
       "15  Topic10  0.246158   impact        6.182914   0.4088  -3.2625 \n",
       "20  Topic10  0.249600   repayment     6.476564   0.3763  -3.2486 \n",
       "19  Topic10  0.248927   pandemic      6.571164   0.3591  -3.2513 \n",
       "22  Topic10  0.239626   support       6.835069   0.2816  -3.2894 \n",
       "10  Topic10  0.253132   covid-        7.557031   0.2360  -3.2345 \n",
       "14  Topic10  0.243106   home          7.968568   0.1426  -3.2750 \n",
       "11  Topic10  0.267211   crisis        8.823301   0.1352  -3.1804 \n",
       "13  Topic10  0.244694   dividend      8.114348   0.1310  -3.2685 \n",
       "16  Topic10  0.271452   loan          9.257004   0.1030  -3.1647 \n",
       "18  Topic10  0.247867   mortgage      8.706640   0.0734  -3.2556 \n",
       "5   Topic10  0.282904   business      10.610756  0.0078  -3.1234 \n",
       "4   Topic10  0.248501   big           9.541037  -0.0156  -3.2530 \n",
       "21  Topic10  0.265566   share         10.562479 -0.0508  -3.1866 \n",
       "2   Topic10  0.274139   bank          20.141326 -0.6645  -3.1548 \n",
       "7   Topic10  0.308558   cba           24.435745 -0.7395  -3.0365 \n",
       "9   Topic10  0.428564   coronavirus   43.343751 -0.9841  -2.7080 , token_table=      Topic      Freq          Term\n",
       "term                               \n",
       "0     1      0.288751  asx         \n",
       "0     6      0.433127  asx         \n",
       "1     1      0.305765  australian  \n",
       "1     5      0.458647  australian  \n",
       "2     1      0.397193  bank        \n",
       "2     2      0.049649  bank        \n",
       "2     3      0.347544  bank        \n",
       "2     5      0.099298  bank        \n",
       "3     1      0.154970  banks       \n",
       "3     3      0.464910  banks       \n",
       "4     2      0.104810  big         \n",
       "4     3      0.733673  big         \n",
       "5     2      0.376976  business    \n",
       "5     5      0.376976  business    \n",
       "6     1      0.416322  buy         \n",
       "6     4      0.277548  buy         \n",
       "7     1      0.040924  cba         \n",
       "7     2      0.572931  cba         \n",
       "7     4      0.122771  cba         \n",
       "7     6      0.163695  cba         \n",
       "7     7      0.040924  cba         \n",
       "8     1      0.637292  commonwealth\n",
       "9     1      0.507570  coronavirus \n",
       "9     2      0.161500  coronavirus \n",
       "9     3      0.069214  coronavirus \n",
       "9     4      0.161500  coronavirus \n",
       "9     5      0.046143  coronavirus \n",
       "9     9      0.023071  coronavirus \n",
       "10    2      0.132327  covid-      \n",
       "10    7      0.661636  covid-      \n",
       "11    1      0.453345  crisis      \n",
       "11    3      0.226673  crisis      \n",
       "11    5      0.113336  crisis      \n",
       "12    1      0.154319  cut         \n",
       "12    2      0.154319  cut         \n",
       "12    3      0.154319  cut         \n",
       "12    4      0.154319  cut         \n",
       "13    1      0.369715  dividend    \n",
       "13    3      0.246477  dividend    \n",
       "13    6      0.123238  dividend    \n",
       "14    2      0.125493  home        \n",
       "14    4      0.376479  home        \n",
       "14    5      0.125493  home        \n",
       "14    7      0.125493  home        \n",
       "15    1      0.323472  impact      \n",
       "15    2      0.323472  impact      \n",
       "16    2      0.324079  loan        \n",
       "16    5      0.324079  loan        \n",
       "16    7      0.216053  loan        \n",
       "17    1      0.311511  market      \n",
       "17    8      0.311511  market      \n",
       "18    2      0.114855  mortgage    \n",
       "18    3      0.344565  mortgage    \n",
       "18    4      0.229710  mortgage    \n",
       "18    7      0.114855  mortgage    \n",
       "19    4      0.608720  pandemic    \n",
       "20    3      0.154403  repayment   \n",
       "20    4      0.154403  repayment   \n",
       "20    5      0.308806  repayment   \n",
       "20    7      0.154403  repayment   \n",
       "21    1      0.378699  share       \n",
       "21    6      0.284024  share       \n",
       "21    7      0.094675  share       \n",
       "22    2      0.438913  support     \n",
       "22    4      0.146304  support     , R=23, lambda_step=0.01, plot_opts={'xlab': 'PC1', 'ylab': 'PC2'}, topic_order=[5, 9, 10, 3, 8, 6, 4, 7, 1, 2])"
      ]
     },
     "execution_count": 54,
     "metadata": {},
     "output_type": "execute_result"
    }
   ],
   "source": [
    "pyLDAvis.enable_notebook()\n",
    "dash = pyLDAvis.sklearn.prepare(lda, data_vectorized, vectorizer, mds='tsne')\n",
    "dash"
   ]
  },
  {
   "cell_type": "code",
   "execution_count": null,
   "metadata": {},
   "outputs": [],
   "source": []
  }
 ],
 "metadata": {
  "kernelspec": {
   "display_name": "Python 3",
   "language": "python",
   "name": "python3"
  },
  "language_info": {
   "codemirror_mode": {
    "name": "ipython",
    "version": 3
   },
   "file_extension": ".py",
   "mimetype": "text/x-python",
   "name": "python",
   "nbconvert_exporter": "python",
   "pygments_lexer": "ipython3",
   "version": "3.7.3"
  }
 },
 "nbformat": 4,
 "nbformat_minor": 2
}
